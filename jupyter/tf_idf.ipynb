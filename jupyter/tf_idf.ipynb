{
 "cells": [
  {
   "cell_type": "code",
   "execution_count": 1,
   "metadata": {},
   "outputs": [
    {
     "name": "stdout",
     "output_type": "stream",
     "text": [
      "Anarchism\tPolitical ideologies\tSocial theories\tPolitical culture\tAnti-capitalism\tFar-left politics\tAnarchism\n",
      "['anarch', 'polit', 'ideolog', 'social', 'theori', 'polit', 'cultur', 'anti-capit', 'far-left', 'polit', 'anarch']\n",
      "Değnek\tVillages by country\tRegions of Turkey\tPopulated places in Turkey by province\n",
      "['değnek', 'villag', 'countri', 'region', 'turkey', 'popul', 'place', 'turkey', 'provinc']\n",
      "Queensland Conservatorium Griffith University\tUniversities by country\tEntertainment in Australia\tAustralian capital cities\n",
      "['queensland', 'conservatorium', 'griffith', 'univers', 'univers', 'countri', 'entertain', 'australia', 'australian', 'capit', 'citi']\n",
      "Octagon Chapel, Liverpool\tChurches\tBuildings and structures in England by city\n",
      "['octagon', 'chapel', ',', 'liverpool', 'church', 'build', 'structur', 'england', 'citi']\n"
     ]
    }
   ],
   "source": [
    "from nltk.stem import PorterStemmer\n",
    "from nltk.tokenize import word_tokenize\n",
    "from nltk.corpus import stopwords\n",
    "from pathlib import Path\n",
    "\n",
    "\n",
    "basename = \"enwiki-2016\"\n",
    "cat_file = Path(\"/data/graphs\") / basename / \"page2cat.tsv\"\n",
    "cat_list = []\n",
    "ps = PorterStemmer()\n",
    "for pos, line in enumerate(cat_file.open(encoding=\"utf-8\")):\n",
    "    temp = line.rstrip()\n",
    "    words = word_tokenize(temp)\n",
    "    final = [ps.stem(i) for i in words if i not in stopwords.words('english')]\n",
    "    print(temp)\n",
    "    print(final)\n",
    "    if pos > 2:\n",
    "        break"
   ]
  },
  {
   "cell_type": "code",
   "execution_count": 3,
   "metadata": {},
   "outputs": [],
   "source": [
    "%load_ext line_profiler"
   ]
  },
  {
   "cell_type": "code",
   "execution_count": 11,
   "metadata": {},
   "outputs": [],
   "source": [
    "from collections import defaultdict\n",
    "\n",
    "\n",
    "def build_cat_dict(cat_file):\n",
    "    categories = defaultdict(list)\n",
    "    for pos, line in enumerate(cat_file.open(encoding=\"utf-8\")):\n",
    "        temp = line.rstrip().split(\"\\t\", 1)\n",
    "        try:\n",
    "            key, raw_cat = temp[0], temp[1]\n",
    "        except IndexError:\n",
    "            continue\n",
    "        categories[key] = preprocess_categs(raw_cat)\n",
    "        if pos > 100:\n",
    "            break\n",
    "    return categories\n",
    "\n",
    "\n",
    "def preprocess_categs(raw_categs):\n",
    "    words = word_tokenize(raw_categs)\n",
    "    doc = []\n",
    "    for i in words:\n",
    "        if i not in stopwords.words('english'):\n",
    "            doc.append(ps.stem(i))\n",
    "    return doc"
   ]
  },
  {
   "cell_type": "code",
   "execution_count": 12,
   "metadata": {},
   "outputs": [],
   "source": [
    "%lprun -f build_cat_dict build_cat_dict(cat_file)"
   ]
  },
  {
   "cell_type": "code",
   "execution_count": 13,
   "metadata": {},
   "outputs": [],
   "source": [
    "%lprun -f preprocess_categs build_cat_dict(cat_file)"
   ]
  },
  {
   "cell_type": "code",
   "execution_count": 14,
   "metadata": {},
   "outputs": [],
   "source": [
    "def preprocess_categs(raw_categs):\n",
    "    words = word_tokenize(raw_categs)\n",
    "    return [ps.stem(w) for w in words]"
   ]
  },
  {
   "cell_type": "code",
   "execution_count": 15,
   "metadata": {},
   "outputs": [],
   "source": [
    "%lprun -f preprocess_categs build_cat_dict(cat_file)"
   ]
  },
  {
   "cell_type": "code",
   "execution_count": 16,
   "metadata": {},
   "outputs": [],
   "source": [
    "def build_cat_dict(cat_file):\n",
    "    categories = defaultdict(list)\n",
    "    stopw = set(stopwords.words('english'))\n",
    "    for pos, line in enumerate(cat_file.open(encoding=\"utf-8\")):\n",
    "        temp = line.rstrip().split(\"\\t\", 1)\n",
    "        try:\n",
    "            key, raw_cat = temp[0], temp[1]\n",
    "        except IndexError:\n",
    "            continue\n",
    "        categories[key] = preprocess_categs(raw_cat, stopw)\n",
    "        if pos > 100:\n",
    "            break\n",
    "    return categories\n",
    "\n",
    "\n",
    "def preprocess_categs(raw_categs, stopwords):\n",
    "    words = word_tokenize(raw_categs)\n",
    "    return [ps.stem(w) for w in words if w not in stopwords]"
   ]
  },
  {
   "cell_type": "code",
   "execution_count": 17,
   "metadata": {},
   "outputs": [],
   "source": [
    "%lprun -f preprocess_categs build_cat_dict(cat_file)"
   ]
  },
  {
   "cell_type": "code",
   "execution_count": 20,
   "metadata": {},
   "outputs": [],
   "source": [
    "from tqdm import tqdm\n",
    "from collections import OrderedDict\n",
    "\n",
    "\n",
    "def build_cat_dict(cat_file):\n",
    "    categories = defaultdict(list)\n",
    "    stopw = set(stopwords.words('english'))\n",
    "    num_lines = sum(1 for _ in cat_file.open(encoding=\"utf-8\"))\n",
    "    for pos, line in enumerate(tqdm(cat_file.open(encoding=\"utf-8\"), total=num_lines)):\n",
    "        temp = line.rstrip().split(\"\\t\", 1)\n",
    "        try:\n",
    "            key, raw_cat = temp[0], temp[1]\n",
    "        except IndexError:\n",
    "            continue\n",
    "        categories[key] = preprocess_categs(raw_cat, stopw)\n",
    "    return categories"
   ]
  },
  {
   "cell_type": "code",
   "execution_count": null,
   "metadata": {},
   "outputs": [
    {
     "name": "stderr",
     "output_type": "stream",
     "text": [
      " 18%|█▊        | 792668/4289768 [06:31<28:31, 2042.79it/s]"
     ]
    }
   ],
   "source": [
    "categs = build_cat_dict(cat_file)"
   ]
  },
  {
   "cell_type": "code",
   "execution_count": 25,
   "metadata": {},
   "outputs": [
    {
     "data": {
      "text/plain": [
       "3192605"
      ]
     },
     "execution_count": 25,
     "metadata": {},
     "output_type": "execute_result"
    }
   ],
   "source": [
    "len(categs)"
   ]
  },
  {
   "cell_type": "code",
   "execution_count": 27,
   "metadata": {},
   "outputs": [
    {
     "data": {
      "text/plain": [
       "['polit',\n",
       " 'ideolog',\n",
       " 'social',\n",
       " 'theori',\n",
       " 'polit',\n",
       " 'cultur',\n",
       " 'anti-capit',\n",
       " 'far-left',\n",
       " 'polit',\n",
       " 'anarch']"
      ]
     },
     "execution_count": 27,
     "metadata": {},
     "output_type": "execute_result"
    }
   ],
   "source": [
    "categs['Anarchism']"
   ]
  },
  {
   "cell_type": "markdown",
   "metadata": {},
   "source": [
    "# TF-IDF"
   ]
  },
  {
   "cell_type": "code",
   "execution_count": 28,
   "metadata": {},
   "outputs": [],
   "source": [
    "from sklearn.feature_extraction.text import TfidfVectorizer"
   ]
  },
  {
   "cell_type": "code",
   "execution_count": 34,
   "metadata": {},
   "outputs": [
    {
     "data": {
      "text/plain": [
       "3192605"
      ]
     },
     "execution_count": 34,
     "metadata": {},
     "output_type": "execute_result"
    }
   ],
   "source": [
    "docs = [' '.join(i) for i in categs.values()]\n",
    "len(docs)"
   ]
  },
  {
   "cell_type": "code",
   "execution_count": 37,
   "metadata": {},
   "outputs": [
    {
     "name": "stdout",
     "output_type": "stream",
     "text": [
      "polit ideolog social theori polit cultur anti-capit far-left polit anarch\n",
      "villag countri region turkey popul place turkey provinc\n",
      "univers countri entertain australia australian capit citi\n",
      "church build structur england citi\n",
      "peopl statu peopl ethnic peopl ethnic occup indian peopl film director\n",
      "scottish societi alumni univers colleg europ poetri nation languag scottish peopl occup\n",
      "plant\n"
     ]
    }
   ],
   "source": [
    "for pos, value in enumerate(docs):\n",
    "    print(' '.join(value))\n",
    "    if pos > 5:\n",
    "        break"
   ]
  },
  {
   "cell_type": "code",
   "execution_count": 44,
   "metadata": {},
   "outputs": [],
   "source": [
    "sklearn_tfidf = TfidfVectorizer(norm='l2', min_df=0, use_idf=True, smooth_idf=False, sublinear_tf=True)\n",
    "sklearn_representation = sklearn_tfidf.fit_transform(docs)\n",
    "type(sklearn_representation)"
   ]
  },
  {
   "cell_type": "code",
   "execution_count": 47,
   "metadata": {},
   "outputs": [
    {
     "data": {
      "text/plain": [
       "(3192605, 2461)"
      ]
     },
     "execution_count": 47,
     "metadata": {},
     "output_type": "execute_result"
    }
   ],
   "source": [
    "sklearn_representation.shape"
   ]
  },
  {
   "cell_type": "code",
   "execution_count": 48,
   "metadata": {},
   "outputs": [
    {
     "data": {
      "text/plain": [
       "array([[0.]])"
      ]
     },
     "execution_count": 48,
     "metadata": {},
     "output_type": "execute_result"
    }
   ],
   "source": [
    "from sklearn.metrics.pairwise import cosine_similarity\n",
    "\n",
    "x1 = sklearn_representation[0]\n",
    "x2 = sklearn_representation[1]\n",
    "cosine_similarity(x1, x2)"
   ]
  },
  {
   "cell_type": "markdown",
   "metadata": {},
   "source": [
    "Learning it right:"
   ]
  },
  {
   "cell_type": "code",
   "execution_count": 87,
   "metadata": {},
   "outputs": [],
   "source": [
    "key_list = []\n",
    "docs_list = []\n",
    "for key, value in categs.items():\n",
    "    key_list.append(key)\n",
    "    docs_list.append(' '.join(value))"
   ]
  },
  {
   "cell_type": "code",
   "execution_count": 88,
   "metadata": {},
   "outputs": [],
   "source": [
    "doc_repr = sklearn_tfidf.fit_transform(docs_list)"
   ]
  },
  {
   "cell_type": "markdown",
   "metadata": {},
   "source": [
    "# Plots"
   ]
  },
  {
   "cell_type": "code",
   "execution_count": 50,
   "metadata": {},
   "outputs": [],
   "source": [
    "import sys\n",
    "\n",
    "p = Path('.').resolve()\n",
    "sys.path.append(str(p.parent))\n",
    "from utils.data_utils import load_data"
   ]
  },
  {
   "cell_type": "code",
   "execution_count": 51,
   "metadata": {},
   "outputs": [
    {
     "name": "stdout",
     "output_type": "stream",
     "text": [
      "Labels not defined\n",
      "Labels not defined\n",
      "Labels not defined\n",
      "Labels not defined\n",
      "Labels not defined\n",
      "Labels not defined\n",
      "Labels not defined\n",
      "Labels not defined\n",
      "Labels not defined\n",
      "Labels not defined\n",
      "Labels not defined\n",
      "Labels not defined\n",
      "Labels not defined\n",
      "Labels not defined\n",
      "Labels not defined\n",
      "Labels not defined\n",
      "Labels not defined\n",
      "Labels not defined\n",
      "Labels not defined\n",
      "Labels not defined\n"
     ]
    }
   ],
   "source": [
    "x, y = load_data(Path(\"/data/models/enwiki-2016\"))"
   ]
  },
  {
   "cell_type": "code",
   "execution_count": 150,
   "metadata": {},
   "outputs": [],
   "source": [
    "import numpy as np\n",
    "import scipy\n",
    "from scipy.spatial.distance import pdist\n",
    "\n",
    "\n",
    "def get_id(basename, idx, ent_list):\n",
    "    \"\"\"\n",
    "    Idx is currently a list.\n",
    "    \"\"\"\n",
    "    ids_file = Path('/data/graphs/') / basename / (basename + '.urls')\n",
    "    if not ids_file.exists():\n",
    "        ids_file = Path('/data/graphs/') / basename / (basename + '.ids')\n",
    "    assert ids_file.exists(), \"File not found!\"\n",
    "    f = ids_file.as_posix()\n",
    "    for node in idx:\n",
    "        line = ent_list[node]\n",
    "        yield linecache.getline(f, line + 1).rstrip()\n",
    "\n",
    "\n",
    "\n",
    "def cosineSim_vs_distance(x, categories, entities, key_list, doc_list, n=100, dense_out=True):\n",
    "    \"\"\"\n",
    "    \"\"\"\n",
    "    subset = np.random.choice(len(x), n, replace=False)\n",
    "    ids = [i for i in get_id(\"enwiki-2016\", subset, entities)]\n",
    "    # polishing\n",
    "    print(\"Removing nodes not contained in the categories dictionary..\")\n",
    "    indices = []\n",
    "    for pos, value in enumerate(ids):\n",
    "        if value in categories:\n",
    "            if len(categories[value]) > 0: # this should always be true\n",
    "                indices.append(pos)\n",
    "    # keep only relevant ids and associated embeddings\n",
    "    ids = [ids[i] for i in indices]\n",
    "    subset = [subset[i] for i in indices]\n",
    "    print(\"Effective number of nodes: {}\".format(len(ids)))\n",
    "    # compute\n",
    "    mat = []\n",
    "    for i in ids:\n",
    "        idx = key_list.index(i)\n",
    "        mat.append(doc_list[idx])\n",
    "    print(len(mat))\n",
    "    mat = scipy.sparse.vstack(mat)\n",
    "    similarities_sparse = cosine_similarity(mat, dense_output=dense_out)\n",
    "    dist = pdist(x[subset], 'euclidean')\n",
    "    return similarities_sparse, dist, ids\n"
   ]
  },
  {
   "cell_type": "markdown",
   "metadata": {},
   "source": [
    "# Test on 10 points"
   ]
  },
  {
   "cell_type": "code",
   "execution_count": 122,
   "metadata": {
    "scrolled": true
   },
   "outputs": [
    {
     "name": "stdout",
     "output_type": "stream",
     "text": [
      "Removing nodes not contained in the categories dictionary..\n",
      "Effective number of nodes: 7\n",
      "7\n"
     ]
    }
   ],
   "source": [
    "temp1, temp2, temp3 = cosineSim_vs_distance(x, categs, entities, key_list, doc_repr, n=10)"
   ]
  },
  {
   "cell_type": "code",
   "execution_count": 140,
   "metadata": {},
   "outputs": [
    {
     "data": {
      "text/plain": [
       "<7x7 sparse matrix of type '<class 'numpy.float64'>'\n",
       "\twith 11 stored elements in Compressed Sparse Row format>"
      ]
     },
     "execution_count": 140,
     "metadata": {},
     "output_type": "execute_result"
    }
   ],
   "source": [
    "temp1"
   ]
  },
  {
   "cell_type": "code",
   "execution_count": 124,
   "metadata": {},
   "outputs": [
    {
     "name": "stdout",
     "output_type": "stream",
     "text": [
      "  (0, 6)\t0.1757733968820497\n",
      "  (2, 5)\t0.13781724510952068\n"
     ]
    }
   ],
   "source": [
    "print(scipy.sparse.triu(temp1, k=1))"
   ]
  },
  {
   "cell_type": "code",
   "execution_count": 141,
   "metadata": {},
   "outputs": [
    {
     "data": {
      "text/plain": [
       "21"
      ]
     },
     "execution_count": 141,
     "metadata": {},
     "output_type": "execute_result"
    }
   ],
   "source": [
    "len(temp2)"
   ]
  },
  {
   "cell_type": "code",
   "execution_count": 125,
   "metadata": {},
   "outputs": [
    {
     "data": {
      "text/plain": [
       "['Mikel Ruffinelli',\n",
       " 'Secretary of State of Texas',\n",
       " 'Stronger (Carlene Carter album)',\n",
       " 'Central Public Works Department, India',\n",
       " 'Molecular probe',\n",
       " 'Sundbyhagen',\n",
       " 'Jason Kendall']"
      ]
     },
     "execution_count": 125,
     "metadata": {},
     "output_type": "execute_result"
    }
   ],
   "source": [
    "temp3"
   ]
  },
  {
   "cell_type": "code",
   "execution_count": 126,
   "metadata": {},
   "outputs": [
    {
     "data": {
      "text/plain": [
       "['peopl', 'statu', 'health', 'unit', 'state', 'lo', 'angel', ',', 'california']"
      ]
     },
     "execution_count": 126,
     "metadata": {},
     "output_type": "execute_result"
    }
   ],
   "source": [
    "categs[\"Mikel Ruffinelli\"]"
   ]
  },
  {
   "cell_type": "code",
   "execution_count": 127,
   "metadata": {},
   "outputs": [
    {
     "data": {
      "text/plain": [
       "['peopl',\n",
       " 'statu',\n",
       " 'minor',\n",
       " 'leagu',\n",
       " 'basebal',\n",
       " 'player',\n",
       " 'team',\n",
       " 'sport',\n",
       " 'unit',\n",
       " 'state',\n",
       " 'citi',\n",
       " 'basebal',\n",
       " 'player',\n",
       " 'team',\n",
       " 'major',\n",
       " 'leagu',\n",
       " 'basebal',\n",
       " 'sport',\n",
       " 'california']"
      ]
     },
     "execution_count": 127,
     "metadata": {},
     "output_type": "execute_result"
    }
   ],
   "source": [
    "categs[\"Jason Kendall\"]"
   ]
  },
  {
   "cell_type": "code",
   "execution_count": 128,
   "metadata": {},
   "outputs": [
    {
     "data": {
      "text/plain": [
       "['countri', 'album', 'american', 'artist']"
      ]
     },
     "execution_count": 128,
     "metadata": {},
     "output_type": "execute_result"
    }
   ],
   "source": [
    "categs[\"Stronger (Carlene Carter album)\"]"
   ]
  },
  {
   "cell_type": "code",
   "execution_count": 129,
   "metadata": {},
   "outputs": [
    {
     "data": {
      "text/plain": [
       "['villag', 'countri']"
      ]
     },
     "execution_count": 129,
     "metadata": {},
     "output_type": "execute_result"
    }
   ],
   "source": [
    "categs[\"Sundbyhagen\"]"
   ]
  },
  {
   "cell_type": "markdown",
   "metadata": {},
   "source": [
    "# Test on 1000 points"
   ]
  },
  {
   "cell_type": "code",
   "execution_count": 151,
   "metadata": {},
   "outputs": [
    {
     "name": "stdout",
     "output_type": "stream",
     "text": [
      "Removing nodes not contained in the categories dictionary..\n",
      "Effective number of nodes: 626\n",
      "626\n"
     ]
    }
   ],
   "source": [
    "cos_sim, dist, ids = cosineSim_vs_distance(x, categs, entities, key_list, doc_repr, n=1000)"
   ]
  },
  {
   "cell_type": "code",
   "execution_count": 131,
   "metadata": {},
   "outputs": [
    {
     "name": "stdout",
     "output_type": "stream",
     "text": [
      "Removing nodes not contained in the categories dictionary..\n",
      "Effective number of nodes: 64\n",
      "64\n"
     ]
    }
   ],
   "source": [
    "%lprun -f cosineSim_vs_distance cosineSim_vs_distance(x, categs, entities, key_list, doc_repr)"
   ]
  },
  {
   "cell_type": "code",
   "execution_count": 156,
   "metadata": {},
   "outputs": [
    {
     "data": {
      "text/plain": [
       "(626, 626)"
      ]
     },
     "execution_count": 156,
     "metadata": {},
     "output_type": "execute_result"
    }
   ],
   "source": [
    "cos_sim.shape"
   ]
  },
  {
   "cell_type": "code",
   "execution_count": 157,
   "metadata": {},
   "outputs": [
    {
     "data": {
      "text/plain": [
       "195625"
      ]
     },
     "execution_count": 157,
     "metadata": {},
     "output_type": "execute_result"
    }
   ],
   "source": [
    "cos_sim2 = cos_sim[np.triu_indices_from(cos_sim, k=1)]\n",
    "len(cos_sim2)"
   ]
  },
  {
   "cell_type": "code",
   "execution_count": 158,
   "metadata": {},
   "outputs": [
    {
     "data": {
      "text/plain": [
       "195625"
      ]
     },
     "execution_count": 158,
     "metadata": {},
     "output_type": "execute_result"
    }
   ],
   "source": [
    "len(dist)"
   ]
  },
  {
   "cell_type": "code",
   "execution_count": 161,
   "metadata": {},
   "outputs": [],
   "source": [
    "import matplotlib.pyplot as plt"
   ]
  },
  {
   "cell_type": "code",
   "execution_count": 163,
   "metadata": {},
   "outputs": [
    {
     "data": {
      "image/png": "[encoded data removed]",
      "text/plain": [
       "<Figure size 720x720 with 1 Axes>"
      ]
     },
     "metadata": {
      "needs_background": "light"
     },
     "output_type": "display_data"
    }
   ],
   "source": [
    "fig, ax = plt.subplots(figsize=(10, 10))\n",
    "ax.set_title(\"{} nodes\".format(len(cos_sim)), fontsize=20)\n",
    "plt.scatter(dist, cos_sim2, s=1)\n",
    "ax.set_ylabel('Cosine similarity', fontsize=20)\n",
    "ax.set_xlabel('L2 distance', fontsize=20)\n",
    "plt.savefig('cs_vs_eudist.png', dpi=200)\n",
    "plt.show()"
   ]
  },
  {
   "cell_type": "code",
   "execution_count": 176,
   "metadata": {},
   "outputs": [],
   "source": [
    "from itertools import combinations\n",
    "\n",
    "\n",
    "def false_positives(scores, dist, ids, categories, dist_value=0.05, scores_value=0):\n",
    "    ind = np.where((dist <= dist_value) & (scores <= scores_value))[0]\n",
    "    for pos, couple in enumerate(combinations(ids, 2)):\n",
    "        if pos in ind:\n",
    "            yield couple\n",
    "\n",
    "def print_false_positives(value, categories):\n",
    "    print(\"Node 1: {} - {}\".format(value[0], categories[value[0]]))\n",
    "    print(\"Node 2: {} - {}\".format(value[1], categories[value[1]]))\n",
    "    print()"
   ]
  },
  {
   "cell_type": "code",
   "execution_count": 179,
   "metadata": {},
   "outputs": [],
   "source": [
    "fp = [i for i in false_positives(cos_sim2, dist, ids, categs)]"
   ]
  },
  {
   "cell_type": "code",
   "execution_count": 180,
   "metadata": {},
   "outputs": [
    {
     "data": {
      "text/plain": [
       "106"
      ]
     },
     "execution_count": 180,
     "metadata": {},
     "output_type": "execute_result"
    }
   ],
   "source": [
    "len(fp)"
   ]
  },
  {
   "cell_type": "code",
   "execution_count": 182,
   "metadata": {},
   "outputs": [
    {
     "name": "stdout",
     "output_type": "stream",
     "text": [
      "Node 1: Fiery squirrel - ['vertebr', 'countri']\n",
      "Node 2: Broad-toothed tailless bat - ['speci', 'describ', '20th', 'centuri']\n",
      "\n",
      "Node 1: Walks Like Rihanna - ['song', 'songwrit', 'singer', 'nation', 'song', 'record', 'produc']\n",
      "Node 2: Ultra.Dance 07 - ['compil', 'album']\n",
      "\n",
      "Node 1: Enchō - ['histori', 'japan']\n",
      "Node 2: Lino Isaia - ['content', 'life', 'peopl', 'statu', 'politician', 'nation']\n",
      "\n",
      "Node 1: Enchō - ['histori', 'japan']\n",
      "Node 2: Armand Bois - ['mayor', 'countri']\n",
      "\n",
      "Node 1: Enchō - ['histori', 'japan']\n",
      "Node 2: Balmshell - ['compani', 'canada', 'industri']\n",
      "\n",
      "Node 1: Enchō - ['histori', 'japan']\n",
      "Node 2: Ellen Clementine Howarth - ['modern', 'literatur', 'peopl', 'new', 'york', 'state', 'capit', 'unit', 'state']\n",
      "\n",
      "Node 1: Enchō - ['histori', 'japan']\n",
      "Node 2: Shepperd, Maryland - ['popul', 'place', 'maryland']\n",
      "\n",
      "Node 1: Enchō - ['histori', 'japan']\n",
      "Node 2: Walter Henderson (politician) - ['politician', 'nation', 'parti', 'citi', 'canada', 'provinc', 'territori']\n",
      "\n",
      "Node 1: Enchō - ['histori', 'japan']\n",
      "Node 2: Thomas Burton Hanly - ['govern', 'arkansa', 'peopl', 'kentucki', 'american', 'politician', 'state', 'member', 'bicamer', 'legislatur', 'american', 'lawyer', 'state']\n",
      "\n",
      "Node 1: Enchō - ['histori', 'japan']\n",
      "Node 2: Boeotian muses - ['greek', 'mytholog']\n",
      "\n",
      "Node 1: Enchō - ['histori', 'japan']\n",
      "Node 2: Dziekuje Poland Live '83 - ['new', 'age', 'live', 'album', 'artist']\n",
      "\n",
      "Node 1: Enchō - ['histori', 'japan']\n",
      "Node 2: John Hunn (governor) - ['govern', 'delawar', 'build', 'structur', 'delawar', 'peopl', 'delawar', 'politician', 'nation', 'parti', 'american', 'politician', 'state', 'protestant', 'unit', 'state']\n",
      "\n",
      "Node 1: Enchō - ['histori', 'japan']\n",
      "Node 2: Saint-Antonin-de-Sommaire - ['commun', 'franc', 'depart']\n",
      "\n",
      "Node 1: Enchō - ['histori', 'japan']\n",
      "Node 2: Cancello e Arnone - ['citi', 'town', 'itali', 'region']\n",
      "\n",
      "Node 1: Enchō - ['histori', 'japan']\n",
      "Node 2: Lucien Sergi - ['peopl', 'statu', 'associ', 'footbal', 'player', 'club', 'associ', 'footbal', 'player', 'associ', 'footbal', 'player', 'nation', 'associ', 'footbal', 'player', 'competit']\n",
      "\n",
      "Node 1: Enchō - ['histori', 'japan']\n",
      "Node 2: Abu Dhabi Crown Prince's Court - ['govern', 'agenc', 'countri']\n",
      "\n",
      "Node 1: Laurel Branch, West Virginia - ['popul', 'place', 'west', 'virginia']\n",
      "Node 2: Wisconsin Highway 99 - ['road', 'unit', 'state', 'state']\n",
      "\n",
      "Node 1: Galloway, West Virginia - ['popul', 'place', 'west', 'virginia']\n",
      "Node 2: Wisconsin Highway 99 - ['road', 'unit', 'state', 'state']\n",
      "\n",
      "Node 1: Lino Isaia - ['content', 'life', 'peopl', 'statu', 'politician', 'nation']\n",
      "Node 2: Armand Bois - ['mayor', 'countri']\n",
      "\n",
      "Node 1: Lino Isaia - ['content', 'life', 'peopl', 'statu', 'politician', 'nation']\n",
      "Node 2: Balmshell - ['compani', 'canada', 'industri']\n",
      "\n",
      "Node 1: Lino Isaia - ['content', 'life', 'peopl', 'statu', 'politician', 'nation']\n",
      "Node 2: Shepperd, Maryland - ['popul', 'place', 'maryland']\n",
      "\n",
      "Node 1: Lino Isaia - ['content', 'life', 'peopl', 'statu', 'politician', 'nation']\n",
      "Node 2: Boeotian muses - ['greek', 'mytholog']\n",
      "\n",
      "Node 1: Lino Isaia - ['content', 'life', 'peopl', 'statu', 'politician', 'nation']\n",
      "Node 2: Dziekuje Poland Live '83 - ['new', 'age', 'live', 'album', 'artist']\n",
      "\n",
      "Node 1: Lino Isaia - ['content', 'life', 'peopl', 'statu', 'politician', 'nation']\n",
      "Node 2: Saint-Antonin-de-Sommaire - ['commun', 'franc', 'depart']\n",
      "\n",
      "Node 1: Lino Isaia - ['content', 'life', 'peopl', 'statu', 'politician', 'nation']\n",
      "Node 2: Cancello e Arnone - ['citi', 'town', 'itali', 'region']\n",
      "\n",
      "Node 1: Lino Isaia - ['content', 'life', 'peopl', 'statu', 'politician', 'nation']\n",
      "Node 2: Abu Dhabi Crown Prince's Court - ['govern', 'agenc', 'countri']\n",
      "\n",
      "Node 1: Nicolas Coster - ['peopl', 'statu', 'new', 'zealand', 'peopl', 'peopl', 'univers', 'colleg', 'england']\n",
      "Node 2: John Paxton - ['writer']\n",
      "\n",
      "Node 1: Armand Bois - ['mayor', 'countri']\n",
      "Node 2: Balmshell - ['compani', 'canada', 'industri']\n",
      "\n",
      "Node 1: Armand Bois - ['mayor', 'countri']\n",
      "Node 2: Ellen Clementine Howarth - ['modern', 'literatur', 'peopl', 'new', 'york', 'state', 'capit', 'unit', 'state']\n",
      "\n",
      "Node 1: Armand Bois - ['mayor', 'countri']\n",
      "Node 2: Shepperd, Maryland - ['popul', 'place', 'maryland']\n",
      "\n",
      "Node 1: Armand Bois - ['mayor', 'countri']\n",
      "Node 2: Walter Henderson (politician) - ['politician', 'nation', 'parti', 'citi', 'canada', 'provinc', 'territori']\n",
      "\n",
      "Node 1: Armand Bois - ['mayor', 'countri']\n",
      "Node 2: Thomas Burton Hanly - ['govern', 'arkansa', 'peopl', 'kentucki', 'american', 'politician', 'state', 'member', 'bicamer', 'legislatur', 'american', 'lawyer', 'state']\n",
      "\n",
      "Node 1: Armand Bois - ['mayor', 'countri']\n",
      "Node 2: Boeotian muses - ['greek', 'mytholog']\n",
      "\n",
      "Node 1: Armand Bois - ['mayor', 'countri']\n",
      "Node 2: Dziekuje Poland Live '83 - ['new', 'age', 'live', 'album', 'artist']\n",
      "\n",
      "Node 1: Armand Bois - ['mayor', 'countri']\n",
      "Node 2: John Hunn (governor) - ['govern', 'delawar', 'build', 'structur', 'delawar', 'peopl', 'delawar', 'politician', 'nation', 'parti', 'american', 'politician', 'state', 'protestant', 'unit', 'state']\n",
      "\n",
      "Node 1: Armand Bois - ['mayor', 'countri']\n",
      "Node 2: Saint-Antonin-de-Sommaire - ['commun', 'franc', 'depart']\n",
      "\n",
      "Node 1: Armand Bois - ['mayor', 'countri']\n",
      "Node 2: Cancello e Arnone - ['citi', 'town', 'itali', 'region']\n",
      "\n",
      "Node 1: Armand Bois - ['mayor', 'countri']\n",
      "Node 2: Lucien Sergi - ['peopl', 'statu', 'associ', 'footbal', 'player', 'club', 'associ', 'footbal', 'player', 'associ', 'footbal', 'player', 'nation', 'associ', 'footbal', 'player', 'competit']\n",
      "\n",
      "Node 1: Arenzville Township, Cass County, Illinois - ['local', 'govern', 'illinoi', 'popul', 'place', 'illinoi']\n",
      "Node 2: Wisconsin Highway 99 - ['road', 'unit', 'state', 'state']\n",
      "\n",
      "Node 1: The Best of Silk - ['compil', 'album']\n",
      "Node 2: What Ya Gonna Do - ['song', 'songwrit', 'heavi', 'metal', 'subgenr', 'american', 'rock', 'song', 'rock', 'song', 'genr', 'altern', 'rock', 'song']\n",
      "\n",
      "Node 1: Lethrinops red flush - ['hobbi']\n",
      "Node 2: Euphorbia itremensis - ['plant', 'flora', 'countri']\n",
      "\n",
      "Node 1: Lethrinops red flush - ['hobbi']\n",
      "Node 2: Ptychotrema mazumbiensis - ['gastropod', 'famili']\n",
      "\n",
      "Node 1: Beyond (song) - ['song', 'songwrit', 'pop', 'rock', 'song']\n",
      "Node 2: CEMA (record label distributor) - ['record', 'label']\n",
      "\n",
      "Node 1: List of SSSIs in West Glamorgan - ['scienc', 'technolog', 'unit', 'kingdom']\n",
      "Node 2: Malham Moor - ['local', 'govern', 'england', 'counti']\n",
      "\n",
      "Node 1: Charles S. Millington - ['american', 'politician', 'state']\n",
      "Node 2: John C. Wright (comptroller) - ['govern', 'new', 'york', 'member', 'bicamer', 'legislatur', 'citi', 'new', 'york']\n",
      "\n",
      "Node 1: DeLong, Illinois - ['popul', 'place', 'illinoi']\n",
      "Node 2: Wisconsin Highway 99 - ['road', 'unit', 'state', 'state']\n",
      "\n",
      "Node 1: 46 Boötis - ['astronom', 'object', 'star']\n",
      "Node 2: Westerlund 2 - ['open', 'cluster']\n",
      "\n",
      "Node 1: 46 Boötis - ['astronom', 'object', 'star']\n",
      "Node 2: Hirayama family - ['mechan']\n",
      "\n",
      "Node 1: Nu Aquarii - ['astronom', 'object', 'classif', 'system', 'star']\n",
      "Node 2: Westerlund 2 - ['open', 'cluster']\n",
      "\n",
      "Node 1: Nu Aquarii - ['astronom', 'object', 'classif', 'system', 'star']\n",
      "Node 2: Hirayama family - ['mechan']\n",
      "\n",
      "Node 1: Balmshell - ['compani', 'canada', 'industri']\n",
      "Node 2: Ellen Clementine Howarth - ['modern', 'literatur', 'peopl', 'new', 'york', 'state', 'capit', 'unit', 'state']\n",
      "\n",
      "Node 1: Balmshell - ['compani', 'canada', 'industri']\n",
      "Node 2: Shepperd, Maryland - ['popul', 'place', 'maryland']\n",
      "\n",
      "Node 1: Balmshell - ['compani', 'canada', 'industri']\n",
      "Node 2: Thomas Burton Hanly - ['govern', 'arkansa', 'peopl', 'kentucki', 'american', 'politician', 'state', 'member', 'bicamer', 'legislatur', 'american', 'lawyer', 'state']\n",
      "\n",
      "Node 1: Balmshell - ['compani', 'canada', 'industri']\n",
      "Node 2: Boeotian muses - ['greek', 'mytholog']\n",
      "\n",
      "Node 1: Balmshell - ['compani', 'canada', 'industri']\n",
      "Node 2: Dziekuje Poland Live '83 - ['new', 'age', 'live', 'album', 'artist']\n",
      "\n",
      "Node 1: Balmshell - ['compani', 'canada', 'industri']\n",
      "Node 2: John Hunn (governor) - ['govern', 'delawar', 'build', 'structur', 'delawar', 'peopl', 'delawar', 'politician', 'nation', 'parti', 'american', 'politician', 'state', 'protestant', 'unit', 'state']\n",
      "\n",
      "Node 1: Balmshell - ['compani', 'canada', 'industri']\n",
      "Node 2: Saint-Antonin-de-Sommaire - ['commun', 'franc', 'depart']\n",
      "\n",
      "Node 1: Balmshell - ['compani', 'canada', 'industri']\n",
      "Node 2: Cancello e Arnone - ['citi', 'town', 'itali', 'region']\n",
      "\n",
      "Node 1: Balmshell - ['compani', 'canada', 'industri']\n",
      "Node 2: Lucien Sergi - ['peopl', 'statu', 'associ', 'footbal', 'player', 'club', 'associ', 'footbal', 'player', 'associ', 'footbal', 'player', 'nation', 'associ', 'footbal', 'player', 'competit']\n",
      "\n",
      "Node 1: Balmshell - ['compani', 'canada', 'industri']\n",
      "Node 2: Abu Dhabi Crown Prince's Court - ['govern', 'agenc', 'countri']\n",
      "\n",
      "Node 1: Barclaysville, North Carolina - ['geographi', 'north', 'carolina']\n",
      "Node 2: Pennsylvania Route 325 - ['road', 'unit', 'state', 'state']\n",
      "\n",
      "Node 1: Ellen Clementine Howarth - ['modern', 'literatur', 'peopl', 'new', 'york', 'state', 'capit', 'unit', 'state']\n",
      "Node 2: Shepperd, Maryland - ['popul', 'place', 'maryland']\n",
      "\n",
      "Node 1: Ellen Clementine Howarth - ['modern', 'literatur', 'peopl', 'new', 'york', 'state', 'capit', 'unit', 'state']\n",
      "Node 2: Walter Henderson (politician) - ['politician', 'nation', 'parti', 'citi', 'canada', 'provinc', 'territori']\n",
      "\n",
      "Node 1: Ellen Clementine Howarth - ['modern', 'literatur', 'peopl', 'new', 'york', 'state', 'capit', 'unit', 'state']\n",
      "Node 2: Boeotian muses - ['greek', 'mytholog']\n",
      "\n",
      "Node 1: Ellen Clementine Howarth - ['modern', 'literatur', 'peopl', 'new', 'york', 'state', 'capit', 'unit', 'state']\n",
      "Node 2: Saint-Antonin-de-Sommaire - ['commun', 'franc', 'depart']\n",
      "\n",
      "Node 1: Ellen Clementine Howarth - ['modern', 'literatur', 'peopl', 'new', 'york', 'state', 'capit', 'unit', 'state']\n",
      "Node 2: Cancello e Arnone - ['citi', 'town', 'itali', 'region']\n",
      "\n",
      "Node 1: Ellen Clementine Howarth - ['modern', 'literatur', 'peopl', 'new', 'york', 'state', 'capit', 'unit', 'state']\n",
      "Node 2: Abu Dhabi Crown Prince's Court - ['govern', 'agenc', 'countri']\n",
      "\n",
      "Node 1: Sonneborn-Berger score - ['game']\n",
      "Node 2: Vladimir Akopian - ['peopl', 'statu', 'azerbaijani', 'societi', 'sport', 'competitor', 'sport', 'sportspeopl', 'sport', 'nation', 'capit', 'europ', 'olymp', 'competitor', 'sport', 'competitor', 'competit']\n",
      "\n",
      "Node 1: Shepperd, Maryland - ['popul', 'place', 'maryland']\n",
      "Node 2: Walter Henderson (politician) - ['politician', 'nation', 'parti', 'citi', 'canada', 'provinc', 'territori']\n",
      "\n",
      "Node 1: Shepperd, Maryland - ['popul', 'place', 'maryland']\n",
      "Node 2: Thomas Burton Hanly - ['govern', 'arkansa', 'peopl', 'kentucki', 'american', 'politician', 'state', 'member', 'bicamer', 'legislatur', 'american', 'lawyer', 'state']\n",
      "\n",
      "Node 1: Shepperd, Maryland - ['popul', 'place', 'maryland']\n",
      "Node 2: Boeotian muses - ['greek', 'mytholog']\n",
      "\n",
      "Node 1: Shepperd, Maryland - ['popul', 'place', 'maryland']\n",
      "Node 2: Dziekuje Poland Live '83 - ['new', 'age', 'live', 'album', 'artist']\n",
      "\n",
      "Node 1: Shepperd, Maryland - ['popul', 'place', 'maryland']\n",
      "Node 2: John Hunn (governor) - ['govern', 'delawar', 'build', 'structur', 'delawar', 'peopl', 'delawar', 'politician', 'nation', 'parti', 'american', 'politician', 'state', 'protestant', 'unit', 'state']\n",
      "\n",
      "Node 1: Shepperd, Maryland - ['popul', 'place', 'maryland']\n",
      "Node 2: Saint-Antonin-de-Sommaire - ['commun', 'franc', 'depart']\n",
      "\n",
      "Node 1: Shepperd, Maryland - ['popul', 'place', 'maryland']\n",
      "Node 2: Cancello e Arnone - ['citi', 'town', 'itali', 'region']\n",
      "\n",
      "Node 1: Shepperd, Maryland - ['popul', 'place', 'maryland']\n",
      "Node 2: Lucien Sergi - ['peopl', 'statu', 'associ', 'footbal', 'player', 'club', 'associ', 'footbal', 'player', 'associ', 'footbal', 'player', 'nation', 'associ', 'footbal', 'player', 'competit']\n",
      "\n",
      "Node 1: Shepperd, Maryland - ['popul', 'place', 'maryland']\n",
      "Node 2: Abu Dhabi Crown Prince's Court - ['govern', 'agenc', 'countri']\n",
      "\n",
      "Node 1: FusionForge - ['collabor', 'softwar']\n",
      "Node 2: Jeroo - ['comput', 'program']\n",
      "\n",
      "Node 1: FusionForge - ['collabor', 'softwar']\n",
      "Node 2: DirectFB - ['graphic', 'design', 'comput', 'program']\n",
      "\n",
      "Node 1: Walter Henderson (politician) - ['politician', 'nation', 'parti', 'citi', 'canada', 'provinc', 'territori']\n",
      "Node 2: Boeotian muses - ['greek', 'mytholog']\n",
      "\n",
      "Node 1: Walter Henderson (politician) - ['politician', 'nation', 'parti', 'citi', 'canada', 'provinc', 'territori']\n",
      "Node 2: Dziekuje Poland Live '83 - ['new', 'age', 'live', 'album', 'artist']\n",
      "\n",
      "Node 1: Walter Henderson (politician) - ['politician', 'nation', 'parti', 'citi', 'canada', 'provinc', 'territori']\n",
      "Node 2: Saint-Antonin-de-Sommaire - ['commun', 'franc', 'depart']\n",
      "\n",
      "Node 1: Walter Henderson (politician) - ['politician', 'nation', 'parti', 'citi', 'canada', 'provinc', 'territori']\n",
      "Node 2: Abu Dhabi Crown Prince's Court - ['govern', 'agenc', 'countri']\n",
      "\n",
      "Node 1: Thomas Burton Hanly - ['govern', 'arkansa', 'peopl', 'kentucki', 'american', 'politician', 'state', 'member', 'bicamer', 'legislatur', 'american', 'lawyer', 'state']\n",
      "Node 2: Boeotian muses - ['greek', 'mytholog']\n",
      "\n",
      "Node 1: Thomas Burton Hanly - ['govern', 'arkansa', 'peopl', 'kentucki', 'american', 'politician', 'state', 'member', 'bicamer', 'legislatur', 'american', 'lawyer', 'state']\n",
      "Node 2: Dziekuje Poland Live '83 - ['new', 'age', 'live', 'album', 'artist']\n",
      "\n",
      "Node 1: Thomas Burton Hanly - ['govern', 'arkansa', 'peopl', 'kentucki', 'american', 'politician', 'state', 'member', 'bicamer', 'legislatur', 'american', 'lawyer', 'state']\n",
      "Node 2: Saint-Antonin-de-Sommaire - ['commun', 'franc', 'depart']\n",
      "\n",
      "Node 1: Thomas Burton Hanly - ['govern', 'arkansa', 'peopl', 'kentucki', 'american', 'politician', 'state', 'member', 'bicamer', 'legislatur', 'american', 'lawyer', 'state']\n",
      "Node 2: Cancello e Arnone - ['citi', 'town', 'itali', 'region']\n",
      "\n",
      "Node 1: Boeotian muses - ['greek', 'mytholog']\n",
      "Node 2: Dziekuje Poland Live '83 - ['new', 'age', 'live', 'album', 'artist']\n",
      "\n",
      "Node 1: Boeotian muses - ['greek', 'mytholog']\n",
      "Node 2: John Hunn (governor) - ['govern', 'delawar', 'build', 'structur', 'delawar', 'peopl', 'delawar', 'politician', 'nation', 'parti', 'american', 'politician', 'state', 'protestant', 'unit', 'state']\n",
      "\n",
      "Node 1: Boeotian muses - ['greek', 'mytholog']\n",
      "Node 2: Saint-Antonin-de-Sommaire - ['commun', 'franc', 'depart']\n",
      "\n",
      "Node 1: Boeotian muses - ['greek', 'mytholog']\n",
      "Node 2: Cancello e Arnone - ['citi', 'town', 'itali', 'region']\n",
      "\n",
      "Node 1: Boeotian muses - ['greek', 'mytholog']\n",
      "Node 2: Lucien Sergi - ['peopl', 'statu', 'associ', 'footbal', 'player', 'club', 'associ', 'footbal', 'player', 'associ', 'footbal', 'player', 'nation', 'associ', 'footbal', 'player', 'competit']\n",
      "\n",
      "Node 1: Boeotian muses - ['greek', 'mytholog']\n",
      "Node 2: Abu Dhabi Crown Prince's Court - ['govern', 'agenc', 'countri']\n",
      "\n",
      "Node 1: Dziekuje Poland Live '83 - ['new', 'age', 'live', 'album', 'artist']\n",
      "Node 2: John Hunn (governor) - ['govern', 'delawar', 'build', 'structur', 'delawar', 'peopl', 'delawar', 'politician', 'nation', 'parti', 'american', 'politician', 'state', 'protestant', 'unit', 'state']\n",
      "\n",
      "Node 1: Dziekuje Poland Live '83 - ['new', 'age', 'live', 'album', 'artist']\n",
      "Node 2: Saint-Antonin-de-Sommaire - ['commun', 'franc', 'depart']\n",
      "\n",
      "Node 1: Dziekuje Poland Live '83 - ['new', 'age', 'live', 'album', 'artist']\n",
      "Node 2: Cancello e Arnone - ['citi', 'town', 'itali', 'region']\n",
      "\n",
      "Node 1: Dziekuje Poland Live '83 - ['new', 'age', 'live', 'album', 'artist']\n",
      "Node 2: Lucien Sergi - ['peopl', 'statu', 'associ', 'footbal', 'player', 'club', 'associ', 'footbal', 'player', 'associ', 'footbal', 'player', 'nation', 'associ', 'footbal', 'player', 'competit']\n",
      "\n",
      "Node 1: Dziekuje Poland Live '83 - ['new', 'age', 'live', 'album', 'artist']\n",
      "Node 2: Abu Dhabi Crown Prince's Court - ['govern', 'agenc', 'countri']\n",
      "\n",
      "Node 1: John Hunn (governor) - ['govern', 'delawar', 'build', 'structur', 'delawar', 'peopl', 'delawar', 'politician', 'nation', 'parti', 'american', 'politician', 'state', 'protestant', 'unit', 'state']\n",
      "Node 2: Cancello e Arnone - ['citi', 'town', 'itali', 'region']\n",
      "\n",
      "Node 1: Saint-Antonin-de-Sommaire - ['commun', 'franc', 'depart']\n",
      "Node 2: Cancello e Arnone - ['citi', 'town', 'itali', 'region']\n",
      "\n",
      "Node 1: Saint-Antonin-de-Sommaire - ['commun', 'franc', 'depart']\n",
      "Node 2: Lucien Sergi - ['peopl', 'statu', 'associ', 'footbal', 'player', 'club', 'associ', 'footbal', 'player', 'associ', 'footbal', 'player', 'nation', 'associ', 'footbal', 'player', 'competit']\n",
      "\n",
      "Node 1: Saint-Antonin-de-Sommaire - ['commun', 'franc', 'depart']\n",
      "Node 2: Abu Dhabi Crown Prince's Court - ['govern', 'agenc', 'countri']\n",
      "\n",
      "Node 1: Cancello e Arnone - ['citi', 'town', 'itali', 'region']\n",
      "Node 2: Lucien Sergi - ['peopl', 'statu', 'associ', 'footbal', 'player', 'club', 'associ', 'footbal', 'player', 'associ', 'footbal', 'player', 'nation', 'associ', 'footbal', 'player', 'competit']\n",
      "\n",
      "Node 1: Cancello e Arnone - ['citi', 'town', 'itali', 'region']\n",
      "Node 2: Abu Dhabi Crown Prince's Court - ['govern', 'agenc', 'countri']\n",
      "\n",
      "Node 1: Lucien Sergi - ['peopl', 'statu', 'associ', 'footbal', 'player', 'club', 'associ', 'footbal', 'player', 'associ', 'footbal', 'player', 'nation', 'associ', 'footbal', 'player', 'competit']\n",
      "Node 2: Abu Dhabi Crown Prince's Court - ['govern', 'agenc', 'countri']\n",
      "\n",
      "Node 1: Westerlund 2 - ['open', 'cluster']\n",
      "Node 2: Hirayama family - ['mechan']\n",
      "\n"
     ]
    }
   ],
   "source": [
    "for i in fp:\n",
    "    print_false_positives(i, categs)"
   ]
  },
  {
   "cell_type": "markdown",
   "metadata": {},
   "source": [
    "### Check if the common nodes in false positives have low L2 norm (so that the inner product with any other vector gives a 0 distance)"
   ]
  },
  {
   "cell_type": "code",
   "execution_count": 171,
   "metadata": {},
   "outputs": [
    {
     "data": {
      "text/plain": [
       "1465878"
      ]
     },
     "execution_count": 171,
     "metadata": {},
     "output_type": "execute_result"
    }
   ],
   "source": [
    "key_list.index('Lino Isaia')"
   ]
  },
  {
   "cell_type": "code",
   "execution_count": 172,
   "metadata": {},
   "outputs": [
    {
     "data": {
      "text/plain": [
       "2989824"
      ]
     },
     "execution_count": 172,
     "metadata": {},
     "output_type": "execute_result"
    }
   ],
   "source": [
    "entities.index(1465878)"
   ]
  },
  {
   "cell_type": "code",
   "execution_count": 173,
   "metadata": {},
   "outputs": [
    {
     "data": {
      "text/plain": [
       "array([-0.01830687, -0.01152764, -0.00890484,  0.01452232,  0.00584718,\n",
       "        0.01109101,  0.02040069,  0.00949135,  0.02062348,  0.0002321 ,\n",
       "       -0.03569917,  0.01292909,  0.01074949,  0.01282492, -0.03393396,\n",
       "        0.04035967,  0.01811427, -0.01403522,  0.01373766,  0.05030973,\n",
       "        0.01948976, -0.00343536, -0.00226142,  0.00055545,  0.01413487,\n",
       "       -0.00588594,  0.02560951,  0.00099909, -0.00491683,  0.00218368,\n",
       "       -0.03537853, -0.0069618 ,  0.0070605 , -0.00123887, -0.00793211,\n",
       "        0.04281955, -0.00768625,  0.01188336,  0.02212447, -0.00150223,\n",
       "        0.0201883 , -0.02692894,  0.00628694,  0.01100709,  0.02027828,\n",
       "       -0.00773982, -0.01793536,  0.01359584,  0.00536483, -0.00432487,\n",
       "       -0.03678271,  0.01060591,  0.01268798, -0.01216578, -0.00437236,\n",
       "        0.04655941, -0.0006091 , -0.0201156 ,  0.01798598, -0.01839439,\n",
       "       -0.01734667,  0.00997702, -0.02706139, -0.0297146 ,  0.02129406,\n",
       "        0.01993891,  0.00157414, -0.00293124,  0.02648482, -0.00604092,\n",
       "        0.03673328,  0.03116486,  0.007807  , -0.0036633 ,  0.00281798,\n",
       "       -0.03699202, -0.02969719,  0.0132254 ,  0.0062931 , -0.01742782,\n",
       "        0.00024272, -0.0055702 ,  0.02720275,  0.00601752,  0.01497416,\n",
       "       -0.01271527,  0.00295185, -0.03075354, -0.00724184, -0.02075888,\n",
       "       -0.01138846,  0.0006541 ,  0.04361953,  0.00127865, -0.03416863,\n",
       "        0.00898319, -0.01009859, -0.03785814, -0.02112635,  0.02676335,\n",
       "       -0.0249097 ,  0.04114591,  0.01211806, -0.02219379, -0.03264578,\n",
       "       -0.00948399,  0.00455985, -0.00351099, -0.00640745, -0.04535935,\n",
       "       -0.00522635,  0.01487942,  0.01996954, -0.00758398, -0.00155779,\n",
       "       -0.00247095,  0.02041236, -0.01006152, -0.01329587,  0.03077528,\n",
       "       -0.01760645,  0.02022636, -0.00971423, -0.00637911,  0.00447491,\n",
       "        0.02722527, -0.00223479,  0.00547005], dtype=float32)"
      ]
     },
     "execution_count": 173,
     "metadata": {},
     "output_type": "execute_result"
    }
   ],
   "source": [
    "x[2989824]"
   ]
  },
  {
   "cell_type": "code",
   "execution_count": 174,
   "metadata": {},
   "outputs": [
    {
     "data": {
      "text/plain": [
       "0.22325456"
      ]
     },
     "execution_count": 174,
     "metadata": {},
     "output_type": "execute_result"
    }
   ],
   "source": [
    "np.linalg.norm(x[2989824])"
   ]
  },
  {
   "cell_type": "code",
   "execution_count": null,
   "metadata": {},
   "outputs": [],
   "source": []
  }
 ],
 "metadata": {
  "kernelspec": {
   "display_name": "Python 3",
   "language": "python",
   "name": "python3"
  },
  "language_info": {
   "codemirror_mode": {
    "name": "ipython",
    "version": 3
   },
   "file_extension": ".py",
   "mimetype": "text/x-python",
   "name": "python",
   "nbconvert_exporter": "python",
   "pygments_lexer": "ipython3",
   "version": "3.6.9"
  }
 },
 "nbformat": 4,
 "nbformat_minor": 2
}
