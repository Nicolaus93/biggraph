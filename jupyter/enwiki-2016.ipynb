{
 "cells": [
  {
   "cell_type": "code",
   "execution_count": 1,
   "metadata": {},
   "outputs": [],
   "source": [
    "%matplotlib inline\n",
    "\n",
    "import matplotlib.pyplot as plt\n",
    "import numpy as np\n",
    "from pathlib import Path\n",
    "from tqdm import tqdm\n",
    "import sys\n",
    "\n",
    "p = Path('.').resolve()\n",
    "sys.path.append(str(p.parent))"
   ]
  },
  {
   "cell_type": "code",
   "execution_count": 2,
   "metadata": {},
   "outputs": [
    {
     "name": "stderr",
     "output_type": "stream",
     "text": [
      "Loading faiss with AVX2 support.\n"
     ]
    }
   ],
   "source": [
    "from utils.data_utils import *\n",
    "from utils.faiss_utils import *"
   ]
  },
  {
   "cell_type": "code",
   "execution_count": 3,
   "metadata": {},
   "outputs": [],
   "source": [
    "def load_XY(basename):\n",
    "    \"\"\"\n",
    "    Load embeddings (X) and possibly the\n",
    "    labels (Y) of the graph {basename}.\n",
    "    \"\"\"\n",
    "    model_path = Path(\"/data/models\") / basename\n",
    "    print(\"Loading data..\")\n",
    "    X, Y = load_data(model_path)\n",
    "    classes = len(np.unique(Y))\n",
    "    print(\"X shape: {}\".format(X.shape))\n",
    "    return X, Y"
   ]
  },
  {
   "cell_type": "code",
   "execution_count": 13,
   "metadata": {},
   "outputs": [],
   "source": [
    "def iter_embeddings(model_path, h5=True):\n",
    "    \"\"\"\n",
    "    updated version of iter_partitions\n",
    "    NOTICE: returns objects NOT ordered\n",
    "    \"\"\"\n",
    "    temp = []\n",
    "    if h5:\n",
    "        for h5_file in model_path.glob('embeddings_link*.h5'):\n",
    "            temp.append(h5_file)\n",
    "    else:\n",
    "        for json_file in model_path.glob('entity_names_link_*.json'):\n",
    "            temp.append(json_file)\n",
    "    temp = sorted(temp)\n",
    "    for i in temp:\n",
    "        yield i"
   ]
  },
  {
   "cell_type": "code",
   "execution_count": 17,
   "metadata": {},
   "outputs": [],
   "source": [
    "import json\n",
    "\n",
    "\n",
    "def get_entities_list(basename):\n",
    "    entities_list = []\n",
    "    model_path = Path(\"/data/models\") / basename\n",
    "    for json_f in iter_embeddings(model_path, h5=False):\n",
    "        with json_f.open() as f:\n",
    "            # with open(json_f, \"rt\") as f:\n",
    "            entities = json.load(f)\n",
    "        entities_list += [int(i) for i in entities]\n",
    "    return entities_list"
   ]
  },
  {
   "cell_type": "code",
   "execution_count": 15,
   "metadata": {},
   "outputs": [
    {
     "name": "stdout",
     "output_type": "stream",
     "text": [
      "Loading data..\n",
      "Labels not defined\n",
      "Labels not defined\n",
      "Labels not defined\n",
      "Labels not defined\n",
      "Labels not defined\n",
      "Labels not defined\n",
      "Labels not defined\n",
      "Labels not defined\n",
      "Labels not defined\n",
      "Labels not defined\n",
      "Labels not defined\n",
      "Labels not defined\n",
      "Labels not defined\n",
      "Labels not defined\n",
      "Labels not defined\n",
      "Labels not defined\n",
      "Labels not defined\n",
      "Labels not defined\n",
      "Labels not defined\n",
      "Labels not defined\n",
      "X shape: (5088560, 128)\n"
     ]
    },
    {
     "data": {
      "text/plain": [
       "(5088560, 128)"
      ]
     },
     "execution_count": 15,
     "metadata": {},
     "output_type": "execute_result"
    }
   ],
   "source": [
    "basename = \"enwiki-2016\"\n",
    "x, y = load_XY(basename)\n",
    "x.shape"
   ]
  },
  {
   "cell_type": "code",
   "execution_count": null,
   "metadata": {},
   "outputs": [],
   "source": [
    "enwiki_kmeans = kmeans(x, 50, niter=10000)"
   ]
  },
  {
   "cell_type": "code",
   "execution_count": 19,
   "metadata": {},
   "outputs": [
    {
     "name": "stdout",
     "output_type": "stream",
     "text": [
      "\u001b[0;35;43m Cluster 0 \u001b[0m\n",
      "Arthur Randall\n",
      "\n",
      "Second Battle of Heligoland Bight\n",
      "\n",
      "HMS Calcutta (D82)\n",
      "\n",
      "Vincent Barkly Molteno\n",
      "\n",
      "Battle of Crete order of battle\n",
      "\n",
      "\u001b[0;35;43m Cluster 1 \u001b[0m\n",
      "Load balancing (computing)\n",
      "\n",
      "Application layer\n",
      "\n",
      "Simple Network Management Protocol\n",
      "\n",
      "Continuous delivery\n",
      "\n",
      "Data recovery\n",
      "\n",
      "\u001b[0;35;43m Cluster 2 \u001b[0m\n",
      "Instrument (To Rococo Rot album)\n",
      "\n",
      "Change of Skin\n",
      "\n",
      "Serpentine Gallery (album)\n",
      "\n",
      "The Party Scene\n",
      "\n",
      "Everybody Knows (The Young Gods album)\n",
      "\n",
      "\u001b[0;35;43m Cluster 3 \u001b[0m\n",
      "2012 Hathazari violence\n",
      "\n",
      "List of places in Peshawar\n",
      "\n",
      "Bengali Language Movement\n",
      "\n",
      "Chaudhry Niaz Ali Khan\n",
      "\n",
      "Chichawatni\n",
      "\n",
      "\u001b[0;35;43m Cluster 4 \u001b[0m\n",
      "The Line of Beauty (TV series)\n",
      "\n",
      "Judy Loe\n",
      "\n",
      "Victoria Wood As Seen On TV\n",
      "\n",
      "The Go-Between (2015 TV film)\n",
      "\n",
      "Shoestring (TV series)\n",
      "\n",
      "\u001b[0;35;43m Cluster 5 \u001b[0m\n",
      "Rest frame\n",
      "\n",
      "Pugh–Schiff precession\n",
      "\n",
      "Clock-comparison experiment\n",
      "\n",
      "AQUAL\n",
      "\n",
      "N-body simulation\n",
      "\n",
      "\u001b[0;35;43m Cluster 6 \u001b[0m\n",
      "Texas A&M Aggies softball\n",
      "\n",
      "List of Southeastern Conference national championships\n",
      "\n",
      "Joe Bauserman\n",
      "\n",
      "Rollie Seltz\n",
      "\n",
      "Western Carolina Catamounts\n",
      "\n",
      "\u001b[0;35;43m Cluster 7 \u001b[0m\n",
      "Sciotropis\n",
      "\n",
      "Crocyllis\n",
      "\n",
      "Hypolestes\n",
      "\n",
      "Dioicodendron\n",
      "\n",
      "Aitchisonia\n",
      "\n",
      "\u001b[0;35;43m Cluster 8 \u001b[0m\n",
      "Millbrook First Nation\n",
      "\n",
      "New Brunswick Route 8\n",
      "\n",
      "Canadian electoral calendar, 2006\n",
      "\n",
      "Northwest Territories general election, 1898\n",
      "\n",
      "Sunbury County, New Brunswick\n",
      "\n",
      "\u001b[0;35;43m Cluster 9 \u001b[0m\n",
      "Hybrid organization\n",
      "\n",
      "Stakeholder theory\n",
      "\n",
      "Consumer confidence\n",
      "\n",
      "Core inflation\n",
      "\n",
      "Voluntary compliance\n",
      "\n",
      "\u001b[0;35;43m Cluster 10 \u001b[0m\n",
      "Ducati 1198\n",
      "\n",
      "FIA WTCC Race of Hungary\n",
      "\n",
      "6 Hours of Shanghai\n",
      "\n",
      "FIA WTCC Race of Argentina\n",
      "\n",
      "F4 Japanese Championship\n",
      "\n",
      "\u001b[0;35;43m Cluster 11 \u001b[0m\n",
      "Hamid Algabid\n",
      "\n",
      "Politics of Niger\n",
      "\n",
      "Politics of Mali\n",
      "\n",
      "Djiboutian parliamentary election, 2003\n",
      "\n",
      "Ikililou Dhoinine\n",
      "\n",
      "\u001b[0;35;43m Cluster 12 \u001b[0m\n",
      "Dover District Council elections\n",
      "\n",
      "Welwyn Hatfield Borough Council elections 2012\n",
      "\n",
      "Kettering Borough Council\n",
      "\n",
      "Trafford Metropolitan Borough Council elections\n",
      "\n",
      "North Mundham (UK electoral ward)\n",
      "\n",
      "\u001b[0;35;43m Cluster 13 \u001b[0m\n",
      "Eutychius of Alexandria\n",
      "\n",
      "Name of Syria\n",
      "\n",
      "School of Nisibis\n",
      "\n",
      "Qinnasrin\n",
      "\n",
      "Eznik of Kolb\n",
      "\n",
      "\u001b[0;35;43m Cluster 14 \u001b[0m\n",
      "Missouri General Assembly\n",
      "\n",
      "E. W. Marland\n",
      "\n",
      "National Youth Administration\n",
      "\n",
      "County executive\n",
      "\n",
      "Supreme Court of Indiana\n",
      "\n",
      "\u001b[0;35;43m Cluster 15 \u001b[0m\n",
      "Hüttenberg\n",
      "\n",
      "Schramberg\n",
      "\n",
      "Blumberg\n",
      "\n",
      "Grevenbroich\n",
      "\n",
      "Havixbeck\n",
      "\n",
      "\u001b[0;35;43m Cluster 16 \u001b[0m\n",
      "Preston County, West Virginia\n",
      "\n",
      "Clay County, West Virginia\n",
      "\n",
      "National Register of Historic Places listings in Morris County, Kansas\n",
      "\n",
      "Gilmer County, West Virginia\n",
      "\n",
      "Wisconsin Highway 191\n",
      "\n",
      "\u001b[0;35;43m Cluster 17 \u001b[0m\n",
      "Zaragoza Municipality, Antioquia\n",
      "\n",
      "Aguadas, Caldas\n",
      "\n",
      "Anapoima\n",
      "\n",
      "List of National Monuments of Colombia\n",
      "\n",
      "Marinilla\n",
      "\n",
      "\u001b[0;35;43m Cluster 18 \u001b[0m\n",
      "Anant Gudhe\n",
      "\n",
      "Kotiganahalli Ramaiah\n",
      "\n",
      "Tanguturi\n",
      "\n",
      "Pralhad Joshi\n",
      "\n",
      "Narayan Athawale\n",
      "\n",
      "\u001b[0;35;43m Cluster 19 \u001b[0m\n",
      "Estonia at the 2000 Summer Olympics\n",
      "\n",
      "Fencing at the 1992 Summer Olympics – Men's foil\n",
      "\n",
      "Fencing at the 1996 Summer Olympics – Women's épée\n",
      "\n",
      "Shooting at the 1988 Summer Olympics – Mixed trap\n",
      "\n",
      "Poland at the 2000 Summer Olympics\n",
      "\n",
      "\u001b[0;35;43m Cluster 20 \u001b[0m\n",
      "1990–91 Alpha Ethniki\n",
      "\n",
      "Guy Feutchine\n",
      "\n",
      "2014 Azerbaijan Supercup\n",
      "\n",
      "Badran Al-Shaqran\n",
      "\n",
      "Andrei Bogomolov\n",
      "\n",
      "\u001b[0;35;43m Cluster 21 \u001b[0m\n",
      "Forde Abbey\n",
      "\n",
      "Maiden Bradley\n",
      "\n",
      "Greystoke Castle\n",
      "\n",
      "Bruton Abbey\n",
      "\n",
      "Silverton Park\n",
      "\n",
      "\u001b[0;35;43m Cluster 22 \u001b[0m\n",
      "Ani-Mayhem\n",
      "\n",
      "Decipher, Inc.\n",
      "\n",
      "Yu-Gi-Oh! Trading Card Game\n",
      "\n",
      "Fuzion\n",
      "\n",
      "Japanese role-playing game\n",
      "\n",
      "\u001b[0;35;43m Cluster 23 \u001b[0m\n",
      "List of horror films of 1981\n",
      "\n",
      "Dante Spinotti\n",
      "\n",
      "List of horror films of 1980\n",
      "\n",
      "List of horror films of 1976\n",
      "\n",
      "Phil Roth\n",
      "\n",
      "\u001b[0;35;43m Cluster 24 \u001b[0m\n",
      "Bob Baker (politician)\n",
      "\n",
      "Samuel W. Ferguson\n",
      "\n",
      "Robert L. Barry\n",
      "\n",
      "Charles Wright\n",
      "\n",
      "Theresa Maria Clark\n",
      "\n",
      "\u001b[0;35;43m Cluster 25 \u001b[0m\n",
      "List of Big Brother 2 HouseGuests (U.S.)\n",
      "\n",
      "Mark E. Brown\n",
      "\n",
      "Road Rules: South Pacific\n",
      "\n",
      "Big Brother 7 (U.S.)\n",
      "\n",
      "Reunited: The Real World Las Vegas\n",
      "\n",
      "\u001b[0;35;43m Cluster 26 \u001b[0m\n",
      "Mylothra\n",
      "\n",
      "Inzenhof\n",
      "\n",
      "Čakov\n",
      "\n",
      "Yefim Trotsenko\n",
      "\n",
      "Wrightwood station (CTA)\n",
      "\n",
      "\u001b[0;35;43m Cluster 27 \u001b[0m\n",
      "Eareckson Air Station\n",
      "\n",
      "Grumman E-1 Tracer\n",
      "\n",
      "Short C-23 Sherpa\n",
      "\n",
      "Boeing B-29 Superfortress variants\n",
      "\n",
      "Piasecki H-21\n",
      "\n",
      "\u001b[0;35;43m Cluster 28 \u001b[0m\n",
      "Campeonato Nacional de Juniores\n",
      "\n",
      "1925–26 Campeonato de Portugal\n",
      "\n",
      "1957 Taça de Portugal Final\n",
      "\n",
      "2015–16 Sporting Clube de Portugal season\n",
      "\n",
      "Bruno Saraiva\n",
      "\n",
      "\u001b[0;35;43m Cluster 29 \u001b[0m\n",
      "Kyle Jones (ice hockey)\n",
      "\n",
      "Les Colvin\n",
      "\n",
      "Jeff Eatough\n",
      "\n",
      "Kieffer Bellows\n",
      "\n",
      "Dwight Bialowas\n",
      "\n",
      "\u001b[0;35;43m Cluster 30 \u001b[0m\n",
      "Carol Gilligan\n",
      "\n",
      "Carlin Romano\n",
      "\n",
      "American Quarterly\n",
      "\n",
      "Russell Jacoby\n",
      "\n",
      "Jane Gallop\n",
      "\n",
      "\u001b[0;35;43m Cluster 31 \u001b[0m\n",
      "Gmina Skoczów\n",
      "\n",
      "Strug (river)\n",
      "\n",
      "Ruda\n",
      "\n",
      "Maciejkowa Góra\n",
      "\n",
      "Krowica Lasowa\n",
      "\n",
      "\u001b[0;35;43m Cluster 32 \u001b[0m\n",
      "Adam Ridley\n",
      "\n",
      "Cambridge Student Liberal Democrats\n",
      "\n",
      "Elizabeth Butler-Sloss, Baroness Butler-Sloss\n",
      "\n",
      "Ruskin College\n",
      "\n",
      "List of former Presidents and Chairs of Cambridge Universities Labour Club\n",
      "\n",
      "\u001b[0;35;43m Cluster 33 \u001b[0m\n",
      "Bank of England club\n",
      "\n",
      "Joe Carolan\n",
      "\n",
      "Jamie Hewitt (footballer)\n",
      "\n",
      "Thomas Ashbridge\n",
      "\n",
      "1884 in association football\n",
      "\n",
      "\u001b[0;35;43m Cluster 34 \u001b[0m\n",
      "Yongjing, Changhua\n",
      "\n",
      "Tainan Prefecture\n",
      "\n",
      "Nan'ao, Yilan\n",
      "\n",
      "Dongshan County\n",
      "\n",
      "Taitō Prefecture\n",
      "\n",
      "\u001b[0;35;43m Cluster 35 \u001b[0m\n",
      "Right to Be Wrong\n",
      "\n",
      "List of Madonna tribute albums\n",
      "\n",
      "All That Echoes\n",
      "\n",
      "Tell It to My Heart (album)\n",
      "\n",
      "In Between Dreams\n",
      "\n",
      "\u001b[0;35;43m Cluster 36 \u001b[0m\n",
      "DNA polymerase\n",
      "\n",
      "Transfer RNA\n",
      "\n",
      "Translation (biology)\n",
      "\n",
      "The Proteolysis Map\n",
      "\n",
      "Pinoline\n",
      "\n",
      "\u001b[0;35;43m Cluster 37 \u001b[0m\n",
      "Berehove Raion\n",
      "\n",
      "Moldavian Autonomous Oblast\n",
      "\n",
      "Camenca\n",
      "\n",
      "List of renamed populated places in Moldova\n",
      "\n",
      "Izmail Oblast\n",
      "\n",
      "\u001b[0;35;43m Cluster 38 \u001b[0m\n",
      "Alan Lewis\n",
      "\n",
      "Conn McCall\n",
      "\n",
      "Edgar Elliot\n",
      "\n",
      "List of Wellington representative cricketers\n",
      "\n",
      "Edward Broad\n",
      "\n",
      "\u001b[0;35;43m Cluster 39 \u001b[0m\n",
      "Alessandro Albani\n",
      "\n",
      "Barberini family\n",
      "\n",
      "Ferdinando I de' Medici, Grand Duke of Tuscany\n",
      "\n",
      "Pierre Le Gros the Younger\n",
      "\n",
      "Piero Soderini\n",
      "\n",
      "\u001b[0;35;43m Cluster 40 \u001b[0m\n",
      "Only Everything\n",
      "\n",
      "Rant n' Rave with the Stray Cats\n",
      "\n",
      "Greatest Hits (The Bangles album)\n",
      "\n",
      "All Shook Down\n",
      "\n",
      "Next Position Please\n",
      "\n",
      "\u001b[0;35;43m Cluster 41 \u001b[0m\n",
      "List of leading Thoroughbred racehorses\n",
      "\n",
      "Allez France\n",
      "\n",
      "Main Sequence (horse)\n",
      "\n",
      "Nijinsky (horse)\n",
      "\n",
      "List of jockeys\n",
      "\n",
      "\u001b[0;35;43m Cluster 42 \u001b[0m\n",
      "Trelleborg Municipality\n",
      "\n",
      "Västerbotten County\n",
      "\n",
      "Gimle, Oslo\n",
      "\n",
      "1623 in Norway\n",
      "\n",
      "Bondepartiet\n",
      "\n",
      "\u001b[0;35;43m Cluster 43 \u001b[0m\n",
      "Nasrabad, Lorestan\n",
      "\n",
      "Akhangan\n",
      "\n",
      "Tu Ali\n",
      "\n",
      "Shahsavari\n",
      "\n",
      "Ali Khodadadi\n",
      "\n",
      "\u001b[0;35;43m Cluster 44 \u001b[0m\n",
      "Eilema heimi\n",
      "\n",
      "Eilema tricolorana\n",
      "\n",
      "Eois macrozeta\n",
      "\n",
      "Exilisia butleri\n",
      "\n",
      "Amerila madagascariensis\n",
      "\n",
      "\u001b[0;35;43m Cluster 45 \u001b[0m\n",
      "Batis (plant)\n",
      "\n",
      "List of globally invasive species\n",
      "\n",
      "Seed dispersal\n",
      "\n",
      "Suriana\n",
      "\n",
      "Pioneer species\n",
      "\n",
      "\u001b[0;35;43m Cluster 46 \u001b[0m\n",
      "Seysses\n",
      "\n",
      "Beaumont-Monteux\n",
      "\n",
      "Tourette-du-Château\n",
      "\n",
      "Chaptelat\n",
      "\n",
      "Camaret-sur-Aigues\n",
      "\n",
      "\u001b[0;35;43m Cluster 47 \u001b[0m\n",
      "René Leibowitz\n",
      "\n",
      "Expressionist music\n",
      "\n",
      "Aribert Reimann\n",
      "\n",
      "Neoromanticism (music)\n",
      "\n",
      "Wolfgang Rihm\n",
      "\n",
      "\u001b[0;35;43m Cluster 48 \u001b[0m\n",
      "John Morrice\n",
      "\n",
      "Electoral district of Belfast and Warrnambool\n",
      "\n",
      "Victorian state election, 1907\n",
      "\n",
      "James Tonkin\n",
      "\n",
      "Barmedman\n",
      "\n",
      "\u001b[0;35;43m Cluster 49 \u001b[0m\n",
      "Franz Schuler\n",
      "\n",
      "Britta Johansson Norgren\n",
      "\n",
      "Anne Briand\n",
      "\n",
      "Ladislav Rygl, Jr.\n",
      "\n",
      "FIS Nordic World Ski Championships 2003\n",
      "\n"
     ]
    }
   ],
   "source": [
    "entities = get_entities_list(basename)\n",
    "centroid_neigh(\"enwiki-2016\", enwiki_kmeans, x, entities, n=5)"
   ]
  },
  {
   "cell_type": "markdown",
   "metadata": {},
   "source": [
    "# Build categories dictionary"
   ]
  },
  {
   "cell_type": "code",
   "execution_count": 26,
   "metadata": {},
   "outputs": [
    {
     "data": {
      "text/plain": [
       "True"
      ]
     },
     "execution_count": 26,
     "metadata": {},
     "output_type": "execute_result"
    }
   ],
   "source": [
    "cat_file = Path(\"/data/graphs\") / basename / \"page2cat.tsv\"\n",
    "cat_file.exists()"
   ]
  },
  {
   "cell_type": "code",
   "execution_count": 37,
   "metadata": {},
   "outputs": [
    {
     "data": {
      "text/plain": [
       "3726309"
      ]
     },
     "execution_count": 37,
     "metadata": {},
     "output_type": "execute_result"
    }
   ],
   "source": [
    "from collections import defaultdict\n",
    "\n",
    "\n",
    "categories = defaultdict(set)\n",
    "for pos, line in enumerate(cat_file.open(encoding=\"utf-8\")):\n",
    "    temp = line.rstrip().split(\"\\t\")\n",
    "    key, cat = temp[0], set(temp[1:])\n",
    "    categories[key] = cat\n",
    "\n",
    "\n",
    "len(categories)"
   ]
  },
  {
   "cell_type": "code",
   "execution_count": 39,
   "metadata": {},
   "outputs": [
    {
     "data": {
      "text/plain": [
       "0.2"
      ]
     },
     "execution_count": 39,
     "metadata": {},
     "output_type": "execute_result"
    }
   ],
   "source": [
    "def jaccard_sim(s1, s2):\n",
    "    assert type(s1) == type(s2) == set, \"only taking sets as input\"\n",
    "    return len(s1 & s2) / len(s1 | s2)\n",
    "\n",
    "\n",
    "s1 = set([1, 2, 3])\n",
    "s2 = set([3, 4, 5])\n",
    "jaccard_sim(s1, s2)"
   ]
  },
  {
   "cell_type": "code",
   "execution_count": 49,
   "metadata": {},
   "outputs": [
    {
     "name": "stdout",
     "output_type": "stream",
     "text": [
      "Anarchism\n",
      "Değnek\n",
      "Queensland Conservatorium Griffith University\n",
      "Octagon Chapel, Liverpool\n",
      "Radha Mohan\n",
      "Thomas Craig (jurist)\n",
      "Microsorum vieillardii\n",
      "Princess Augusta Sophia of the United Kingdom\n",
      "Derek Thompson (baseball)\n",
      "Battle of the Coral Sea (film)\n",
      "Carvone\n",
      "Red-tailed monkey\n",
      "2003 MAC Men's Basketball Tournament\n",
      "Louis Franchet d'Espèrey\n",
      "Benjamin Tuke\n",
      "Cornelis de Bie\n",
      "Washington State Legislature\n",
      "Đàn đá\n",
      "Issa (Senegalese singer)\n",
      "William Johnston Tupper\n",
      "Saint Vincent Academy\n",
      "Bonkers (song)\n",
      "Principal axis\n",
      "Thomas Jones (historian)\n",
      "Show Us Your Tiddas!\n",
      "LOA\n",
      "The Last Days of the Late, Great State of California\n",
      "Aladdin (1992 Golden Films film)\n",
      "Alejandro Ibarra\n",
      "Banbury\n",
      "Swimming at the 1992 Summer Olympics – Men's 100 metre breaststroke\n",
      "Underdown\n",
      "Dreaming Lips\n",
      "Escrow\n",
      "Aída Álvarez\n",
      "Mulberry High School\n",
      "Anaxagoras (disambiguation)\n",
      "Cretinism\n",
      "Nenad Petrović (chess composer)\n",
      "Construction Clients' Group\n",
      "Gmina Osieczna, Pomeranian Voivodeship\n",
      "Mikołaj Gomółka\n",
      "Academy at Central\n",
      "The Fourth Legacy\n",
      "Wonderful Shadow\n",
      "Kayentavenator\n",
      "Jiang Qin\n",
      "Ryukyu flying fox\n",
      "Casili, Sorsogon\n",
      "Division of Coolgardie\n",
      "List of Australia Test cricket records against West Indies\n",
      "Chuck Kinder\n"
     ]
    }
   ],
   "source": [
    "for pos, key in enumerate(categories):\n",
    "    print(key)\n",
    "    if pos > 50:\n",
    "        break"
   ]
  },
  {
   "cell_type": "code",
   "execution_count": 75,
   "metadata": {},
   "outputs": [
    {
     "data": {
      "text/plain": [
       "0.7300076958004319"
      ]
     },
     "execution_count": 75,
     "metadata": {},
     "output_type": "execute_result"
    }
   ],
   "source": [
    "ids_file = Path('/data/graphs/') / basename / (basename + '.ids')\n",
    "counter = 0\n",
    "for pos, line in enumerate(ids_file.open(encoding=\"utf-8\")):\n",
    "    if line.rstrip() in categories:\n",
    "        counter += 1\n",
    "        \n",
    "counter / pos"
   ]
  },
  {
   "cell_type": "markdown",
   "metadata": {},
   "source": [
    "# Link to categories"
   ]
  },
  {
   "cell_type": "code",
   "execution_count": 76,
   "metadata": {},
   "outputs": [],
   "source": [
    "def find_neighbours(basename, idx, ent_list):\n",
    "    ids_file = Path('/data/graphs/') / basename / (basename + '.urls')\n",
    "    if not ids_file.exists():\n",
    "        ids_file = Path('/data/graphs/') / basename / (basename + '.ids')\n",
    "    assert ids_file.exists(), \"File not found!\"\n",
    "    f = ids_file.as_posix()\n",
    "    for node in idx:\n",
    "        line = ent_list[node]\n",
    "        yield linecache.getline(f, line + 1).rstrip()"
   ]
  },
  {
   "cell_type": "code",
   "execution_count": 142,
   "metadata": {},
   "outputs": [
    {
     "data": {
      "text/plain": [
       "100"
      ]
     },
     "execution_count": 142,
     "metadata": {},
     "output_type": "execute_result"
    }
   ],
   "source": [
    "n = 100\n",
    "subset = np.random.choice(len(x), n, replace=False)\n",
    "titles = [i for i in find_neighbours(\"enwiki-2016\", subset, entities)]\n",
    "len(titles)"
   ]
  },
  {
   "cell_type": "code",
   "execution_count": 143,
   "metadata": {},
   "outputs": [
    {
     "data": {
      "text/plain": [
       "59"
      ]
     },
     "execution_count": 143,
     "metadata": {},
     "output_type": "execute_result"
    }
   ],
   "source": [
    "indices = []\n",
    "for pos, value in enumerate(titles):\n",
    "    if value in categories:\n",
    "        if len(categories[value]) > 0:\n",
    "            indices.append(pos)\n",
    "            \n",
    "titles = [titles[i] for i in indices]\n",
    "subset = [subset[i] for i in indices]\n",
    "len(titles)"
   ]
  },
  {
   "cell_type": "code",
   "execution_count": 144,
   "metadata": {},
   "outputs": [],
   "source": [
    "from scipy.spatial.distance import pdist\n",
    "\n",
    "dist = pdist(x[subset], 'euclidean')"
   ]
  },
  {
   "cell_type": "code",
   "execution_count": 145,
   "metadata": {},
   "outputs": [
    {
     "data": {
      "text/plain": [
       "[('Craugastor lauraster', 'Laplace equation for irrotational flow'),\n",
       " ('Craugastor lauraster', 'Josef Özer'),\n",
       " ('Craugastor lauraster', 'Himayatnagar, Maharashtra'),\n",
       " ('Craugastor lauraster', 'Doleantie'),\n",
       " ('Craugastor lauraster', 'Circus World (store)')]"
      ]
     },
     "execution_count": 145,
     "metadata": {},
     "output_type": "execute_result"
    }
   ],
   "source": [
    "from itertools import combinations\n",
    "\n",
    "all_couples = [i for i in combinations(titles, 2)]\n",
    "all_couples[:5]"
   ]
  },
  {
   "cell_type": "code",
   "execution_count": 146,
   "metadata": {},
   "outputs": [],
   "source": [
    "jaccard_scores = [jaccard_sim(categories[i[0]], categories[i[1]]) for i in combinations(titles, 2)]"
   ]
  },
  {
   "cell_type": "code",
   "execution_count": 147,
   "metadata": {},
   "outputs": [
    {
     "data": {
      "text/plain": [
       "1711"
      ]
     },
     "execution_count": 147,
     "metadata": {},
     "output_type": "execute_result"
    }
   ],
   "source": [
    "len(jaccard_scores)"
   ]
  },
  {
   "cell_type": "code",
   "execution_count": 148,
   "metadata": {},
   "outputs": [
    {
     "data": {
      "text/plain": [
       "1711"
      ]
     },
     "execution_count": 148,
     "metadata": {},
     "output_type": "execute_result"
    }
   ],
   "source": [
    "len(dist)"
   ]
  },
  {
   "cell_type": "code",
   "execution_count": 149,
   "metadata": {},
   "outputs": [
    {
     "data": {
      "text/plain": [
       "11"
      ]
     },
     "execution_count": 149,
     "metadata": {},
     "output_type": "execute_result"
    }
   ],
   "source": [
    "counter = 0\n",
    "for i in jaccard_scores:\n",
    "    if i > 0:\n",
    "        counter += 1\n",
    "\n",
    "counter"
   ]
  },
  {
   "cell_type": "code",
   "execution_count": 150,
   "metadata": {},
   "outputs": [
    {
     "data": {
      "text/plain": [
       "Text(0, 0.5, 'Jaccard sym')"
      ]
     },
     "execution_count": 150,
     "metadata": {},
     "output_type": "execute_result"
    },
    {
     "data": {
      "image/png": "[encoded data removed]",
      "text/plain": [
       "<Figure size 432x288 with 1 Axes>"
      ]
     },
     "metadata": {
      "needs_background": "light"
     },
     "output_type": "display_data"
    }
   ],
   "source": [
    "plt.scatter(dist, jaccard_scores, s=1)\n",
    "plt.xlabel(\"L2 distance\")\n",
    "plt.ylabel(\"Jaccard sym\")"
   ]
  },
  {
   "cell_type": "code",
   "execution_count": 153,
   "metadata": {},
   "outputs": [
    {
     "data": {
      "text/plain": [
       "(array([ 133,  137,  155, 1011, 1029, 1037, 1050, 1141, 1167, 1485, 1648]),)"
      ]
     },
     "execution_count": 153,
     "metadata": {},
     "output_type": "execute_result"
    }
   ],
   "source": [
    "np.where(np.array(jaccard_scores) > 0)"
   ]
  },
  {
   "cell_type": "code",
   "execution_count": 157,
   "metadata": {},
   "outputs": [
    {
     "name": "stdout",
     "output_type": "stream",
     "text": [
      "('Josef Özer', 'Gary Weiss') 0.08333333333333333\n",
      "{'Singers', 'People by status', 'People by ethnic or national descent', 'Music by ethnicity'}\n",
      "{'People by status', 'American writers', 'Life', 'Jews by country', 'Alumni by university or college in the United States by state', 'Researchers', 'Organized crime', 'Writers by genre', 'Non-fiction writers by nationality'}\n",
      "\n",
      "('Josef Özer', 'Fredrick Federley') 0.1111111111111111\n",
      "{'Singers', 'People by status', 'People by ethnic or national descent', 'Music by ethnicity'}\n",
      "{'Government of Sweden', 'People by status', 'Politicians', 'Writers by nationality', 'Politicians by nationality and party', 'Members of the European Parliament by party'}\n",
      "\n",
      "('Josef Özer', 'Lee Jung-won') 0.14285714285714285\n",
      "{'Singers', 'People by status', 'People by ethnic or national descent', 'Music by ethnicity'}\n",
      "{'Association football players by nationality', 'People by status', 'Association football players', 'Association football players by competition'}\n",
      "\n",
      "('Gary Weiss', 'Fredrick Federley') 0.07142857142857142\n",
      "{'People by status', 'American writers', 'Life', 'Jews by country', 'Alumni by university or college in the United States by state', 'Researchers', 'Organized crime', 'Writers by genre', 'Non-fiction writers by nationality'}\n",
      "{'Government of Sweden', 'People by status', 'Politicians', 'Writers by nationality', 'Politicians by nationality and party', 'Members of the European Parliament by party'}\n",
      "\n",
      "('Gary Weiss', 'Lee Jung-won') 0.08333333333333333\n",
      "{'People by status', 'American writers', 'Life', 'Jews by country', 'Alumni by university or college in the United States by state', 'Researchers', 'Organized crime', 'Writers by genre', 'Non-fiction writers by nationality'}\n",
      "{'Association football players by nationality', 'People by status', 'Association football players', 'Association football players by competition'}\n",
      "\n",
      "('Gary Weiss', 'Payne Whitney') 0.058823529411764705\n",
      "{'People by status', 'American writers', 'Life', 'Jews by country', 'Alumni by university or college in the United States by state', 'Researchers', 'Organized crime', 'Writers by genre', 'Non-fiction writers by nationality'}\n",
      "{'Alumni by university or college in the United States', 'American sportspeople', 'American people by occupation', 'Schools', 'American socialites', 'Alumni by university or college in the United States by state', 'People of English descent', 'Tennis players by nationality', 'People from Massachusetts'}\n",
      "\n",
      "('Vidas al Máximo', 'Autumn Roses (1943 film)') 0.5\n",
      "{'Films by country', 'Films by language'}\n",
      "{'Films by language', 'Films by country', 'Works by type and year', 'Films by director nationality'}\n",
      "\n",
      "('Idaho State Highway 38', 'North Carolina Highway 218') 1.0\n",
      "{'Roads in the United States by state'}\n",
      "{'Roads in the United States by state'}\n",
      "\n",
      "('Fredrick Federley', 'Lee Jung-won') 0.1111111111111111\n",
      "{'Government of Sweden', 'People by status', 'Politicians', 'Writers by nationality', 'Politicians by nationality and party', 'Members of the European Parliament by party'}\n",
      "{'Association football players by nationality', 'People by status', 'Association football players', 'Association football players by competition'}\n",
      "\n",
      "('Fernando Cuéllar Ávalos', 'Lee Jung-won') 0.2\n",
      "{'Association football players by club', 'Association football competitions', 'Association football managers by club', 'Association football players', 'Association football players by national team', 'National association football teams', 'Association football players by nationality', 'Sportspeople by sport and nationality'}\n",
      "{'Association football players by nationality', 'People by status', 'Association football players', 'Association football players by competition'}\n",
      "\n",
      "('William A. Horning', 'Payne Whitney') 0.1\n",
      "{'American people by occupation', 'People from Missouri'}\n",
      "{'Alumni by university or college in the United States', 'American sportspeople', 'American people by occupation', 'Schools', 'American socialites', 'Alumni by university or college in the United States by state', 'People of English descent', 'Tennis players by nationality', 'People from Massachusetts'}\n",
      "\n"
     ]
    }
   ],
   "source": [
    "ind = np.where(np.array(jaccard_scores) > 0)[0]\n",
    "for pos, value in enumerate(combinations(titles, 2)):\n",
    "    if pos in ind:\n",
    "        print(value, jaccard_scores[pos])\n",
    "        print(categories[value[0]])\n",
    "        print(categories[value[1]])\n",
    "        print()"
   ]
  },
  {
   "cell_type": "code",
   "execution_count": 160,
   "metadata": {},
   "outputs": [
    {
     "name": "stdout",
     "output_type": "stream",
     "text": [
      "('Craugastor lauraster', 'Amazonian red-sided opossum') 0.11427154418750317\n",
      "{'Vertebrates by classification'}\n",
      "{'Vertebrates by country', 'Mammals by classification', 'Fauna by country', 'Species described in the 19th century'}\n",
      "\n",
      "('Truman the Tiger', 'Kokomo High School') 0.14256729534303883\n",
      "{'College sports teams in the United States by team', 'NCAA Division I conferences'}\n",
      "{'Schools in the United States by county'}\n",
      "\n",
      "('Lampert of Hungary', 'Gualberto Piangatelli') 0.14916865815907088\n",
      "{'Divided regions', 'High Middle Ages', 'Middle Ages by country', 'Nobility by nationality and title', '1st-millennium establishments'}\n",
      "{'History of Italy'}\n",
      "\n",
      "('Hugh Pembroke Vowles', 'Devon Record Offices') 0.10884958496760276\n",
      "{'People by district in England', 'Science and technology in the United Kingdom'}\n",
      "{'History of England by county', 'History organizations', 'Organisations based in England by county', 'Rail transport in England', 'Education in England by county', 'Unitary authority districts of England'}\n",
      "\n",
      "('Hugh Pembroke Vowles', 'Marine Conservation Zone') 0.14838159376263002\n",
      "{'People by district in England', 'Science and technology in the United Kingdom'}\n",
      "{'Industry in the United Kingdom', 'Law of the sea'}\n",
      "\n",
      "('BrightSide Technologies', 'Considered harmful') 0.13781028779832039\n",
      "{'Electronics companies by country', 'Film and video technology'}\n",
      "{'History of computing', 'Clichés'}\n",
      "\n",
      "('Hard Times Cafe (chain restaurant)', 'Canton, Massachusetts') 0.10591607573629278\n",
      "{'Virginia culture', 'Culture of Washington, D.C.', 'Maryland culture'}\n",
      "{'New England towns'}\n",
      "\n",
      "('Devon Record Offices', 'Marine Conservation Zone') 0.09458295209273825\n",
      "{'History of England by county', 'History organizations', 'Organisations based in England by county', 'Rail transport in England', 'Education in England by county', 'Unitary authority districts of England'}\n",
      "{'Industry in the United Kingdom', 'Law of the sea'}\n",
      "\n"
     ]
    }
   ],
   "source": [
    "ind = np.where(dist < 0.15)[0]\n",
    "for pos, value in enumerate(combinations(titles, 2)):\n",
    "    if pos in ind:\n",
    "        print(value, dist[pos])\n",
    "        print(categories[value[0]])\n",
    "        print(categories[value[1]])\n",
    "        print()"
   ]
  },
  {
   "cell_type": "code",
   "execution_count": null,
   "metadata": {},
   "outputs": [],
   "source": []
  }
 ],
 "metadata": {
  "kernelspec": {
   "display_name": "Python 3",
   "language": "python",
   "name": "python3"
  },
  "language_info": {
   "codemirror_mode": {
    "name": "ipython",
    "version": 3
   },
   "file_extension": ".py",
   "mimetype": "text/x-python",
   "name": "python",
   "nbconvert_exporter": "python",
   "pygments_lexer": "ipython3",
   "version": "3.6.9"
  }
 },
 "nbformat": 4,
 "nbformat_minor": 2
}
