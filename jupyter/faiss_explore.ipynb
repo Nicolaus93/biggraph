{
 "cells": [
  {
   "cell_type": "code",
   "execution_count": 1,
   "metadata": {},
   "outputs": [
    {
     "name": "stderr",
     "output_type": "stream",
     "text": [
      "Loading faiss with AVX2 support.\n"
     ]
    },
    {
     "data": {
      "text/plain": [
       "1648.4741"
      ]
     },
     "execution_count": 1,
     "metadata": {},
     "output_type": "execute_result"
    }
   ],
   "source": [
    "import numpy as np\n",
    "import faiss\n",
    "\n",
    "x = np.random.rand(10000, 10).astype(\"float32\")\n",
    "ncentroids = 1024\n",
    "niter = 20\n",
    "verbose = True\n",
    "d = x.shape[1]\n",
    "kmeans = faiss.Kmeans(d, ncentroids, niter=niter, verbose=verbose)\n",
    "kmeans.train(x)"
   ]
  },
  {
   "cell_type": "code",
   "execution_count": 5,
   "metadata": {},
   "outputs": [
    {
     "name": "stdout",
     "output_type": "stream",
     "text": [
      "Loading data..\n",
      "X shape: (7414768, 64)\n"
     ]
    }
   ],
   "source": [
    "from pathlib import Path\n",
    "import h5py\n",
    "from helper import load_data\n",
    "\n",
    "basename = \"indochina-2004\"\n",
    "model_path = Path(\"/data/models\") / basename\n",
    "print(\"Loading data..\")\n",
    "X, Y = load_data(model_path)\n",
    "classes = len(np.unique(Y))\n",
    "print(\"X shape: {}\".format(X.shape))"
   ]
  },
  {
   "cell_type": "code",
   "execution_count": 11,
   "metadata": {},
   "outputs": [
    {
     "data": {
      "text/plain": [
       "18.094744"
      ]
     },
     "execution_count": 11,
     "metadata": {},
     "output_type": "execute_result"
    }
   ],
   "source": [
    "d = X.shape[1]\n",
    "ncentroids = 5\n",
    "kmeans = faiss.Kmeans(d, ncentroids, niter=50, verbose=verbose)\n",
    "kmeans.train(X)"
   ]
  },
  {
   "cell_type": "code",
   "execution_count": 13,
   "metadata": {},
   "outputs": [],
   "source": [
    "D, I = kmeans.index.search(X, 1)"
   ]
  },
  {
   "cell_type": "code",
   "execution_count": 20,
   "metadata": {},
   "outputs": [
    {
     "data": {
      "text/plain": [
       "array([[0],\n",
       "       [2],\n",
       "       [2],\n",
       "       [2],\n",
       "       [2],\n",
       "       [0],\n",
       "       [2],\n",
       "       [4],\n",
       "       [2],\n",
       "       [0],\n",
       "       [0],\n",
       "       [0],\n",
       "       [4],\n",
       "       [0],\n",
       "       [0],\n",
       "       [0],\n",
       "       [0],\n",
       "       [0],\n",
       "       [0],\n",
       "       [0]])"
      ]
     },
     "execution_count": 20,
     "metadata": {},
     "output_type": "execute_result"
    }
   ],
   "source": [
    "I[:20]"
   ]
  },
  {
   "cell_type": "code",
   "execution_count": 25,
   "metadata": {},
   "outputs": [],
   "source": [
    "import json\n",
    "from helper import iter_partitions\n",
    "\n",
    "entities_list = []\n",
    "for json_f, _ in iter_partitions(model_path, names=True):\n",
    "        with open(json_f, \"rt\") as f:\n",
    "            entities = json.load(f)\n",
    "        entities_list += [int(i) for i in entities]"
   ]
  },
  {
   "cell_type": "code",
   "execution_count": 26,
   "metadata": {},
   "outputs": [
    {
     "data": {
      "text/plain": [
       "[5529548,\n",
       " 2085837,\n",
       " 3864810,\n",
       " 4536470,\n",
       " 5151715,\n",
       " 4550773,\n",
       " 5574743,\n",
       " 1748777,\n",
       " 1492777,\n",
       " 3389487]"
      ]
     },
     "execution_count": 26,
     "metadata": {},
     "output_type": "execute_result"
    }
   ],
   "source": [
    "entities_list[:10]"
   ]
  },
  {
   "cell_type": "code",
   "execution_count": 35,
   "metadata": {},
   "outputs": [
    {
     "name": "stdout",
     "output_type": "stream",
     "text": [
      "[0] http://www.hcm.edu.vn/cityweb/GV_Mon.idc?vfile=13EA01GV&mon=GD\n",
      "\n",
      "[2] http://www.mofa.gov.vn:8080/tbqt/15,04/ttqg%20hoso15,04.htm\n",
      "\n",
      "[2] http://www.buysell.in.th/buysell/cgi-bin/buysell.cgi?ct=jobother&md=second&id=1858&min=&max=\n",
      "\n",
      "[2] http://ipc10.dip.go.th/CalendarActivity/?tdate=13%2F5%2F2548\n",
      "\n",
      "[2] http://intraserver.nurse.cmu.ac.th/mis/course/course_detail.asp?CourseNo=559712&Offset=lecture\n",
      "\n",
      "[0] http://www.jinan.co.th/?sid=935820695&m=2&productid=13PC   Baby K6-333 Mhz.\n",
      "\n",
      "[2] http://www.pcworld.com.vn/pcworld/niengiam/?tgt=Detail.asp&UnitID=CT0170&_return=L3Bjd29ybGQvbmllbmdpYW0vRGVmYXVsdC5hc3A~dGd0PVNlYXJjaC5hc3AmQ2xhc3NpZmllZD0xJmlsPUgg\n",
      "\n",
      "[4] http://www.gdt.gov.vn/index.jsp?sid=7&scr=800&progid=25025&Sohieu=1040000006&Dieukien=HDON&ten=H%C3%B3a %C4%91%C6%A1n ch%E1%BB%A9ng t%E1%BB%AB&Type=1\n",
      "\n",
      "[2] http://www.bagan.net.mm/news/new_detail.asp?news_no=2155\n",
      "\n",
      "[0] http://www.krirk.ac.th/webboards/AdminControl/AEdit.asp?qNo=98Cat5&QCat=5&AnswerID=14\n",
      "\n",
      "[0] http://www.thaitravel.co.th/?page=SdbsHotel&HotelTypeId=12\n",
      "\n",
      "[0] http://compsci.buu.ac.th/docs/redhat_online/libgnome-2.4.0/\n",
      "\n",
      "[4] http://civil.en.kku.ac.th/civil/Forum/index.php?mark=forums&sid=0f529f1fa9935babb04976f7de12097c\n",
      "\n",
      "[0] http://www.friends.co.th/cgi-bin/schooldetail.asp?pid=03305&apid=0045&pass=0&id=4&id2=12\n",
      "\n",
      "[0] http://www.forest.go.th/w_market/trans.asp?trans_id=283\n",
      "\n",
      "[0] http://www.arts.chula.ac.th/~history/teacher1/otherservice/otherservice_piyanart.htm\n",
      "\n",
      "[0] http://internet1.off.fti.or.th/nfti/news/subnews_show.asp?id=340\n",
      "\n",
      "[0] http://www.thaigov.go.th/news/cab/45/cab05mar02.htm\n",
      "\n",
      "[0] http://www.st.ac.th/thaidepart/forums/index.php?s=f8db3d04dd44b90a9ca8d4098c37bd65&act=SF&f=38\n",
      "\n",
      "[0] http://www.bacninh.gov.vn/BN_Portal/KHCN.nsf/Sub_THDKHCN?searchview&query=[Date]<(05%2F13%2F2004) OR ([Date]=(05%2F13%2F2004) AND [DocNum]<(1075121))&start=0&SearchOrder=3&SearchMax=10\n",
      "\n",
      "[0] http://info.src.ku.ac.th/registration/real_register.asp?idstu=46200101&sm=1&yr=47\n",
      "\n"
     ]
    }
   ],
   "source": [
    "import linecache\n",
    "\n",
    "urls_file = Path('/data/graphs/') / basename / (basename + '.urls')\n",
    "f = urls_file.as_posix()\n",
    "for pos, value in enumerate(entities_list):\n",
    "    print(I[pos], linecache.getline(f, value + 1))\n",
    "    if pos >= 20:\n",
    "        break"
   ]
  },
  {
   "cell_type": "code",
   "execution_count": 38,
   "metadata": {},
   "outputs": [
    {
     "name": "stdout",
     "output_type": "stream",
     "text": [
      "Help on PCAMatrix in module faiss.swigfaiss_avx2 object:\n",
      "\n",
      "class PCAMatrix(LinearTransform)\n",
      " |  Method resolution order:\n",
      " |      PCAMatrix\n",
      " |      LinearTransform\n",
      " |      VectorTransform\n",
      " |      builtins.object\n",
      " |  \n",
      " |  Methods defined here:\n",
      " |  \n",
      " |  __del__ lambda self\n",
      " |  \n",
      " |  __getattr__ lambda self, name\n",
      " |  \n",
      " |  __init__(self, d_in=0, d_out=0, eigen_power=0, random_rotation=False)\n",
      " |      Initialize self.  See help(type(self)) for accurate signature.\n",
      " |  \n",
      " |  __repr__ = _swig_repr(self)\n",
      " |  \n",
      " |  __setattr__ lambda self, name, value\n",
      " |  \n",
      " |  __swig_destroy__ = delete_PCAMatrix(...)\n",
      " |  \n",
      " |  apply_py = apply_method(self, x)\n",
      " |  \n",
      " |  copy_from(self, other)\n",
      " |  \n",
      " |  prepare_Ab(self)\n",
      " |  \n",
      " |  train = replacement_vt_train(self, x)\n",
      " |  \n",
      " |  train_c = train(self, n, x)\n",
      " |  \n",
      " |  ----------------------------------------------------------------------\n",
      " |  Data descriptors defined here:\n",
      " |  \n",
      " |  PCAMat\n",
      " |  \n",
      " |  balanced_bins\n",
      " |  \n",
      " |  eigen_power\n",
      " |  \n",
      " |  eigenvalues\n",
      " |  \n",
      " |  max_points_per_d\n",
      " |  \n",
      " |  mean\n",
      " |  \n",
      " |  random_rotation\n",
      " |  \n",
      " |  ----------------------------------------------------------------------\n",
      " |  Data and other attributes defined here:\n",
      " |  \n",
      " |  __swig_getmethods__ = {'A': <built-in function LinearTransform_A_get>,...\n",
      " |  \n",
      " |  __swig_setmethods__ = {'A': <built-in function LinearTransform_A_set>,...\n",
      " |  \n",
      " |  ----------------------------------------------------------------------\n",
      " |  Methods inherited from LinearTransform:\n",
      " |  \n",
      " |  apply_noalloc(self, n, x, xt)\n",
      " |  \n",
      " |  print_if_verbose(self, name, mat, n, d)\n",
      " |  \n",
      " |  reverse_transform = replacement_reverse_transform(self, x)\n",
      " |  \n",
      " |  reverse_transform_c = reverse_transform(self, n, xt, x)\n",
      " |  \n",
      " |  set_is_orthonormal(self)\n",
      " |  \n",
      " |  transform_transpose(self, n, y, x)\n",
      " |  \n",
      " |  ----------------------------------------------------------------------\n",
      " |  Data descriptors inherited from LinearTransform:\n",
      " |  \n",
      " |  A\n",
      " |  \n",
      " |  b\n",
      " |  \n",
      " |  have_bias\n",
      " |  \n",
      " |  is_orthonormal\n",
      " |  \n",
      " |  verbose\n",
      " |  \n",
      " |  ----------------------------------------------------------------------\n",
      " |  Methods inherited from VectorTransform:\n",
      " |  \n",
      " |  apply(self, n, x)\n",
      " |  \n",
      " |  ----------------------------------------------------------------------\n",
      " |  Data descriptors inherited from VectorTransform:\n",
      " |  \n",
      " |  __dict__\n",
      " |      dictionary for instance variables (if defined)\n",
      " |  \n",
      " |  __weakref__\n",
      " |      list of weak references to the object (if defined)\n",
      " |  \n",
      " |  d_in\n",
      " |  \n",
      " |  d_out\n",
      " |  \n",
      " |  is_trained\n",
      "\n"
     ]
    }
   ],
   "source": [
    "help(mat)"
   ]
  },
  {
   "cell_type": "code",
   "execution_count": 39,
   "metadata": {},
   "outputs": [
    {
     "data": {
      "text/plain": [
       "(7414768, 2)"
      ]
     },
     "execution_count": 39,
     "metadata": {},
     "output_type": "execute_result"
    }
   ],
   "source": [
    "mat = faiss.PCAMatrix (64, 2)\n",
    "mat.train(X)\n",
    "assert mat.is_trained\n",
    "tr = mat.apply_py(X)\n",
    "tr.shape"
   ]
  },
  {
   "cell_type": "code",
   "execution_count": 40,
   "metadata": {},
   "outputs": [
    {
     "ename": "ModuleNotFoundError",
     "evalue": "No module named 'matplotlib'",
     "output_type": "error",
     "traceback": [
      "\u001b[0;31m---------------------------------------------------------------------------\u001b[0m",
      "\u001b[0;31mModuleNotFoundError\u001b[0m                       Traceback (most recent call last)",
      "\u001b[0;32m<ipython-input-40-a0d2faabd9e9>\u001b[0m in \u001b[0;36m<module>\u001b[0;34m\u001b[0m\n\u001b[0;32m----> 1\u001b[0;31m \u001b[0;32mimport\u001b[0m \u001b[0mmatplotlib\u001b[0m\u001b[0;34m.\u001b[0m\u001b[0mpyplot\u001b[0m \u001b[0;32mas\u001b[0m \u001b[0mplt\u001b[0m\u001b[0;34m\u001b[0m\u001b[0;34m\u001b[0m\u001b[0m\n\u001b[0m",
      "\u001b[0;31mModuleNotFoundError\u001b[0m: No module named 'matplotlib'"
     ]
    }
   ],
   "source": [
    "import matplotlib.pyplot as plt"
   ]
  },
  {
   "cell_type": "code",
   "execution_count": null,
   "metadata": {},
   "outputs": [],
   "source": []
  }
 ],
 "metadata": {
  "kernelspec": {
   "display_name": "Python 3",
   "language": "python",
   "name": "python3"
  },
  "language_info": {
   "codemirror_mode": {
    "name": "ipython",
    "version": 3
   },
   "file_extension": ".py",
   "mimetype": "text/x-python",
   "name": "python",
   "nbconvert_exporter": "python",
   "pygments_lexer": "ipython3",
   "version": "3.6.9"
  }
 },
 "nbformat": 4,
 "nbformat_minor": 2
}
