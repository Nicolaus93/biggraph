{
 "cells": [
  {
   "cell_type": "code",
   "execution_count": 1,
   "metadata": {},
   "outputs": [],
   "source": [
    "%matplotlib inline\n",
    "\n",
    "import matplotlib.pyplot as plt\n",
    "import numpy as np\n",
    "import linecache\n",
    "from pathlib import Path\n",
    "from tqdm import tqdm\n",
    "from sklearn import metrics\n",
    "import sys\n",
    "\n",
    "p = Path('.').resolve()\n",
    "sys.path.append(str(p.parent))"
   ]
  },
  {
   "cell_type": "code",
   "execution_count": 2,
   "metadata": {},
   "outputs": [
    {
     "name": "stderr",
     "output_type": "stream",
     "text": [
      "Loading faiss with AVX2 support.\n"
     ]
    }
   ],
   "source": [
    "from utils.faiss_utils import *\n",
    "from utils.data_utils import *"
   ]
  },
  {
   "cell_type": "code",
   "execution_count": 3,
   "metadata": {},
   "outputs": [],
   "source": [
    "import faiss\n",
    "\n",
    "\n",
    "def load_XY(basename):\n",
    "    \"\"\"\n",
    "    Load embeddings (X) and possibly the\n",
    "    labels (Y) of the graph {basename}.\n",
    "    \"\"\"\n",
    "    model_path = Path(\"/data/models\") / basename\n",
    "    print(\"Loading data..\")\n",
    "    X, Y = load_data(model_path)\n",
    "    classes = len(np.unique(Y))\n",
    "    print(\"X shape: {}\".format(X.shape))\n",
    "    return X, Y\n",
    "\n",
    "\n",
    "def centroid_neigh(basename, k_means, X, n=15):\n",
    "    \"\"\"\n",
    "    Find the n-nearest neighbours to k-means\n",
    "    cluster centroids.\n",
    "    \"\"\"\n",
    "    d = X.shape[1]\n",
    "    index = faiss.IndexFlatL2(d)\n",
    "    index.add(X)\n",
    "    D, I = index.search(k_means.centroids, n)\n",
    "    entities = get_entities_list(basename)\n",
    "    # find_neighbours(basename, I, entities)\n",
    "    find_neighbours(\"itwiki-2013\", I, entities)\n",
    "\n",
    "\n",
    "def find_neighbours(basename, idx, entities):\n",
    "    \"\"\"\n",
    "    Helper function for centroid_neigh.\n",
    "    \"\"\"\n",
    "    urls_file = Path('/data/graphs/') / basename / (basename + '.ids')\n",
    "    f = urls_file.as_posix()\n",
    "    for pos, cluster in enumerate(idx):\n",
    "        print(\"\\x1b[0;35;43m Cluster {} \\x1b[0m\".format(pos))\n",
    "        for node in cluster:\n",
    "            line = entities[node]\n",
    "            print(linecache.getline(f, line + 1))"
   ]
  },
  {
   "cell_type": "markdown",
   "metadata": {},
   "source": [
    "Here we use the embeddings learnt on the Italian version of wikipedia from 2013. To learn these embeddings we (randomly) splitted the data into 10 partitions. We now only consider the first partition."
   ]
  },
  {
   "cell_type": "code",
   "execution_count": 4,
   "metadata": {},
   "outputs": [],
   "source": [
    "basename = \"itwiki-2013_partitioned\"\n",
    "f = \"/data/graphs/itwiki-2013/itwiki-2013.ids\""
   ]
  },
  {
   "cell_type": "code",
   "execution_count": 5,
   "metadata": {},
   "outputs": [],
   "source": [
    "model_path = Path(\"/data/models\") / basename\n",
    "with (model_path / \"entity_names_link_0.json\").open() as tf:\n",
    "    entities_list = json.load(tf)\n",
    "hf_path = list(model_path.glob(\"embeddings_link_0*.h5\"))[0]\n",
    "hf = h5py.File(hf_path)\n",
    "x = hf[\"embeddings\"][:]\n",
    "# idx = train_search(x)\n",
    "# _, I = idx.search(x[0].reshape(1, -1), 20)\n",
    "# for i in I.flatten():\n",
    "#    line = int(entities_list[i]) + 1\n",
    "#    print(linecache.getline(f, line))"
   ]
  },
  {
   "cell_type": "markdown",
   "metadata": {},
   "source": [
    "To measure the quality of the clusters we will use the Silhouette score."
   ]
  },
  {
   "cell_type": "code",
   "execution_count": 6,
   "metadata": {},
   "outputs": [
    {
     "name": "stdout",
     "output_type": "stream",
     "text": [
      "Help on function silhouette_score in module sklearn.metrics.cluster.unsupervised:\n",
      "\n",
      "silhouette_score(X, labels, metric='euclidean', sample_size=None, random_state=None, **kwds)\n",
      "    Compute the mean Silhouette Coefficient of all samples.\n",
      "    \n",
      "    The Silhouette Coefficient is calculated using the mean intra-cluster\n",
      "    distance (``a``) and the mean nearest-cluster distance (``b``) for each\n",
      "    sample.  The Silhouette Coefficient for a sample is ``(b - a) / max(a,\n",
      "    b)``.  To clarify, ``b`` is the distance between a sample and the nearest\n",
      "    cluster that the sample is not a part of.\n",
      "    Note that Silhouette Coefficient is only defined if number of labels\n",
      "    is 2 <= n_labels <= n_samples - 1.\n",
      "    \n",
      "    This function returns the mean Silhouette Coefficient over all samples.\n",
      "    To obtain the values for each sample, use :func:`silhouette_samples`.\n",
      "    \n",
      "    The best value is 1 and the worst value is -1. Values near 0 indicate\n",
      "    overlapping clusters. Negative values generally indicate that a sample has\n",
      "    been assigned to the wrong cluster, as a different cluster is more similar.\n",
      "    \n",
      "    Read more in the :ref:`User Guide <silhouette_coefficient>`.\n",
      "    \n",
      "    Parameters\n",
      "    ----------\n",
      "    X : array [n_samples_a, n_samples_a] if metric == \"precomputed\", or,              [n_samples_a, n_features] otherwise\n",
      "        Array of pairwise distances between samples, or a feature array.\n",
      "    \n",
      "    labels : array, shape = [n_samples]\n",
      "         Predicted labels for each sample.\n",
      "    \n",
      "    metric : string, or callable\n",
      "        The metric to use when calculating distance between instances in a\n",
      "        feature array. If metric is a string, it must be one of the options\n",
      "        allowed by :func:`metrics.pairwise.pairwise_distances\n",
      "        <sklearn.metrics.pairwise.pairwise_distances>`. If X is the distance\n",
      "        array itself, use ``metric=\"precomputed\"``.\n",
      "    \n",
      "    sample_size : int or None\n",
      "        The size of the sample to use when computing the Silhouette Coefficient\n",
      "        on a random subset of the data.\n",
      "        If ``sample_size is None``, no sampling is used.\n",
      "    \n",
      "    random_state : int, RandomState instance or None, optional (default=None)\n",
      "        The generator used to randomly select a subset of samples.  If int,\n",
      "        random_state is the seed used by the random number generator; If\n",
      "        RandomState instance, random_state is the random number generator; If\n",
      "        None, the random number generator is the RandomState instance used by\n",
      "        `np.random`. Used when ``sample_size is not None``.\n",
      "    \n",
      "    **kwds : optional keyword parameters\n",
      "        Any further parameters are passed directly to the distance function.\n",
      "        If using a scipy.spatial.distance metric, the parameters are still\n",
      "        metric dependent. See the scipy docs for usage examples.\n",
      "    \n",
      "    Returns\n",
      "    -------\n",
      "    silhouette : float\n",
      "        Mean Silhouette Coefficient for all samples.\n",
      "    \n",
      "    References\n",
      "    ----------\n",
      "    \n",
      "    .. [1] `Peter J. Rousseeuw (1987). \"Silhouettes: a Graphical Aid to the\n",
      "       Interpretation and Validation of Cluster Analysis\". Computational\n",
      "       and Applied Mathematics 20: 53-65.\n",
      "       <https://www.sciencedirect.com/science/article/pii/0377042787901257>`_\n",
      "    \n",
      "    .. [2] `Wikipedia entry on the Silhouette Coefficient\n",
      "           <https://en.wikipedia.org/wiki/Silhouette_(clustering)>`_\n",
      "\n"
     ]
    }
   ],
   "source": [
    "help(metrics.silhouette_score)"
   ]
  },
  {
   "cell_type": "markdown",
   "metadata": {},
   "source": [
    "# 5 clusters\n",
    "\n",
    "We use k-means with 5 centroids and then calculate the Silhouette score."
   ]
  },
  {
   "cell_type": "code",
   "execution_count": 7,
   "metadata": {},
   "outputs": [
    {
     "name": "stdout",
     "output_type": "stream",
     "text": [
      "Silhouette Coefficient: 0.179\n"
     ]
    }
   ],
   "source": [
    "itwiki_kmeans = kmeans(x, 5, niter=100)\n",
    "D, I = itwiki_kmeans.index.search(x, 1)\n",
    "print(\"Silhouette Coefficient: %0.3f\" % metrics.silhouette_score(x, I.flatten()))"
   ]
  },
  {
   "cell_type": "markdown",
   "metadata": {},
   "source": [
    "Let's see what are the nodes closest to clusters' centroids.."
   ]
  },
  {
   "cell_type": "code",
   "execution_count": 8,
   "metadata": {
    "scrolled": true
   },
   "outputs": [
    {
     "name": "stdout",
     "output_type": "stream",
     "text": [
      "\u001b[0;35;43m Cluster 0 \u001b[0m\n",
      "Park Sung-Wha\n",
      "\n",
      "Viktor Vasin\n",
      "\n",
      "Andrej Panavić\n",
      "\n",
      "Bartosz Bosacki\n",
      "\n",
      "Davy Schollen\n",
      "\n",
      "Marc Schneider\n",
      "\n",
      "Lee Tae-Ho\n",
      "\n",
      "Jaroslav Šilhavý\n",
      "\n",
      "Alex Morgan\n",
      "\n",
      "César Ibáñez\n",
      "\n",
      "\u001b[0;35;43m Cluster 1 \u001b[0m\n",
      "Fort Wayne Pistons 1951-1952\n",
      "\n",
      "XRR\n",
      "\n",
      "Albatrellaceae\n",
      "\n",
      "LUI\n",
      "\n",
      "Circuito di Zeltweg\n",
      "\n",
      "Nikon D2H\n",
      "\n",
      "Lungotevere degli Altoviti\n",
      "\n",
      "Baciami adesso (Mietta)\n",
      "\n",
      "Discografia dei Negramaro\n",
      "\n",
      "Core 2 Quad\n",
      "\n",
      "\u001b[0;35;43m Cluster 2 \u001b[0m\n",
      "Faglia di Cadillac-Larder Lake\n",
      "\n",
      "Coal Bed Methane\n",
      "\n",
      "Narcosi da azoto\n",
      "\n",
      "Ripple mark\n",
      "\n",
      "Picnoclino\n",
      "\n",
      "Pompa petrolifera\n",
      "\n",
      "Associazione Nazionale Istruttori Subacquei\n",
      "\n",
      "Costa Hamakua\n",
      "\n",
      "Haifa Chemicals\n",
      "\n",
      "Nano (prefisso)\n",
      "\n",
      "\u001b[0;35;43m Cluster 3 \u001b[0m\n",
      "Surfin' Bird (singolo)\n",
      "\n",
      "Scarecrow\n",
      "\n",
      "Innocence\n",
      "\n",
      "Copacabana (singolo)\n",
      "\n",
      "The Mission (colonna sonora)\n",
      "\n",
      "Big Time\n",
      "\n",
      "Betrayed\n",
      "\n",
      "Adrian Edmondson\n",
      "\n",
      "Chain Reaction\n",
      "\n",
      "Fight Club\n",
      "\n",
      "\u001b[0;35;43m Cluster 4 \u001b[0m\n",
      "Luigi Valadier\n",
      "\n",
      "Collegio di Santa Croce\n",
      "\n",
      "Cattedrale di Santa Maria Assunta (San Severo)\n",
      "\n",
      "Emo (famiglia)\n",
      "\n",
      "Pio Panfili\n",
      "\n",
      "Paolo Pozzo\n",
      "\n",
      "Giuseppe Zurlo\n",
      "\n",
      "Chiesa di Nostra Signora del Rosario (Livorno)\n",
      "\n",
      "Chiesa di Santa Barbara (Livorno)\n",
      "\n",
      "Domenico Angeli\n",
      "\n"
     ]
    }
   ],
   "source": [
    "centroid_neigh(\"itwiki-2013_partitioned\", itwiki_kmeans, x, n=10)"
   ]
  },
  {
   "cell_type": "markdown",
   "metadata": {},
   "source": [
    "# 10 clusters\n",
    "\n",
    "We use k-means with 10 centroids and then calculate the Silhouette score."
   ]
  },
  {
   "cell_type": "code",
   "execution_count": 9,
   "metadata": {},
   "outputs": [
    {
     "name": "stdout",
     "output_type": "stream",
     "text": [
      "Silhouette Coefficient: 0.175\n"
     ]
    }
   ],
   "source": [
    "itwiki_kmeans = kmeans(x, 10, niter=100)\n",
    "D, I = itwiki_kmeans.index.search(x, 1)\n",
    "print(\"Silhouette Coefficient: %0.3f\" % metrics.silhouette_score(x, I.flatten()))"
   ]
  },
  {
   "cell_type": "markdown",
   "metadata": {},
   "source": [
    "Let's see what are the nodes closest to clusters' centroids.."
   ]
  },
  {
   "cell_type": "code",
   "execution_count": 10,
   "metadata": {},
   "outputs": [
    {
     "name": "stdout",
     "output_type": "stream",
     "text": [
      "\u001b[0;35;43m Cluster 0 \u001b[0m\n",
      "Adrien Decourcelle\n",
      "\n",
      "Arthur Arnould\n",
      "\n",
      "Karl von Abel\n",
      "\n",
      "Lucien-Anatole Prévost-Paradol\n",
      "\n",
      "Ernest Picard\n",
      "\n",
      "\u001b[0;35;43m Cluster 1 \u001b[0m\n",
      "A184\n",
      "\n",
      "Panhard ERC\n",
      "\n",
      "BTR-40\n",
      "\n",
      "Force Aérienne Populaire de Benin\n",
      "\n",
      "BA-10\n",
      "\n",
      "\u001b[0;35;43m Cluster 2 \u001b[0m\n",
      "Pericolosamente insieme\n",
      "\n",
      "Bolero Extasy\n",
      "\n",
      "Futureworld - 2000 anni nel futuro\n",
      "\n",
      "L'esorcista III\n",
      "\n",
      "La casa dei fantasmi\n",
      "\n",
      "\u001b[0;35;43m Cluster 3 \u001b[0m\n",
      "Carduus acanthoides\n",
      "\n",
      "Sulpicio Alessandro\n",
      "\n",
      "Charmahin\n",
      "\n",
      "Discografia dei Negramaro\n",
      "\n",
      "Albatrellaceae\n",
      "\n",
      "\u001b[0;35;43m Cluster 4 \u001b[0m\n",
      "Bwejuu\n",
      "\n",
      "Lingue halmahera-cenderawasih\n",
      "\n",
      "Bunguran\n",
      "\n",
      "ISO 3166-2:MG\n",
      "\n",
      "Limpopo (disambigua)\n",
      "\n",
      "\u001b[0;35;43m Cluster 5 \u001b[0m\n",
      "Trip hop\n",
      "\n",
      "6 Feet Deep\n",
      "\n",
      "Echoes, Silence, Patience & Grace\n",
      "\n",
      "Cannibal Killers Live\n",
      "\n",
      "It's Nothing\n",
      "\n",
      "\u001b[0;35;43m Cluster 6 \u001b[0m\n",
      "Viktor Vasin\n",
      "\n",
      "Alex Morgan\n",
      "\n",
      "Park Sung-Wha\n",
      "\n",
      "Bartosz Bosacki\n",
      "\n",
      "Davy Schollen\n",
      "\n",
      "\u001b[0;35;43m Cluster 7 \u001b[0m\n",
      "Collalbrigo\n",
      "\n",
      "Cantalupo (Imola)\n",
      "\n",
      "Castello di Buronzo\n",
      "\n",
      "Monte Poggiolo\n",
      "\n",
      "Duomo di Sacile\n",
      "\n",
      "\u001b[0;35;43m Cluster 8 \u001b[0m\n",
      "Foresta dell'Alto Palatinato\n",
      "\n",
      "Ottendorf\n",
      "\n",
      "Feldkirchen bei Graz\n",
      "\n",
      "Wolfsberg im Schwarzautal\n",
      "\n",
      "Wörth an der Lafnitz\n",
      "\n",
      "\u001b[0;35;43m Cluster 9 \u001b[0m\n",
      "Reazione-diffusione\n",
      "\n",
      "Bioinformatica\n",
      "\n",
      "Life as We Do Not Know It\n",
      "\n",
      "Catenani\n",
      "\n",
      "Telecobaltoterapia\n",
      "\n"
     ]
    }
   ],
   "source": [
    "centroid_neigh(\"itwiki-2013_partitioned\", itwiki_kmeans, x, n=5)"
   ]
  },
  {
   "cell_type": "markdown",
   "metadata": {},
   "source": [
    "# 20 clusters\n",
    "\n",
    "We use k-means with 20 centroids and then calculate the Silhouette score."
   ]
  },
  {
   "cell_type": "code",
   "execution_count": 11,
   "metadata": {},
   "outputs": [
    {
     "name": "stdout",
     "output_type": "stream",
     "text": [
      "Silhouette Coefficient: 0.235\n"
     ]
    }
   ],
   "source": [
    "itwiki_kmeans = kmeans(x, 20, niter=100)\n",
    "D, I = itwiki_kmeans.index.search(x, 1)\n",
    "print(\"Silhouette Coefficient: %0.3f\" % metrics.silhouette_score(x, I.flatten()))"
   ]
  },
  {
   "cell_type": "markdown",
   "metadata": {},
   "source": [
    "Let's see what are the nodes closest to clusters' centroids.."
   ]
  },
  {
   "cell_type": "code",
   "execution_count": 12,
   "metadata": {},
   "outputs": [
    {
     "name": "stdout",
     "output_type": "stream",
     "text": [
      "\u001b[0;35;43m Cluster 0 \u001b[0m\n",
      "Campionati europei di atletica leggera 2012 - 5000 metri piani femminili\n",
      "\n",
      "Wang Jie\n",
      "\n",
      "Pallavolo ai Giochi della XXVII Olimpiade\n",
      "\n",
      "Riccardo Lione\n",
      "\n",
      "Pallavolo ai Giochi della XXVIII Olimpiade\n",
      "\n",
      "\u001b[0;35;43m Cluster 1 \u001b[0m\n",
      "Saint-Sigismond\n",
      "\n",
      "Saint-Privat-des-Prés\n",
      "\n",
      "Sarry (Saona e Loira)\n",
      "\n",
      "Souspierre\n",
      "\n",
      "Sainte-Colombe-sur-Seine\n",
      "\n",
      "\u001b[0;35;43m Cluster 2 \u001b[0m\n",
      "Midlothian (disambigua)\n",
      "\n",
      "Avoca\n",
      "\n",
      "Aberdeen (disambigua)\n",
      "\n",
      "Northfield\n",
      "\n",
      "Plymouth (disambigua)\n",
      "\n",
      "\u001b[0;35;43m Cluster 3 \u001b[0m\n",
      "Premi BAFTA 1954\n",
      "\n",
      "Premi BAFTA 1953\n",
      "\n",
      "Il lupo dei mari\n",
      "\n",
      "La matadora\n",
      "\n",
      "Margherita della notte\n",
      "\n",
      "\u001b[0;35;43m Cluster 4 \u001b[0m\n",
      "Reazione-diffusione\n",
      "\n",
      "Bioinformatica\n",
      "\n",
      "Evoluzione chimica\n",
      "\n",
      "Dominio della frequenza\n",
      "\n",
      "Cella primitiva\n",
      "\n",
      "\u001b[0;35;43m Cluster 5 \u001b[0m\n",
      "Strada statale 62 della Cisa\n",
      "\n",
      "Passo del Lagastrello\n",
      "\n",
      "Dialetto della Lunigiana\n",
      "\n",
      "Strada statale 445 della Garfagnana\n",
      "\n",
      "Savena\n",
      "\n",
      "\u001b[0;35;43m Cluster 6 \u001b[0m\n",
      "Levent Topsakal\n",
      "\n",
      "Petko Lazarov\n",
      "\n",
      "Chuck Mrazovich\n",
      "\n",
      "Éric Beugnot\n",
      "\n",
      "Gonzalo Sagi-Vela\n",
      "\n",
      "\u001b[0;35;43m Cluster 7 \u001b[0m\n",
      "20451 Galeotti\n",
      "\n",
      "6585 O'Keefe\n",
      "\n",
      "4401 Aditi\n",
      "\n",
      "159826 Knapp\n",
      "\n",
      "William Kwong Yu Yeung\n",
      "\n",
      "\u001b[0;35;43m Cluster 8 \u001b[0m\n",
      "Lucien-Anatole Prévost-Paradol\n",
      "\n",
      "Ernest Picard\n",
      "\n",
      "André Léo\n",
      "\n",
      "Leó Frankel\n",
      "\n",
      "Raffaele Mariano\n",
      "\n",
      "\u001b[0;35;43m Cluster 9 \u001b[0m\n",
      "Cantone di Santa Isabel\n",
      "\n",
      "Dipartimento di Chimaltenango\n",
      "\n",
      "La Peña\n",
      "\n",
      "Dipartimento di Baja Verapaz\n",
      "\n",
      "Santa Rosa de Lima\n",
      "\n",
      "\u001b[0;35;43m Cluster 10 \u001b[0m\n",
      "Syncerus caffer caffer\n",
      "\n",
      "Pesce abissale\n",
      "\n",
      "Phacochoerus aethiopicus\n",
      "\n",
      "Phenacodus\n",
      "\n",
      "Lagocephalus lagocephalus\n",
      "\n",
      "\u001b[0;35;43m Cluster 11 \u001b[0m\n",
      "Chanakya\n",
      "\n",
      "Khvarenah\n",
      "\n",
      "Sari (Iran)\n",
      "\n",
      "Avanti (India)\n",
      "\n",
      "Lingua corasmia\n",
      "\n",
      "\u001b[0;35;43m Cluster 12 \u001b[0m\n",
      "Il diario di Barbie\n",
      "\n",
      "Edizioni home video di Toy Story 3 - La grande fuga\n",
      "\n",
      "Il vendicatore (film 1989)\n",
      "\n",
      "House of the Dead (film)\n",
      "\n",
      "Estremamente Pippo\n",
      "\n",
      "\u001b[0;35;43m Cluster 13 \u001b[0m\n",
      "Trip hop\n",
      "\n",
      "Don't Touch Me There\n",
      "\n",
      "Martin Glover\n",
      "\n",
      "Octane (album)\n",
      "\n",
      "Jesse Michaels\n",
      "\n",
      "\u001b[0;35;43m Cluster 14 \u001b[0m\n",
      "Nati nel 1410\n",
      "\n",
      "Carlo III di Borbone-Montpensier\n",
      "\n",
      "Nati nel 1485\n",
      "\n",
      "Chiesa di Santa Sofia (Padova)\n",
      "\n",
      "Giovanni Argiropulo\n",
      "\n",
      "\u001b[0;35;43m Cluster 15 \u001b[0m\n",
      "Foresta dell'Alto Palatinato\n",
      "\n",
      "Ottendorf\n",
      "\n",
      "Breitenbach\n",
      "\n",
      "Wolfsberg im Schwarzautal\n",
      "\n",
      "Liebenstein (disambigua)\n",
      "\n",
      "\u001b[0;35;43m Cluster 16 \u001b[0m\n",
      "Petăr Mihtarski\n",
      "\n",
      "Convocazioni per il campionato europeo di calcio Under-21 2000\n",
      "\n",
      "Valenciennes Football Club\n",
      "\n",
      "Mehdi Pashazadeh\n",
      "\n",
      "Coppa dei Campioni 1987-1988\n",
      "\n",
      "\u001b[0;35;43m Cluster 17 \u001b[0m\n",
      "Kuala Lumpur Challenger 1990 - Doppio\n",
      "\n",
      "Nagoya Challenger 1990 - Singolare\n",
      "\n",
      "Royal Bank of Scotland Challenger 2009\n",
      "\n",
      "Pretoria Challenger 1990 - Singolare\n",
      "\n",
      "Campos Challenger 1990 - Doppio\n",
      "\n",
      "\u001b[0;35;43m Cluster 18 \u001b[0m\n",
      "PZL.54 Ryś\n",
      "\n",
      "Panhard ERC\n",
      "\n",
      "Bernard 260\n",
      "\n",
      "Latécoère 26\n",
      "\n",
      "CANT 13\n",
      "\n",
      "\u001b[0;35;43m Cluster 19 \u001b[0m\n",
      "Adele Faccio\n",
      "\n",
      "Piero Bevilacqua\n",
      "\n",
      "Sandra Bonsanti\n",
      "\n",
      "Una città\n",
      "\n",
      "Carlo Vulpio\n",
      "\n"
     ]
    }
   ],
   "source": [
    "centroid_neigh(\"itwiki-2013_partitioned\", itwiki_kmeans, x, n=5)"
   ]
  },
  {
   "cell_type": "markdown",
   "metadata": {},
   "source": [
    "# 30 clusters\n",
    "\n",
    "We use k-means with 30 centroids and then calculate the Silhouette score."
   ]
  },
  {
   "cell_type": "code",
   "execution_count": 13,
   "metadata": {},
   "outputs": [
    {
     "name": "stdout",
     "output_type": "stream",
     "text": [
      "Silhouette Coefficient: 0.230\n"
     ]
    }
   ],
   "source": [
    "itwiki_kmeans = kmeans(x, 30, niter=100)\n",
    "D, I = itwiki_kmeans.index.search(x, 1)\n",
    "print(\"Silhouette Coefficient: %0.3f\" % metrics.silhouette_score(x, I.flatten()))"
   ]
  },
  {
   "cell_type": "markdown",
   "metadata": {},
   "source": [
    "Let's see what are the nodes closest to clusters' centroids.."
   ]
  },
  {
   "cell_type": "code",
   "execution_count": 14,
   "metadata": {},
   "outputs": [
    {
     "name": "stdout",
     "output_type": "stream",
     "text": [
      "\u001b[0;35;43m Cluster 0 \u001b[0m\n",
      "RSS Persiana\n",
      "\n",
      "Operazione Simoom\n",
      "\n",
      "EUROMARFOR\n",
      "\n",
      "Special Interrogation Group\n",
      "\n",
      "Diritti umani in Finlandia\n",
      "\n",
      "\u001b[0;35;43m Cluster 1 \u001b[0m\n",
      "Marysville\n",
      "\n",
      "Sumner (Washington)\n",
      "\n",
      "White Oak\n",
      "\n",
      "Des Moines (disambigua)\n",
      "\n",
      "Contea di Clermont\n",
      "\n",
      "\u001b[0;35;43m Cluster 2 \u001b[0m\n",
      "Petăr Mihtarski\n",
      "\n",
      "Convocazioni per il campionato europeo di calcio Under-21 2000\n",
      "\n",
      "Valenciennes Football Club\n",
      "\n",
      "Coppa dei Campioni 1987-1988\n",
      "\n",
      "Supercoppa di Francia 1997\n",
      "\n",
      "\u001b[0;35;43m Cluster 3 \u001b[0m\n",
      "Ottendorf\n",
      "\n",
      "Foresta dell'Alto Palatinato\n",
      "\n",
      "Trebnitz\n",
      "\n",
      "Breitenbach\n",
      "\n",
      "Bronkow\n",
      "\n",
      "\u001b[0;35;43m Cluster 4 \u001b[0m\n",
      "Composizione della membrana cellulare\n",
      "\n",
      "Fluoresceina sodica\n",
      "\n",
      "Codone\n",
      "\n",
      "Argirofilia\n",
      "\n",
      "Superscan\n",
      "\n",
      "\u001b[0;35;43m Cluster 5 \u001b[0m\n",
      "Il lupo dei mari\n",
      "\n",
      "La disperata notte\n",
      "\n",
      "La matadora\n",
      "\n",
      "Premi BAFTA 1954\n",
      "\n",
      "Pinky, la negra bianca\n",
      "\n",
      "\u001b[0;35;43m Cluster 6 \u001b[0m\n",
      "Mildura Grand Tennis International 2011\n",
      "\n",
      "Surbiton Trophy 2005\n",
      "\n",
      "Challenger of Santa Clarita\n",
      "\n",
      "Latrobe City Tennis International 2011\n",
      "\n",
      "Rising Star Tour 2012\n",
      "\n",
      "\u001b[0;35;43m Cluster 7 \u001b[0m\n",
      "Canberra Challenger 1990 - Doppio\n",
      "\n",
      "Tallahassee Tennis Challenger 2010\n",
      "\n",
      "Countrywide Classic 1994\n",
      "\n",
      "Tallahassee Tennis Challenger 2009\n",
      "\n",
      "Volvo U.S. National Indoor 1990\n",
      "\n",
      "\u001b[0;35;43m Cluster 8 \u001b[0m\n",
      "Clementina d'Orléans\n",
      "\n",
      "Laure Junot d'Abrantès\n",
      "\n",
      "Pierre-Louis Roederer\n",
      "\n",
      "Maria Carolina Augusta di Borbone\n",
      "\n",
      "Antoine Rivaroli\n",
      "\n",
      "\u001b[0;35;43m Cluster 9 \u001b[0m\n",
      "Brad Bird\n",
      "\n",
      "Harvey Weinstein\n",
      "\n",
      "Thandie Newton\n",
      "\n",
      "Miramax Films\n",
      "\n",
      "Stefan Czapsky\n",
      "\n",
      "\u001b[0;35;43m Cluster 10 \u001b[0m\n",
      "Don't Touch Me There\n",
      "\n",
      "Trip hop\n",
      "\n",
      "Martin Glover\n",
      "\n",
      "6 Feet Deep\n",
      "\n",
      "Jesse Michaels\n",
      "\n",
      "\u001b[0;35;43m Cluster 11 \u001b[0m\n",
      "Bernard Magnin\n",
      "\n",
      "Levent Topsakal\n",
      "\n",
      "Gonzalo Sagi-Vela\n",
      "\n",
      "Éric Beugnot\n",
      "\n",
      "Adolfo Lubnicki\n",
      "\n",
      "\u001b[0;35;43m Cluster 12 \u001b[0m\n",
      "Doppio pendolo\n",
      "\n",
      "Rotore (matematica)\n",
      "\n",
      "Dominio della frequenza\n",
      "\n",
      "Quintilione\n",
      "\n",
      "Pacchetto d'onda\n",
      "\n",
      "\u001b[0;35;43m Cluster 13 \u001b[0m\n",
      "Mercato Saraceno\n",
      "\n",
      "Città decorate al valor civile\n",
      "\n",
      "Città decorate al merito civile\n",
      "\n",
      "Inceneritori in Italia\n",
      "\n",
      "Strada statale 1 Via Aurelia\n",
      "\n",
      "\u001b[0;35;43m Cluster 14 \u001b[0m\n",
      "Isotta Fraschini K.14\n",
      "\n",
      "Isotta Fraschini Asso 750\n",
      "\n",
      "Piaggio P.XII\n",
      "\n",
      "Rolls-Royce Peregrine\n",
      "\n",
      "Veicoli da trasporto Dodge\n",
      "\n",
      "\u001b[0;35;43m Cluster 15 \u001b[0m\n",
      "Saint-Sigismond\n",
      "\n",
      "Sainte-Colombe-sur-Seine\n",
      "\n",
      "Saint-Privat-des-Prés\n",
      "\n",
      "Sarry (Saona e Loira)\n",
      "\n",
      "Crévéchamps\n",
      "\n",
      "\u001b[0;35;43m Cluster 16 \u001b[0m\n",
      "Cantone di Santa Isabel\n",
      "\n",
      "Dipartimento di Baja Verapaz\n",
      "\n",
      "La Paz de Carazo\n",
      "\n",
      "Vaupés\n",
      "\n",
      "Buenos Aires (Nicaragua)\n",
      "\n",
      "\u001b[0;35;43m Cluster 17 \u001b[0m\n",
      "Eksara\n",
      "\n",
      "BHU\n",
      "\n",
      "Silchar Part-X\n",
      "\n",
      "Chandpur\n",
      "\n",
      "Perso-Arabic Script Code for Information Interchange\n",
      "\n",
      "\u001b[0;35;43m Cluster 18 \u001b[0m\n",
      "Tristan Tzara\n",
      "\n",
      "Paul Fort\n",
      "\n",
      "Théâtre de la Ville\n",
      "\n",
      "Hanseatic Goethe Prize\n",
      "\n",
      "Teatro futurista\n",
      "\n",
      "\u001b[0;35;43m Cluster 19 \u001b[0m\n",
      "Lista delle uve nel mondo\n",
      "\n",
      "Preane\n",
      "\n",
      "Boli\n",
      "\n",
      "Valpolicella (disambigua)\n",
      "\n",
      "Valle d'Aosta Torrette\n",
      "\n",
      "\u001b[0;35;43m Cluster 20 \u001b[0m\n",
      "Diocesi di Buffada\n",
      "\n",
      "Episodi di True Jackson, VP (prima stagione)\n",
      "\n",
      "Diocesi di Sufasar\n",
      "\n",
      "Episodi di Joey (prima stagione)\n",
      "\n",
      "Episodi di Men in Trees - Segnali d'amore (seconda stagione)\n",
      "\n",
      "\u001b[0;35;43m Cluster 21 \u001b[0m\n",
      "Zalla\n",
      "\n",
      "Abadiño\n",
      "\n",
      "Lemoa\n",
      "\n",
      "Izurtza\n",
      "\n",
      "Azpeitia\n",
      "\n",
      "\u001b[0;35;43m Cluster 22 \u001b[0m\n",
      "Saverio Lodato\n",
      "\n",
      "Gaspare Mutolo\n",
      "\n",
      "Carlo Vulpio\n",
      "\n",
      "Sandra Bonsanti\n",
      "\n",
      "Mauro della Porta Raffo\n",
      "\n",
      "\u001b[0;35;43m Cluster 23 \u001b[0m\n",
      "Syncerus caffer caffer\n",
      "\n",
      "Phacochoerus aethiopicus\n",
      "\n",
      "Chenonetta jubata\n",
      "\n",
      "Phenacodus\n",
      "\n",
      "Sarkastodon\n",
      "\n",
      "\u001b[0;35;43m Cluster 24 \u001b[0m\n",
      "Ebraico tiberiense\n",
      "\n",
      "Hunayn ibn Ishaq\n",
      "\n",
      "Libro di Sofonia\n",
      "\n",
      "Jehu\n",
      "\n",
      "Zorobabele\n",
      "\n",
      "\u001b[0;35;43m Cluster 25 \u001b[0m\n",
      "Mana (videogioco)\n",
      "\n",
      "Mortal Kombat II\n",
      "\n",
      "Tales of Pirates\n",
      "\n",
      "Shoryuken\n",
      "\n",
      "Final Fantasy IV: The After Years\n",
      "\n",
      "\u001b[0;35;43m Cluster 26 \u001b[0m\n",
      "Cina ai Giochi olimpici\n",
      "\n",
      "Bielorussia ai Giochi olimpici\n",
      "\n",
      "Nuova Zelanda ai Giochi olimpici\n",
      "\n",
      "Grecia ai Giochi olimpici\n",
      "\n",
      "Saint Vincent e Grenadine ai Giochi olimpici\n",
      "\n",
      "\u001b[0;35;43m Cluster 27 \u001b[0m\n",
      "Courage League 1987-1988\n",
      "\n",
      "Rugby a 15 nel 1908\n",
      "\n",
      "Il decennio 1891-1900 nel rugby\n",
      "\n",
      "Rugby a 15 nel 1907\n",
      "\n",
      "Home Championship 1905\n",
      "\n",
      "\u001b[0;35;43m Cluster 28 \u001b[0m\n",
      "Abbazia di San Salvatore (Fucecchio)\n",
      "\n",
      "Chiesa di Santa Sofia (Padova)\n",
      "\n",
      "Nati nel 1410\n",
      "\n",
      "Pieve di Santa Maria Assunta a Cellole\n",
      "\n",
      "Ermolao Barbaro (politico)\n",
      "\n",
      "\u001b[0;35;43m Cluster 29 \u001b[0m\n",
      "11509 Thersilochos\n",
      "\n",
      "4396 Gressmann\n",
      "\n",
      "Miloš Tichý\n",
      "\n",
      "10807 Uggarde\n",
      "\n",
      "23068 Tyagi\n",
      "\n"
     ]
    }
   ],
   "source": [
    "centroid_neigh(\"itwiki-2013_partitioned\", itwiki_kmeans, x, n=5)"
   ]
  },
  {
   "cell_type": "markdown",
   "metadata": {},
   "source": [
    "# Map score"
   ]
  },
  {
   "cell_type": "markdown",
   "metadata": {},
   "source": [
    "We will now compute the Mean Average Precision score on the embeddings obtained (considering only out nodes)."
   ]
  },
  {
   "cell_type": "code",
   "execution_count": 15,
   "metadata": {},
   "outputs": [
    {
     "name": "stdout",
     "output_type": "stream",
     "text": [
      "Help on function map_score in module measure_map:\n",
      "\n",
      "map_score(X, nodes, ind, neigh_num=50)\n",
      "    Compute the map score of the given embedding.\n",
      "    If the number of neighbours of the current node\n",
      "    is bigger than the one given as input, returns\n",
      "    the current node as an outlier.\n",
      "    Input:\n",
      "        - X (np.array), embeddings\n",
      "        - nodes (list[list]), neighbours of each node\n",
      "        - ind (faiss index), index used to compute L2\n",
      "                            distances for the embeddings\n",
      "        - neigh_num (int), number of neighbours considered\n",
      "    Output:\n",
      "        - score (float), map score\n",
      "        - outliers (list)\n",
      "        - singleton, number of singleton nodes\n",
      "\n"
     ]
    }
   ],
   "source": [
    "from measure_map import map_score\n",
    "\n",
    "help(map_score)"
   ]
  },
  {
   "cell_type": "code",
   "execution_count": 16,
   "metadata": {},
   "outputs": [
    {
     "name": "stdout",
     "output_type": "stream",
     "text": [
      "Help on function nodes_from_ascii in module utils.data_utils:\n",
      "\n",
      "nodes_from_ascii(basename, in_nodes=False)\n",
      "    Read nodes from ascii file.\n",
      "    Input:\n",
      "        - basename (str), name of the graph\n",
      "        - in_nodes (bool), if True return in_nodes\n",
      "    Output:\n",
      "        nodes (list), list of out_nodes\n",
      "                    (in_nodes) if in_nodes=True\n",
      "\n"
     ]
    }
   ],
   "source": [
    "help(nodes_from_ascii)"
   ]
  },
  {
   "cell_type": "code",
   "execution_count": 17,
   "metadata": {},
   "outputs": [
    {
     "name": "stdout",
     "output_type": "stream",
     "text": [
      "1016867 vertices\n",
      "reading..\n"
     ]
    },
    {
     "name": "stderr",
     "output_type": "stream",
     "text": [
      "100%|██████████| 1016867/1016867 [00:11<00:00, 91369.71it/s]"
     ]
    },
    {
     "name": "stdout",
     "output_type": "stream",
     "text": [
      "Found 8215 singleton nodes\n"
     ]
    },
    {
     "name": "stderr",
     "output_type": "stream",
     "text": [
      "\n"
     ]
    }
   ],
   "source": [
    "out_nodes = nodes_from_ascii(\"itwiki-2013\")"
   ]
  },
  {
   "cell_type": "code",
   "execution_count": 18,
   "metadata": {},
   "outputs": [],
   "source": [
    "entities_list = [int(i) for i in entities_list]"
   ]
  },
  {
   "cell_type": "code",
   "execution_count": 19,
   "metadata": {},
   "outputs": [],
   "source": [
    "nodes = [out_nodes[i] for i in entities_list]"
   ]
  },
  {
   "cell_type": "markdown",
   "metadata": {},
   "source": [
    "We need to retrieve the original ids and "
   ]
  },
  {
   "cell_type": "code",
   "execution_count": 21,
   "metadata": {},
   "outputs": [
    {
     "name": "stdout",
     "output_type": "stream",
     "text": [
      "289638 []\n",
      "375342 []\n",
      "375343 []\n",
      "375347 []\n",
      "378815 []\n",
      "388620 []\n",
      "388941 [70192]\n",
      "389964 []\n",
      "396900 []\n",
      "522319 []\n",
      "532258 []\n",
      "760961 []\n",
      "861289 []\n",
      "867371 []\n",
      "867398 []\n"
     ]
    }
   ],
   "source": [
    "e_list_array = np.array(entities_list)\n",
    "\n",
    "for i in nodes[0]:\n",
    "    print(i, np.where(e_list_array == i)[0])\n",
    "\n",
    "new_nodes = [list() for _ in nodes]\n",
    "for pos, neigh in tqdm(enumerate(nodes)):\n",
    "    for n in neigh:\n",
    "        temp = np.where(e_list_array == n)[0]\n",
    "        if len(temp) > 0:\n",
    "            new_nodes[pos].append(temp[0])"
   ]
  },
  {
   "cell_type": "code",
   "execution_count": 25,
   "metadata": {},
   "outputs": [
    {
     "name": "stdout",
     "output_type": "stream",
     "text": [
      "Index trained: True\n",
      "Index total: 101618\n"
     ]
    },
    {
     "data": {
      "text/plain": [
       "0.023499976674571738"
      ]
     },
     "execution_count": 25,
     "metadata": {},
     "output_type": "execute_result"
    }
   ],
   "source": [
    "idx = train_search(x)\n",
    "score, a, b = map_score(x, new_nodes, idx)\n",
    "score / len(x)"
   ]
  },
  {
   "cell_type": "markdown",
   "metadata": {},
   "source": [
    "This isn't the exact map score, since we are not considering the outliers (nodes with more than 50 neighbours) and singletons (nodes with no neighbours).\n",
    "\n",
    "How many outliers do we have?"
   ]
  },
  {
   "cell_type": "code",
   "execution_count": 26,
   "metadata": {},
   "outputs": [
    {
     "data": {
      "text/plain": [
       "658"
      ]
     },
     "execution_count": 26,
     "metadata": {},
     "output_type": "execute_result"
    }
   ],
   "source": [
    "len(a)"
   ]
  },
  {
   "cell_type": "markdown",
   "metadata": {},
   "source": [
    "How many singletons?"
   ]
  },
  {
   "cell_type": "code",
   "execution_count": 27,
   "metadata": {},
   "outputs": [
    {
     "data": {
      "text/plain": [
       "28900"
      ]
     },
     "execution_count": 27,
     "metadata": {},
     "output_type": "execute_result"
    }
   ],
   "source": [
    "b"
   ]
  },
  {
   "cell_type": "markdown",
   "metadata": {},
   "source": [
    "The issue on having so many singletons depends on the fact that partitioning the nodes, some neighbours nodes will end up in different partitions.\n",
    "\n",
    "\n",
    "\n",
    "Just for curiosity, how many nodes in this partition have more than 1 neighbour?"
   ]
  },
  {
   "cell_type": "code",
   "execution_count": 28,
   "metadata": {},
   "outputs": [
    {
     "data": {
      "text/plain": [
       "48383"
      ]
     },
     "execution_count": 28,
     "metadata": {},
     "output_type": "execute_result"
    }
   ],
   "source": [
    "count = 0\n",
    "for i in new_nodes:\n",
    "    if len(i) > 1:\n",
    "        count += 1\n",
    "count"
   ]
  },
  {
   "cell_type": "markdown",
   "metadata": {},
   "source": [
    "We can compute now the MAP score:"
   ]
  },
  {
   "cell_type": "code",
   "execution_count": 29,
   "metadata": {},
   "outputs": [
    {
     "data": {
      "text/plain": [
       "0.03313933707627853"
      ]
     },
     "execution_count": 29,
     "metadata": {},
     "output_type": "execute_result"
    }
   ],
   "source": [
    "score / (len(x) - len(a) - b)"
   ]
  }
 ],
 "metadata": {
  "kernelspec": {
   "display_name": "Python 3",
   "language": "python",
   "name": "python3"
  },
  "language_info": {
   "codemirror_mode": {
    "name": "ipython",
    "version": 3
   },
   "file_extension": ".py",
   "mimetype": "text/x-python",
   "name": "python",
   "nbconvert_exporter": "python",
   "pygments_lexer": "ipython3",
   "version": "3.6.9"
  }
 },
 "nbformat": 4,
 "nbformat_minor": 2
}
