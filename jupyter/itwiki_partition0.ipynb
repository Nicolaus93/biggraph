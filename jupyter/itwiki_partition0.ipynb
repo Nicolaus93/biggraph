{
 "cells": [
  {
   "cell_type": "code",
   "execution_count": 2,
   "metadata": {},
   "outputs": [],
   "source": [
    "%matplotlib inline\n",
    "\n",
    "import matplotlib.pyplot as plt\n",
    "import numpy as np\n",
    "import linecache\n",
    "from pathlib import Path\n",
    "from tqdm import tqdm\n",
    "import sys\n",
    "\n",
    "p = Path('.').resolve()\n",
    "sys.path.append(str(p.parent))"
   ]
  },
  {
   "cell_type": "code",
   "execution_count": 3,
   "metadata": {},
   "outputs": [
    {
     "name": "stderr",
     "output_type": "stream",
     "text": [
      "Loading faiss with AVX2 support.\n"
     ]
    }
   ],
   "source": [
    "from utils.faiss_utils import *\n",
    "from utils.data_utils import *"
   ]
  },
  {
   "cell_type": "code",
   "execution_count": 17,
   "metadata": {},
   "outputs": [],
   "source": [
    "import faiss\n",
    "\n",
    "\n",
    "def load_XY(basename):\n",
    "    \"\"\"\n",
    "    Load embeddings (X) and possibly the\n",
    "    labels (Y) of the graph {basename}.\n",
    "    \"\"\"\n",
    "    model_path = Path(\"/data/models\") / basename\n",
    "    print(\"Loading data..\")\n",
    "    X, Y = load_data(model_path)\n",
    "    classes = len(np.unique(Y))\n",
    "    print(\"X shape: {}\".format(X.shape))\n",
    "    return X, Y\n",
    "\n",
    "\n",
    "def centroid_neigh(basename, k_means, X, n=15):\n",
    "    \"\"\"\n",
    "    Find the n-nearest neighbours to k-means\n",
    "    cluster centroids.\n",
    "    \"\"\"\n",
    "    d = X.shape[1]\n",
    "    index = faiss.IndexFlatL2(d)\n",
    "    index.add(X)\n",
    "    D, I = index.search(k_means.centroids, n)\n",
    "    entities = get_entities_list(basename)\n",
    "    print(entities[:10])\n",
    "    # find_neighbours(basename, I, entities)\n",
    "    find_neighbours(\"itwiki-2013\", I, entities)\n",
    "\n",
    "\n",
    "def find_neighbours(basename, idx, entities):\n",
    "    \"\"\"\n",
    "    Helper function for centroid_neigh.\n",
    "    \"\"\"\n",
    "    urls_file = Path('/data/graphs/') / basename / (basename + '.ids')\n",
    "    f = urls_file.as_posix()\n",
    "    for pos, cluster in enumerate(idx):\n",
    "        print(\"\\x1b[0;35;43m Cluster {} \\x1b[0m\".format(pos))\n",
    "        for node in cluster:\n",
    "            line = entities[node]\n",
    "            print(linecache.getline(f, line + 1), entities[node])"
   ]
  },
  {
   "cell_type": "code",
   "execution_count": 11,
   "metadata": {},
   "outputs": [],
   "source": [
    "basename = \"itwiki-2013_partitioned\"\n",
    "f = \"/data/graphs/itwiki-2013/itwiki-2013.ids\""
   ]
  },
  {
   "cell_type": "code",
   "execution_count": 12,
   "metadata": {},
   "outputs": [
    {
     "name": "stdout",
     "output_type": "stream",
     "text": [
      "Index trained: True\n",
      "Index total: 101618\n",
      "Platinum Dunes\n",
      "\n",
      "Generazione perfetta\n",
      "\n",
      "La figlia del mio capo\n",
      "\n",
      "Movie 43\n",
      "\n",
      "Big Mama - Tale padre, tale figlio\n",
      "\n",
      "The Roommate - Il terrore ti dorme accanto\n",
      "\n",
      "Il gatto... e il cappello matto\n",
      "\n",
      "Gigolò per sbaglio\n",
      "\n",
      "After.Life\n",
      "\n",
      "David Twohy\n",
      "\n",
      "Ti presento Bill\n",
      "\n",
      "The Boondock Saints 2 - Il giorno di Ognissanti\n",
      "\n",
      "Chestnut - Un eroe a quattro zampe\n",
      "\n",
      "Accerchiato\n",
      "\n",
      "Best Men - Amici per la pelle\n",
      "\n",
      "The Weinstein Company\n",
      "\n",
      "MTV Movie Awards 2002\n",
      "\n",
      "One for the Money\n",
      "\n",
      "Cenerentola e gli 007 nani\n",
      "\n",
      "Ho rapito Sinatra\n",
      "\n"
     ]
    }
   ],
   "source": [
    "model_path = Path(\"/data/models\") / basename\n",
    "with (model_path / \"entity_names_link_0.json\").open() as tf:\n",
    "    entities_list = json.load(tf)\n",
    "hf_path = list(model_path.glob(\"embeddings_link_0*.h5\"))[0]\n",
    "hf = h5py.File(hf_path)\n",
    "x = hf[\"embeddings\"][:]\n",
    "idx = train_search(x)\n",
    "_, I = idx.search(x[0].reshape(1, -1), 20)\n",
    "for i in I.flatten():\n",
    "    line = int(entities_list[i]) + 1\n",
    "    print(linecache.getline(f, line))"
   ]
  },
  {
   "cell_type": "code",
   "execution_count": 13,
   "metadata": {},
   "outputs": [],
   "source": [
    "itwiki_kmeans = kmeans(x, 5, niter=100)"
   ]
  },
  {
   "cell_type": "code",
   "execution_count": 14,
   "metadata": {},
   "outputs": [
    {
     "data": {
      "text/plain": [
       "['375341',\n",
       " '664430',\n",
       " '728407',\n",
       " '16627',\n",
       " '716009',\n",
       " '807080',\n",
       " '1011428',\n",
       " '230978',\n",
       " '426862',\n",
       " '381918']"
      ]
     },
     "execution_count": 14,
     "metadata": {},
     "output_type": "execute_result"
    }
   ],
   "source": [
    "entities_list[:10]"
   ]
  },
  {
   "cell_type": "code",
   "execution_count": 18,
   "metadata": {},
   "outputs": [
    {
     "name": "stdout",
     "output_type": "stream",
     "text": [
      "[375341, 664430, 728407, 16627, 716009, 807080, 1011428, 230978, 426862, 381918]\n",
      "\u001b[0;35;43m Cluster 0 \u001b[0m\n",
      "Park Sung-Wha\n",
      " 313535\n",
      "Viktor Vasin\n",
      " 314577\n",
      "Andrej Panavić\n",
      " 646953\n",
      "Bartosz Bosacki\n",
      " 284388\n",
      "Davy Schollen\n",
      " 647082\n",
      "Marc Schneider\n",
      " 541678\n",
      "Lee Tae-Ho\n",
      " 313487\n",
      "Jaroslav Šilhavý\n",
      " 284273\n",
      "Alex Morgan\n",
      " 760733\n",
      "César Ibáñez\n",
      " 292466\n",
      "\u001b[0;35;43m Cluster 1 \u001b[0m\n",
      "Fort Wayne Pistons 1951-1952\n",
      " 929683\n",
      "XRR\n",
      " 995801\n",
      "Albatrellaceae\n",
      " 921440\n",
      "LUI\n",
      " 956500\n",
      "Circuito di Zeltweg\n",
      " 992024\n",
      "Nikon D2H\n",
      " 1001695\n",
      "Lungotevere degli Altoviti\n",
      " 957874\n",
      "Baciami adesso (Mietta)\n",
      " 951364\n",
      "Discografia dei Negramaro\n",
      " 950478\n",
      "Core 2 Quad\n",
      " 1009350\n",
      "\u001b[0;35;43m Cluster 2 \u001b[0m\n",
      "Faglia di Cadillac-Larder Lake\n",
      " 463714\n",
      "Coal Bed Methane\n",
      " 732666\n",
      "Narcosi da azoto\n",
      " 791955\n",
      "Ripple mark\n",
      " 135958\n",
      "Picnoclino\n",
      " 139135\n",
      "Pompa petrolifera\n",
      " 787977\n",
      "Associazione Nazionale Istruttori Subacquei\n",
      " 791988\n",
      "Costa Hamakua\n",
      " 649205\n",
      "Haifa Chemicals\n",
      " 264541\n",
      "Nano (prefisso)\n",
      " 740598\n",
      "\u001b[0;35;43m Cluster 3 \u001b[0m\n",
      "Surfin' Bird (singolo)\n",
      " 830379\n",
      "Scarecrow\n",
      " 719885\n",
      "Innocence\n",
      " 48445\n",
      "Copacabana (singolo)\n",
      " 798750\n",
      "The Mission (colonna sonora)\n",
      " 90928\n",
      "Big Time\n",
      " 534233\n",
      "Betrayed\n",
      " 726725\n",
      "Adrian Edmondson\n",
      " 861022\n",
      "Chain Reaction\n",
      " 670337\n",
      "Fight Club\n",
      " 564082\n",
      "\u001b[0;35;43m Cluster 4 \u001b[0m\n",
      "Luigi Valadier\n",
      " 56453\n",
      "Collegio di Santa Croce\n",
      " 442970\n",
      "Cattedrale di Santa Maria Assunta (San Severo)\n",
      " 323712\n",
      "Emo (famiglia)\n",
      " 792812\n",
      "Pio Panfili\n",
      " 550580\n",
      "Paolo Pozzo\n",
      " 459243\n",
      "Giuseppe Zurlo\n",
      " 497130\n",
      "Chiesa di Nostra Signora del Rosario (Livorno)\n",
      " 695702\n",
      "Chiesa di Santa Barbara (Livorno)\n",
      " 695643\n",
      "Domenico Angeli\n",
      " 700092\n"
     ]
    }
   ],
   "source": [
    "centroid_neigh(\"itwiki-2013_partitioned\", itwiki_kmeans, x, n=10)"
   ]
  },
  {
   "cell_type": "code",
   "execution_count": null,
   "metadata": {},
   "outputs": [],
   "source": []
  }
 ],
 "metadata": {
  "kernelspec": {
   "display_name": "Python 3",
   "language": "python",
   "name": "python3"
  },
  "language_info": {
   "codemirror_mode": {
    "name": "ipython",
    "version": 3
   },
   "file_extension": ".py",
   "mimetype": "text/x-python",
   "name": "python",
   "nbconvert_exporter": "python",
   "pygments_lexer": "ipython3",
   "version": "3.6.9"
  }
 },
 "nbformat": 4,
 "nbformat_minor": 2
}
