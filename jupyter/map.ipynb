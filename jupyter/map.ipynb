{
 "cells": [
  {
   "cell_type": "code",
   "execution_count": 1,
   "metadata": {},
   "outputs": [],
   "source": [
    "import numpy as np\n",
    "import linecache\n",
    "from pathlib import Path"
   ]
  },
  {
   "cell_type": "code",
   "execution_count": 2,
   "metadata": {},
   "outputs": [
    {
     "data": {
      "text/plain": [
       "['/home/user/miniconda/envs/py36/lib/python36.zip',\n",
       " '/home/user/miniconda/envs/py36/lib/python3.6',\n",
       " '/home/user/miniconda/envs/py36/lib/python3.6/lib-dynload',\n",
       " '',\n",
       " '/home/user/miniconda/envs/py36/lib/python3.6/site-packages',\n",
       " '/home/user/miniconda/envs/py36/lib/python3.6/site-packages/IPython/extensions',\n",
       " '/home/user/.ipython',\n",
       " '/app/biggraph']"
      ]
     },
     "execution_count": 2,
     "metadata": {},
     "output_type": "execute_result"
    }
   ],
   "source": [
    "import sys\n",
    "\n",
    "p = Path('.').resolve()\n",
    "sys.path.append(str(p.parent))\n",
    "sys.path"
   ]
  },
  {
   "cell_type": "code",
   "execution_count": 3,
   "metadata": {},
   "outputs": [
    {
     "name": "stderr",
     "output_type": "stream",
     "text": [
      "Loading faiss with AVX2 support.\n"
     ]
    }
   ],
   "source": [
    "from utils.faiss_utils import train_search\n",
    "from utils.data_utils import *"
   ]
  },
  {
   "cell_type": "code",
   "execution_count": 4,
   "metadata": {},
   "outputs": [],
   "source": [
    "def load_XY(basename):\n",
    "    \"\"\"\n",
    "    Load embeddings (X) and possibly the\n",
    "    labels (Y) of the graph {basename}.\n",
    "    \"\"\"\n",
    "    model_path = Path(\"/data/models\") / basename\n",
    "    print(\"Loading data..\")\n",
    "    X, Y = load_data(model_path)\n",
    "    classes = len(np.unique(Y))\n",
    "    print(\"X shape: {}\".format(X.shape))\n",
    "    return X, Y\n",
    "\n",
    "\n",
    "def precision(Na, Ra_bi, bi):\n",
    "    \"\"\"\n",
    "    Assuming Na and Ra_bi are 2\n",
    "    arrays of indices.\n",
    "    \"\"\"\n",
    "    set1 = set(Na)\n",
    "    try:\n",
    "        index = np.where(Ra_bi == bi)[0][0]\n",
    "        set2 = set(Ra_bi[:index + 1])\n",
    "        return len(set1.intersection(set2)) / len(set2)\n",
    "    except IndexError:\n",
    "        return 0\n",
    "\n",
    "\n",
    "def map_score(graph):\n",
    "\n",
    "    out_nodes, in_nodes, out_degree, in_degree = read_ascii_graph(graph)\n",
    "    print(\"Computing map score\")\n",
    "    V = len(out_nodes)\n",
    "    score = 0\n",
    "    for node in graph:\n",
    "        node_score = 0\n",
    "        Na = len(out_nodes)\n",
    "        for neighbor in node.neighbours:\n",
    "            node_score += precision(node, neighbor)\n",
    "        score += node_score / Na\n",
    "    return score / V\n",
    "\n",
    "\n",
    "def out_map_score(basename, ind):\n",
    "    \n",
    "    out_nodes = read_ascii(basename)\n",
    "    print(\"Computing out nodes map score\")\n",
    "    score = 0\n",
    "    for node, neighs in enumerate(out_nodes):\n",
    "        node_score = 0\n",
    "        Na = len(neighs)\n",
    "        for neighbor in neighs:\n",
    "            node_score += precision(node, neighbor)\n",
    "        score += node_score / Na\n",
    "    return score / V\n",
    "\n",
    "\n",
    "def read_ascii(basename, rm_singleton=False):\n",
    "    \"\"\"\n",
    "\n",
    "    \"\"\"\n",
    "    ascii_path = Path(\"/data/graphs\") / basename / (\"ascii.graph-txt\")\n",
    "    assert ascii_path.exists(), \"Graph not found!\"\n",
    "    with ascii_path.open() as f:\n",
    "        line = f.readline()\n",
    "        V = int(line.split()[0])\n",
    "        print(\"{} vertices\".format(V))\n",
    "        print(\"reading..\")\n",
    "        out_nodes = [0] * V\n",
    "        for i in trange(V):\n",
    "            line = f.readline()\n",
    "            if line[0] == \"\\n\" and not rm_singleton:\n",
    "                # don't remove singleton\n",
    "                # assume node is linked to itself\n",
    "                out_ = np.array([i])\n",
    "            else:\n",
    "                out_ = np.fromstring(line, dtype=np.int32, sep=' ')\n",
    "            out_nodes[i] = out_\n",
    "    return out_nodes\n",
    "\n",
    "\n",
    "def check(nodes, k, emb, ind, f, ent_list):\n",
    "    \"\"\"\n",
    "    nodes    - 2d array of nodes we want to check\n",
    "    k        - nearest neighbours\n",
    "    emb      - a 2-d numpy array of embeddings\n",
    "    ind      - index built with faiss\n",
    "    f        - file containing urls\n",
    "    ent_list - list of entities id\n",
    "    \"\"\"\n",
    "    if len(nodes) == 1:\n",
    "        dist, ind = ind.search(nodes.reshape(1, -1), k)\n",
    "    else:\n",
    "        dist, ind = ind.search(nodes, k)\n",
    "    for row in ind:\n",
    "        source = int(ent_list[row[0]])\n",
    "        print('\\x1b[0;35;43m' + '{} nearest neighbours of node {}'.format(\n",
    "            k - 1, source) + '\\x1b[0m')\n",
    "        print('\\x1b[0;35;43m' + linecache.getline(f, source + 1) + '\\x1b[0m')\n",
    "        for node in row[1:]:\n",
    "            neighbor = int(ent_list[node])\n",
    "            print(\"  node {}, {}\".format(\n",
    "                node, linecache.getline(f, neighbor + 1)))"
   ]
  },
  {
   "cell_type": "code",
   "execution_count": 5,
   "metadata": {},
   "outputs": [
    {
     "name": "stdout",
     "output_type": "stream",
     "text": [
      "Loading data..\n",
      "Labels not defined\n",
      "X shape: (325557, 64)\n"
     ]
    },
    {
     "data": {
      "text/plain": [
       "array([-0.0001718 ,  0.0087695 , -0.02964852, -0.01956584, -0.01648358,\n",
       "       -0.00888848,  0.01993223, -0.01380344, -0.01544364, -0.00261269,\n",
       "       -0.02519534,  0.004574  , -0.01579152,  0.00774693,  0.00024875,\n",
       "       -0.0116387 ,  0.02761276,  0.00306257, -0.00216838,  0.01078875,\n",
       "       -0.0264635 , -0.00381334,  0.01533207, -0.01215552, -0.01134059,\n",
       "        0.01552172, -0.01898626, -0.00296632, -0.01627149,  0.01921202,\n",
       "       -0.03555609,  0.00344647,  0.01180901,  0.00941313,  0.02471872,\n",
       "       -0.04890871, -0.02605497,  0.01141761, -0.00338765,  0.0027696 ,\n",
       "       -0.01621617,  0.03093353,  0.00815312, -0.00166487,  0.00991619,\n",
       "       -0.02566224,  0.00927695,  0.00837251,  0.01326454,  0.0063187 ,\n",
       "        0.02874073, -0.01070895, -0.00283655, -0.01973416,  0.00305778,\n",
       "        0.01326166,  0.04523369,  0.01505135,  0.01444066,  0.01585885,\n",
       "        0.01686572,  0.0199776 ,  0.00878629,  0.00935664], dtype=float32)"
      ]
     },
     "execution_count": 5,
     "metadata": {},
     "output_type": "execute_result"
    }
   ],
   "source": [
    "basename = \"cnr-2000\"\n",
    "embeddings = load_XY(basename)\n",
    "X = embeddings[0]\n",
    "X[0]"
   ]
  },
  {
   "cell_type": "code",
   "execution_count": 6,
   "metadata": {},
   "outputs": [
    {
     "data": {
      "text/plain": [
       "[179413, 4123, 276766, 203406, 199888, 305090, 301572, 304259, 176797, 76956]"
      ]
     },
     "execution_count": 6,
     "metadata": {},
     "output_type": "execute_result"
    }
   ],
   "source": [
    "ent_list = get_entities_list(basename)\n",
    "ent_list[:10]"
   ]
  },
  {
   "cell_type": "code",
   "execution_count": 7,
   "metadata": {},
   "outputs": [
    {
     "name": "stdout",
     "output_type": "stream",
     "text": [
      "Index trained: True\n",
      "Index total: 325557\n"
     ]
    }
   ],
   "source": [
    "ind = train_search(X)"
   ]
  },
  {
   "cell_type": "code",
   "execution_count": 8,
   "metadata": {},
   "outputs": [
    {
     "name": "stdout",
     "output_type": "stream",
     "text": [
      "\u001b[0;35;43m9 nearest neighbours of node 179413\u001b[0m\n",
      "\u001b[0;35;43mhttp://www.igbe.pv.cnr.it/posizioni/bandi2000/schema3.html\n",
      "\u001b[0m\n",
      "  node 159937, http://www.igbe.pv.cnr.it/posizioni/bandi2000/schema6.html\n",
      "\n",
      "  node 289531, http://www.igbe.pv.cnr.it/posizioni/bandi2000/schema1.html\n",
      "\n",
      "  node 263443, http://www.igbe.pv.cnr.it/posizioni/2001/schema05.html\n",
      "\n",
      "  node 13645, http://www.igbe.pv.cnr.it/posizioni/2001/schema04.html\n",
      "\n",
      "  node 306396, http://www.igbe.pv.cnr.it/posizioni/bandi2000/schema2.html\n",
      "\n",
      "  node 101636, http://www.igbe.pv.cnr.it/posizioni/bandi2000/schema9.html\n",
      "\n",
      "  node 8968, http://www.igbe.pv.cnr.it/posizioni/2003/bando_01_03.html\n",
      "\n",
      "  node 305176, http://www.igbe.pv.cnr.it/posizioni/2001/schema02.html\n",
      "\n",
      "  node 249529, http://www.igbe.pv.cnr.it/posizioni/bandi2000/assegno4.html\n",
      "\n",
      "\u001b[0;35;43m9 nearest neighbours of node 4123\u001b[0m\n",
      "\u001b[0;35;43mhttp://www.isti.cnr.it/Intranet/RISeT/\n",
      "\u001b[0m\n",
      "  node 314250, http://www.isti.cnr.it/Miscellanea/Other/\n",
      "\n",
      "  node 36761, http://www.isti.cnr.it/Events/Courses/\n",
      "\n",
      "  node 234934, http://www.isti.cnr.it/ResearchUnits/Labs/si-lab/\n",
      "\n",
      "  node 221145, http://www.isti.cnr.it/ResearchUnits/Labs/wn-lab/pubs.html\n",
      "\n",
      "  node 160552, http://www.isti.cnr.it/ResearchUnits/Labs/vc-lab/pubs.html\n",
      "\n",
      "  node 179841, http://www.isti.cnr.it/ResearchUnits/Labs/kdd-lab/pubs.html\n",
      "\n",
      "  node 303474, http://www.isti.cnr.it/ResearchUnits/Labs/dc-lab/software-tools.html\n",
      "\n",
      "  node 163680, http://www.isti.cnr.it/ResearchUnits/Centers/sse-center/\n",
      "\n",
      "  node 73544, http://www.isti.cnr.it/ResearchUnits/Labs/si-lab/pubs.html\n",
      "\n"
     ]
    }
   ],
   "source": [
    "urls_f = '/data/graphs/cnr-2000/cnr-2000.urls'\n",
    "check(X[:2], 10, X, ind, urls_f, ent_list)"
   ]
  },
  {
   "cell_type": "code",
   "execution_count": 9,
   "metadata": {},
   "outputs": [
    {
     "data": {
      "text/plain": [
       "array([ 41419,  89814, 151940,  77547, 263177, 277660, 308368,  78840,\n",
       "       155331, 227672])"
      ]
     },
     "execution_count": 9,
     "metadata": {},
     "output_type": "execute_result"
    }
   ],
   "source": [
    "perm = np.argsort(ent_list)\n",
    "perm[:10]"
   ]
  },
  {
   "cell_type": "code",
   "execution_count": 10,
   "metadata": {},
   "outputs": [
    {
     "name": "stdout",
     "output_type": "stream",
     "text": [
      "Index trained: True\n",
      "Index total: 325557\n",
      "\u001b[0;35;43m9 nearest neighbours of node 179413\u001b[0m\n",
      "\u001b[0;35;43mhttp://www.igbe.pv.cnr.it/posizioni/bandi2000/schema3.html\n",
      "\u001b[0m\n",
      "  node 179415, http://www.igbe.pv.cnr.it/posizioni/bandi2000/schema6.html\n",
      "\n",
      "  node 179361, http://www.igbe.pv.cnr.it/posizioni/bandi2000/schema1.html\n",
      "\n",
      "  node 179368, http://www.igbe.pv.cnr.it/posizioni/2001/schema05.html\n",
      "\n",
      "  node 179401, http://www.igbe.pv.cnr.it/posizioni/2001/schema04.html\n",
      "\n",
      "  node 179411, http://www.igbe.pv.cnr.it/posizioni/bandi2000/schema2.html\n",
      "\n",
      "  node 179417, http://www.igbe.pv.cnr.it/posizioni/bandi2000/schema9.html\n",
      "\n",
      "  node 179396, http://www.igbe.pv.cnr.it/posizioni/2003/bando_01_03.html\n",
      "\n",
      "  node 179343, http://www.igbe.pv.cnr.it/posizioni/2001/schema02.html\n",
      "\n",
      "  node 179409, http://www.igbe.pv.cnr.it/posizioni/bandi2000/assegno4.html\n",
      "\n",
      "\u001b[0;35;43m9 nearest neighbours of node 4123\u001b[0m\n",
      "\u001b[0;35;43mhttp://www.isti.cnr.it/Intranet/RISeT/\n",
      "\u001b[0m\n",
      "  node 3740, http://www.isti.cnr.it/Miscellanea/Other/\n",
      "\n",
      "  node 3861, http://www.isti.cnr.it/Events/Courses/\n",
      "\n",
      "  node 3832, http://www.isti.cnr.it/ResearchUnits/Labs/si-lab/\n",
      "\n",
      "  node 3793, http://www.isti.cnr.it/ResearchUnits/Labs/wn-lab/pubs.html\n",
      "\n",
      "  node 3800, http://www.isti.cnr.it/ResearchUnits/Labs/vc-lab/pubs.html\n",
      "\n",
      "  node 3769, http://www.isti.cnr.it/ResearchUnits/Labs/kdd-lab/pubs.html\n",
      "\n",
      "  node 3831, http://www.isti.cnr.it/ResearchUnits/Labs/dc-lab/software-tools.html\n",
      "\n",
      "  node 3991, http://www.isti.cnr.it/ResearchUnits/Centers/sse-center/\n",
      "\n",
      "  node 3834, http://www.isti.cnr.it/ResearchUnits/Labs/si-lab/pubs.html\n",
      "\n"
     ]
    }
   ],
   "source": [
    "X = X[perm]\n",
    "ind = train_search(X)\n",
    "nodes = [179413, 4123]\n",
    "check(X[nodes], 10, X, ind, urls_f, [i for i in range(len(X))])"
   ]
  },
  {
   "cell_type": "markdown",
   "metadata": {},
   "source": [
    "## Mean Average Precision"
   ]
  },
  {
   "cell_type": "code",
   "execution_count": 11,
   "metadata": {},
   "outputs": [
    {
     "name": "stderr",
     "output_type": "stream",
     "text": [
      "\r",
      "  0%|          | 0/325557 [00:00<?, ?it/s]"
     ]
    },
    {
     "name": "stdout",
     "output_type": "stream",
     "text": [
      "325557 vertices\n",
      "reading..\n"
     ]
    },
    {
     "name": "stderr",
     "output_type": "stream",
     "text": [
      "100%|██████████| 325557/325557 [00:01<00:00, 225482.91it/s]\n"
     ]
    }
   ],
   "source": [
    "out_nodes = read_ascii(basename)"
   ]
  },
  {
   "cell_type": "code",
   "execution_count": 12,
   "metadata": {},
   "outputs": [
    {
     "data": {
      "text/plain": [
       "array([[     0,    281,    187,    166,      5,    310,      4,    265,\n",
       "           124,    207,      6,     87,    184,    142,    189,     20,\n",
       "           147,    200,    185,    294,    186,     85,    122,     68,\n",
       "             1,    303,     84,    286,     93,    302,    204,    194,\n",
       "           243,     19,    298,    253,     90,    134,     14,    191,\n",
       "           144,    216,     82,    212,    250,    205,     77,     78,\n",
       "           152,    299,    255,     16,    127,    273,     45,     75,\n",
       "            86,    129,     33,     21,    287,    238,     24,    300,\n",
       "           153,    209,    115,     51,     60,    288,     66,     55,\n",
       "           203,    197,    263,     74,    264,     73,    104,    225,\n",
       "            17,    161,    267,    295,    163,    100,     48,    116,\n",
       "           215,    248,    102,     57,     91,     83,     71,    280,\n",
       "           103,    208,    169,      3,     38,    274,     12,     70,\n",
       "            96,    236,    128,    290,    118,    188,     22,    132,\n",
       "           282,    125,    210,     65,     23,    256,     27,    151,\n",
       "           112,    167,    242,    222,    224,    308,    228,     95,\n",
       "           149,     18,    138,    237,    165,    259,     46,    158,\n",
       "           168,    174,    293,    270,    117,    266,     42,    133,\n",
       "           214,     92,     99,     11,     30,    311,    278,    145,\n",
       "           254,    201,    172,    223,     98,    260,     26,    110,\n",
       "            40,      2,    297,    247,    301,    233,    108,    312,\n",
       "            31,    268,    227,     79,    150,    235,    217,     59,\n",
       "            44,    309,    241,    148,    234,     36,    195,    261,\n",
       "            80,     56,     43,      9,    121,    196,     67,    140,\n",
       "            41,    199,    229,    162,    170,    164,    269,    106,\n",
       "           101,    230,     37,    130,    202,      8,     52,    175,\n",
       "           160,    141,     54,    111,    107,    211,     15,     89,\n",
       "           206,    120,    159,    219,    276,     47,    258,    291,\n",
       "           296,    171,    220,    182,    305,    139,    279,     58,\n",
       "           146,    275,     62,    271,    226,     13,    306,    283,\n",
       "           218,    304,     76,    246,    156,    176,    257,    109,\n",
       "           245,     64,    119,    131,     39,    192,     61,    198,\n",
       "           240,    183,    179,    136,    178,     34,    244,    114,\n",
       "           231,    181,    137,    251,     63,    180,    232,    135,\n",
       "           177,    155,    213,    249,     29,    272,    277,    221,\n",
       "            49,     28,     94,     25,     50,    143,     35,    193,\n",
       "           157,    113,    307,    126,     72,      7,     88,     81,\n",
       "           154,     69,    292,     97,    239,    252,     32,    173,\n",
       "           105,     53,    123,    190,     10,    289,    262,    285,\n",
       "           284, 189764, 189756, 189751, 189762, 270352, 270349, 189748,\n",
       "        208411, 189773, 270345, 181461, 181765, 270339, 181763, 189736,\n",
       "        181463, 181775, 208422, 270340, 190135, 208418, 181762, 189731,\n",
       "        181774, 181740, 190121, 300318, 202284, 202367, 202070, 202198,\n",
       "        181769, 202295, 202238, 202172, 202267, 202298, 300995, 202400,\n",
       "        202174, 189814, 202158, 202394, 202160, 202203, 202151, 202045,\n",
       "        202369, 202090, 202212, 202076, 202336, 190122, 202347, 202075,\n",
       "        202387, 189845,   5081, 202320, 202270, 202137, 202202, 202338,\n",
       "        202130, 202152, 202389, 202276, 202382, 202163, 202346, 202332,\n",
       "        202331, 202303, 202201, 202359, 202380, 202287, 202317, 202343,\n",
       "        202258, 202318, 202058, 202054, 202326, 202102,  99062, 202097,\n",
       "        202271, 202249, 202143, 202053, 202325, 190105, 202279, 202096,\n",
       "        202377, 202223, 189813, 202272, 190093, 116735, 202193, 202144,\n",
       "        300426,  24994, 189806, 182184,  24962,  24992, 116606, 202246,\n",
       "         99128, 202242,  24964, 116659, 139715,  24966, 117292,  99111,\n",
       "         99076,  99069, 189816, 190094,  99086, 208397, 181476, 181471,\n",
       "         98977,  99213, 270359,  99228,   5069, 189809, 139637,  24961,\n",
       "        300326, 181477,  99176,  99162, 117273,  98972, 209615, 209629,\n",
       "        300361,  99154, 270333, 139647,  99153, 300424,  99177,  29532,\n",
       "        300433, 270332,  99136, 209610, 181478, 202055,  99117, 136029,\n",
       "         99164, 139699,  98961,   5021, 189815,  98953,  99191, 189776,\n",
       "        139657, 300375, 300401, 300343, 207941, 117280, 300428, 104249,\n",
       "         98968,   5035, 300373, 300405, 139724,  98992, 139675,  98967,\n",
       "        300377, 268283, 104248,  98965]])"
      ]
     },
     "execution_count": 12,
     "metadata": {},
     "output_type": "execute_result"
    }
   ],
   "source": [
    "k = 500\n",
    "xq = X[0].reshape(1, -1)\n",
    "D, I = ind.search(xq, k)\n",
    "I"
   ]
  },
  {
   "cell_type": "code",
   "execution_count": 13,
   "metadata": {},
   "outputs": [
    {
     "data": {
      "text/plain": [
       "array([  1,   4,   8, 219, 220], dtype=int32)"
      ]
     },
     "execution_count": 13,
     "metadata": {},
     "output_type": "execute_result"
    }
   ],
   "source": [
    "out_nodes[0]"
   ]
  },
  {
   "cell_type": "code",
   "execution_count": 14,
   "metadata": {},
   "outputs": [
    {
     "data": {
      "text/plain": [
       "5"
      ]
     },
     "execution_count": 14,
     "metadata": {},
     "output_type": "execute_result"
    }
   ],
   "source": [
    "sum(np.in1d(I, out_nodes[0]))"
   ]
  },
  {
   "cell_type": "code",
   "execution_count": 15,
   "metadata": {},
   "outputs": [
    {
     "name": "stdout",
     "output_type": "stream",
     "text": [
      "0.08\n",
      "0.14285714285714285\n",
      "0.014563106796116505\n",
      "0.01818181818181818\n",
      "0.022026431718061675\n"
     ]
    }
   ],
   "source": [
    "for node in out_nodes[0]:\n",
    "    print(precision(out_nodes[0], I.flatten(), node))"
   ]
  },
  {
   "cell_type": "code",
   "execution_count": 16,
   "metadata": {},
   "outputs": [],
   "source": [
    "from tqdm import tqdm\n",
    "\n",
    "\n",
    "def out_map_score(basename, k=500):\n",
    "    \n",
    "    embeddings = load_XY(basename)\n",
    "    X = embeddings[0]\n",
    "    out_nodes = read_ascii(basename)\n",
    "    assert len(X) == len(out_nodes)\n",
    "    ent_list = get_entities_list(basename)\n",
    "    perm = np.argsort(ent_list)\n",
    "    X = X[perm]\n",
    "    ind = train_search(X)\n",
    "    print(\"Computing out nodes map score\")\n",
    "    score = 0\n",
    "    for node, neighs in enumerate(tqdm(out_nodes)):\n",
    "        node_score = 0\n",
    "        Na = len(neighs)\n",
    "        xq = X[node].reshape(1, -1)\n",
    "        D, I = ind.search(xq, k)\n",
    "        Ra = I.flatten()[1:]\n",
    "        for neighbor in neighs:\n",
    "            node_score += precision(neighs, Ra, neighbor)\n",
    "        score += node_score / Na\n",
    "    return score / len(X)"
   ]
  },
  {
   "cell_type": "code",
   "execution_count": 17,
   "metadata": {},
   "outputs": [
    {
     "name": "stderr",
     "output_type": "stream",
     "text": [
      "  5%|▍         | 16187/325557 [00:00<00:01, 161862.82it/s]"
     ]
    },
    {
     "name": "stdout",
     "output_type": "stream",
     "text": [
      "Loading data..\n",
      "Labels not defined\n",
      "X shape: (325557, 64)\n",
      "325557 vertices\n",
      "reading..\n"
     ]
    },
    {
     "name": "stderr",
     "output_type": "stream",
     "text": [
      "100%|██████████| 325557/325557 [00:01<00:00, 224691.31it/s]\n",
      "  0%|          | 0/325557 [00:00<?, ?it/s]"
     ]
    },
    {
     "name": "stdout",
     "output_type": "stream",
     "text": [
      "Index trained: True\n",
      "Index total: 325557\n",
      "Computing out nodes map score\n"
     ]
    },
    {
     "name": "stderr",
     "output_type": "stream",
     "text": [
      "\n"
     ]
    },
    {
     "ename": "TypeError",
     "evalue": "only integer scalar arrays can be converted to a scalar index",
     "output_type": "error",
     "traceback": [
      "\u001b[0;31m---------------------------------------------------------------------------\u001b[0m",
      "\u001b[0;31mTypeError\u001b[0m                                 Traceback (most recent call last)",
      "\u001b[0;32m<ipython-input-17-af1a5c52f464>\u001b[0m in \u001b[0;36m<module>\u001b[0;34m\u001b[0m\n\u001b[0;32m----> 1\u001b[0;31m \u001b[0mmap_score\u001b[0m \u001b[0;34m=\u001b[0m \u001b[0mout_map_score\u001b[0m\u001b[0;34m(\u001b[0m\u001b[0mbasename\u001b[0m\u001b[0;34m,\u001b[0m \u001b[0mX\u001b[0m\u001b[0;34m)\u001b[0m\u001b[0;34m\u001b[0m\u001b[0;34m\u001b[0m\u001b[0m\n\u001b[0m\u001b[1;32m      2\u001b[0m \u001b[0mprint\u001b[0m\u001b[0;34m(\u001b[0m\u001b[0mmap_score\u001b[0m\u001b[0;34m)\u001b[0m\u001b[0;34m\u001b[0m\u001b[0;34m\u001b[0m\u001b[0m\n",
      "\u001b[0;32m<ipython-input-16-d8ea8c812d32>\u001b[0m in \u001b[0;36mout_map_score\u001b[0;34m(basename, k)\u001b[0m\n\u001b[1;32m     18\u001b[0m         \u001b[0mNa\u001b[0m \u001b[0;34m=\u001b[0m \u001b[0mlen\u001b[0m\u001b[0;34m(\u001b[0m\u001b[0mneighs\u001b[0m\u001b[0;34m)\u001b[0m\u001b[0;34m\u001b[0m\u001b[0;34m\u001b[0m\u001b[0m\n\u001b[1;32m     19\u001b[0m         \u001b[0mxq\u001b[0m \u001b[0;34m=\u001b[0m \u001b[0mX\u001b[0m\u001b[0;34m[\u001b[0m\u001b[0mnode\u001b[0m\u001b[0;34m]\u001b[0m\u001b[0;34m.\u001b[0m\u001b[0mreshape\u001b[0m\u001b[0;34m(\u001b[0m\u001b[0;36m1\u001b[0m\u001b[0;34m,\u001b[0m \u001b[0;34m-\u001b[0m\u001b[0;36m1\u001b[0m\u001b[0;34m)\u001b[0m\u001b[0;34m\u001b[0m\u001b[0;34m\u001b[0m\u001b[0m\n\u001b[0;32m---> 20\u001b[0;31m         \u001b[0mD\u001b[0m\u001b[0;34m,\u001b[0m \u001b[0mI\u001b[0m \u001b[0;34m=\u001b[0m \u001b[0mind\u001b[0m\u001b[0;34m.\u001b[0m\u001b[0msearch\u001b[0m\u001b[0;34m(\u001b[0m\u001b[0mxq\u001b[0m\u001b[0;34m,\u001b[0m \u001b[0mk\u001b[0m\u001b[0;34m)\u001b[0m\u001b[0;34m\u001b[0m\u001b[0;34m\u001b[0m\u001b[0m\n\u001b[0m\u001b[1;32m     21\u001b[0m         \u001b[0mRa\u001b[0m \u001b[0;34m=\u001b[0m \u001b[0mI\u001b[0m\u001b[0;34m.\u001b[0m\u001b[0mflatten\u001b[0m\u001b[0;34m(\u001b[0m\u001b[0;34m)\u001b[0m\u001b[0;34m[\u001b[0m\u001b[0;36m1\u001b[0m\u001b[0;34m:\u001b[0m\u001b[0;34m]\u001b[0m\u001b[0;34m\u001b[0m\u001b[0;34m\u001b[0m\u001b[0m\n\u001b[1;32m     22\u001b[0m         \u001b[0;32mfor\u001b[0m \u001b[0mneighbor\u001b[0m \u001b[0;32min\u001b[0m \u001b[0mneighs\u001b[0m\u001b[0;34m:\u001b[0m\u001b[0;34m\u001b[0m\u001b[0;34m\u001b[0m\u001b[0m\n",
      "\u001b[0;32m~/miniconda/envs/py36/lib/python3.6/site-packages/faiss/__init__.py\u001b[0m in \u001b[0;36mreplacement_search\u001b[0;34m(self, x, k)\u001b[0m\n\u001b[1;32m    145\u001b[0m         \u001b[0mn\u001b[0m\u001b[0;34m,\u001b[0m \u001b[0md\u001b[0m \u001b[0;34m=\u001b[0m \u001b[0mx\u001b[0m\u001b[0;34m.\u001b[0m\u001b[0mshape\u001b[0m\u001b[0;34m\u001b[0m\u001b[0;34m\u001b[0m\u001b[0m\n\u001b[1;32m    146\u001b[0m         \u001b[0;32massert\u001b[0m \u001b[0md\u001b[0m \u001b[0;34m==\u001b[0m \u001b[0mself\u001b[0m\u001b[0;34m.\u001b[0m\u001b[0md\u001b[0m\u001b[0;34m\u001b[0m\u001b[0;34m\u001b[0m\u001b[0m\n\u001b[0;32m--> 147\u001b[0;31m         \u001b[0mdistances\u001b[0m \u001b[0;34m=\u001b[0m \u001b[0mnp\u001b[0m\u001b[0;34m.\u001b[0m\u001b[0mempty\u001b[0m\u001b[0;34m(\u001b[0m\u001b[0;34m(\u001b[0m\u001b[0mn\u001b[0m\u001b[0;34m,\u001b[0m \u001b[0mk\u001b[0m\u001b[0;34m)\u001b[0m\u001b[0;34m,\u001b[0m \u001b[0mdtype\u001b[0m\u001b[0;34m=\u001b[0m\u001b[0mnp\u001b[0m\u001b[0;34m.\u001b[0m\u001b[0mfloat32\u001b[0m\u001b[0;34m)\u001b[0m\u001b[0;34m\u001b[0m\u001b[0;34m\u001b[0m\u001b[0m\n\u001b[0m\u001b[1;32m    148\u001b[0m         \u001b[0mlabels\u001b[0m \u001b[0;34m=\u001b[0m \u001b[0mnp\u001b[0m\u001b[0;34m.\u001b[0m\u001b[0mempty\u001b[0m\u001b[0;34m(\u001b[0m\u001b[0;34m(\u001b[0m\u001b[0mn\u001b[0m\u001b[0;34m,\u001b[0m \u001b[0mk\u001b[0m\u001b[0;34m)\u001b[0m\u001b[0;34m,\u001b[0m \u001b[0mdtype\u001b[0m\u001b[0;34m=\u001b[0m\u001b[0mnp\u001b[0m\u001b[0;34m.\u001b[0m\u001b[0mint64\u001b[0m\u001b[0;34m)\u001b[0m\u001b[0;34m\u001b[0m\u001b[0;34m\u001b[0m\u001b[0m\n\u001b[1;32m    149\u001b[0m         self.search_c(n, swig_ptr(x),\n",
      "\u001b[0;31mTypeError\u001b[0m: only integer scalar arrays can be converted to a scalar index"
     ]
    }
   ],
   "source": [
    "map_score = out_map_score(basename, X)\n",
    "print(map_score)"
   ]
  },
  {
   "cell_type": "code",
   "execution_count": 18,
   "metadata": {},
   "outputs": [
    {
     "name": "stderr",
     "output_type": "stream",
     "text": [
      "  4%|▍         | 13754/325557 [00:00<00:02, 137535.54it/s]"
     ]
    },
    {
     "name": "stdout",
     "output_type": "stream",
     "text": [
      "Loading data..\n",
      "Labels not defined\n",
      "X shape: (325557, 64)\n",
      "325557 vertices\n",
      "reading..\n"
     ]
    },
    {
     "name": "stderr",
     "output_type": "stream",
     "text": [
      "100%|██████████| 325557/325557 [00:01<00:00, 222220.04it/s]\n"
     ]
    },
    {
     "name": "stdout",
     "output_type": "stream",
     "text": [
      "Index trained: True\n",
      "Index total: 325557\n"
     ]
    }
   ],
   "source": [
    "embeddings = load_XY(basename)\n",
    "X = embeddings[0]\n",
    "out_nodes = read_ascii(basename)\n",
    "assert len(X) == len(out_nodes)\n",
    "ent_list = get_entities_list(basename)\n",
    "perm = np.argsort(ent_list)\n",
    "X = X[perm]\n",
    "ind = train_search(X)"
   ]
  },
  {
   "cell_type": "code",
   "execution_count": 19,
   "metadata": {},
   "outputs": [
    {
     "name": "stderr",
     "output_type": "stream",
     "text": [
      "  3%|▎         | 8317/325557 [01:43<1:01:33, 85.88it/s]"
     ]
    },
    {
     "ename": "KeyboardInterrupt",
     "evalue": "",
     "output_type": "error",
     "traceback": [
      "\u001b[0;31m---------------------------------------------------------------------------\u001b[0m",
      "\u001b[0;31mKeyboardInterrupt\u001b[0m                         Traceback (most recent call last)",
      "\u001b[0;32m<ipython-input-19-dfa9e7fdd4a1>\u001b[0m in \u001b[0;36m<module>\u001b[0;34m\u001b[0m\n\u001b[1;32m      4\u001b[0m     \u001b[0mNa\u001b[0m \u001b[0;34m=\u001b[0m \u001b[0mlen\u001b[0m\u001b[0;34m(\u001b[0m\u001b[0mneighs\u001b[0m\u001b[0;34m)\u001b[0m\u001b[0;34m\u001b[0m\u001b[0;34m\u001b[0m\u001b[0m\n\u001b[1;32m      5\u001b[0m     \u001b[0mxq\u001b[0m \u001b[0;34m=\u001b[0m \u001b[0mX\u001b[0m\u001b[0;34m[\u001b[0m\u001b[0mnode\u001b[0m\u001b[0;34m]\u001b[0m\u001b[0;34m.\u001b[0m\u001b[0mreshape\u001b[0m\u001b[0;34m(\u001b[0m\u001b[0;36m1\u001b[0m\u001b[0;34m,\u001b[0m \u001b[0;34m-\u001b[0m\u001b[0;36m1\u001b[0m\u001b[0;34m)\u001b[0m\u001b[0;34m\u001b[0m\u001b[0;34m\u001b[0m\u001b[0m\n\u001b[0;32m----> 6\u001b[0;31m     \u001b[0mD\u001b[0m\u001b[0;34m,\u001b[0m \u001b[0mI\u001b[0m \u001b[0;34m=\u001b[0m \u001b[0mind\u001b[0m\u001b[0;34m.\u001b[0m\u001b[0msearch\u001b[0m\u001b[0;34m(\u001b[0m\u001b[0mxq\u001b[0m\u001b[0;34m,\u001b[0m \u001b[0mk\u001b[0m\u001b[0;34m)\u001b[0m\u001b[0;34m\u001b[0m\u001b[0;34m\u001b[0m\u001b[0m\n\u001b[0m\u001b[1;32m      7\u001b[0m     \u001b[0mRa\u001b[0m \u001b[0;34m=\u001b[0m \u001b[0mI\u001b[0m\u001b[0;34m.\u001b[0m\u001b[0mflatten\u001b[0m\u001b[0;34m(\u001b[0m\u001b[0;34m)\u001b[0m\u001b[0;34m[\u001b[0m\u001b[0;36m1\u001b[0m\u001b[0;34m:\u001b[0m\u001b[0;34m]\u001b[0m\u001b[0;34m\u001b[0m\u001b[0;34m\u001b[0m\u001b[0m\n\u001b[1;32m      8\u001b[0m     \u001b[0;32mfor\u001b[0m \u001b[0mneighbor\u001b[0m \u001b[0;32min\u001b[0m \u001b[0mneighs\u001b[0m\u001b[0;34m:\u001b[0m\u001b[0;34m\u001b[0m\u001b[0;34m\u001b[0m\u001b[0m\n",
      "\u001b[0;32m~/miniconda/envs/py36/lib/python3.6/site-packages/faiss/__init__.py\u001b[0m in \u001b[0;36mreplacement_search\u001b[0;34m(self, x, k)\u001b[0m\n\u001b[1;32m    149\u001b[0m         self.search_c(n, swig_ptr(x),\n\u001b[1;32m    150\u001b[0m                       \u001b[0mk\u001b[0m\u001b[0;34m,\u001b[0m \u001b[0mswig_ptr\u001b[0m\u001b[0;34m(\u001b[0m\u001b[0mdistances\u001b[0m\u001b[0;34m)\u001b[0m\u001b[0;34m,\u001b[0m\u001b[0;34m\u001b[0m\u001b[0;34m\u001b[0m\u001b[0m\n\u001b[0;32m--> 151\u001b[0;31m                       swig_ptr(labels))\n\u001b[0m\u001b[1;32m    152\u001b[0m         \u001b[0;32mreturn\u001b[0m \u001b[0mdistances\u001b[0m\u001b[0;34m,\u001b[0m \u001b[0mlabels\u001b[0m\u001b[0;34m\u001b[0m\u001b[0;34m\u001b[0m\u001b[0m\n\u001b[1;32m    153\u001b[0m \u001b[0;34m\u001b[0m\u001b[0m\n",
      "\u001b[0;32m~/miniconda/envs/py36/lib/python3.6/site-packages/faiss/swigfaiss_avx2.py\u001b[0m in \u001b[0;36msearch\u001b[0;34m(self, n, x, k, distances, labels)\u001b[0m\n\u001b[1;32m   2021\u001b[0m \u001b[0;34m\u001b[0m\u001b[0m\n\u001b[1;32m   2022\u001b[0m     \u001b[0;32mdef\u001b[0m \u001b[0msearch\u001b[0m\u001b[0;34m(\u001b[0m\u001b[0mself\u001b[0m\u001b[0;34m,\u001b[0m \u001b[0mn\u001b[0m\u001b[0;34m,\u001b[0m \u001b[0mx\u001b[0m\u001b[0;34m,\u001b[0m \u001b[0mk\u001b[0m\u001b[0;34m,\u001b[0m \u001b[0mdistances\u001b[0m\u001b[0;34m,\u001b[0m \u001b[0mlabels\u001b[0m\u001b[0;34m)\u001b[0m\u001b[0;34m:\u001b[0m\u001b[0;34m\u001b[0m\u001b[0;34m\u001b[0m\u001b[0m\n\u001b[0;32m-> 2023\u001b[0;31m         \u001b[0;32mreturn\u001b[0m \u001b[0m_swigfaiss_avx2\u001b[0m\u001b[0;34m.\u001b[0m\u001b[0mIndexFlat_search\u001b[0m\u001b[0;34m(\u001b[0m\u001b[0mself\u001b[0m\u001b[0;34m,\u001b[0m \u001b[0mn\u001b[0m\u001b[0;34m,\u001b[0m \u001b[0mx\u001b[0m\u001b[0;34m,\u001b[0m \u001b[0mk\u001b[0m\u001b[0;34m,\u001b[0m \u001b[0mdistances\u001b[0m\u001b[0;34m,\u001b[0m \u001b[0mlabels\u001b[0m\u001b[0;34m)\u001b[0m\u001b[0;34m\u001b[0m\u001b[0;34m\u001b[0m\u001b[0m\n\u001b[0m\u001b[1;32m   2024\u001b[0m \u001b[0;34m\u001b[0m\u001b[0m\n\u001b[1;32m   2025\u001b[0m     \u001b[0;32mdef\u001b[0m \u001b[0mrange_search\u001b[0m\u001b[0;34m(\u001b[0m\u001b[0mself\u001b[0m\u001b[0;34m,\u001b[0m \u001b[0mn\u001b[0m\u001b[0;34m,\u001b[0m \u001b[0mx\u001b[0m\u001b[0;34m,\u001b[0m \u001b[0mradius\u001b[0m\u001b[0;34m,\u001b[0m \u001b[0mresult\u001b[0m\u001b[0;34m)\u001b[0m\u001b[0;34m:\u001b[0m\u001b[0;34m\u001b[0m\u001b[0;34m\u001b[0m\u001b[0m\n",
      "\u001b[0;31mKeyboardInterrupt\u001b[0m: "
     ]
    }
   ],
   "source": [
    "score = 0\n",
    "for node, neighs in enumerate(tqdm(out_nodes)):\n",
    "    node_score = 0\n",
    "    Na = len(neighs)\n",
    "    xq = X[node].reshape(1, -1)\n",
    "    D, I = ind.search(xq, k)\n",
    "    Ra = I.flatten()[1:]\n",
    "    for neighbor in neighs:\n",
    "        node_score += precision(neighs, Ra, neighbor)\n",
    "    score += node_score / Na"
   ]
  },
  {
   "cell_type": "code",
   "execution_count": 20,
   "metadata": {},
   "outputs": [
    {
     "ename": "ModuleNotFoundError",
     "evalue": "No module named 'line_profiler'",
     "output_type": "error",
     "traceback": [
      "\u001b[0;31m---------------------------------------------------------------------------\u001b[0m",
      "\u001b[0;31mModuleNotFoundError\u001b[0m                       Traceback (most recent call last)",
      "\u001b[0;32m<ipython-input-20-df8a33df4eaf>\u001b[0m in \u001b[0;36m<module>\u001b[0;34m\u001b[0m\n\u001b[0;32m----> 1\u001b[0;31m \u001b[0mget_ipython\u001b[0m\u001b[0;34m(\u001b[0m\u001b[0;34m)\u001b[0m\u001b[0;34m.\u001b[0m\u001b[0mrun_line_magic\u001b[0m\u001b[0;34m(\u001b[0m\u001b[0;34m'load_ext'\u001b[0m\u001b[0;34m,\u001b[0m \u001b[0;34m'line_profiler'\u001b[0m\u001b[0;34m)\u001b[0m\u001b[0;34m\u001b[0m\u001b[0;34m\u001b[0m\u001b[0m\n\u001b[0m",
      "\u001b[0;32m~/miniconda/envs/py36/lib/python3.6/site-packages/IPython/core/interactiveshell.py\u001b[0m in \u001b[0;36mrun_line_magic\u001b[0;34m(self, magic_name, line, _stack_depth)\u001b[0m\n\u001b[1;32m   2312\u001b[0m                 \u001b[0mkwargs\u001b[0m\u001b[0;34m[\u001b[0m\u001b[0;34m'local_ns'\u001b[0m\u001b[0;34m]\u001b[0m \u001b[0;34m=\u001b[0m \u001b[0msys\u001b[0m\u001b[0;34m.\u001b[0m\u001b[0m_getframe\u001b[0m\u001b[0;34m(\u001b[0m\u001b[0mstack_depth\u001b[0m\u001b[0;34m)\u001b[0m\u001b[0;34m.\u001b[0m\u001b[0mf_locals\u001b[0m\u001b[0;34m\u001b[0m\u001b[0;34m\u001b[0m\u001b[0m\n\u001b[1;32m   2313\u001b[0m             \u001b[0;32mwith\u001b[0m \u001b[0mself\u001b[0m\u001b[0;34m.\u001b[0m\u001b[0mbuiltin_trap\u001b[0m\u001b[0;34m:\u001b[0m\u001b[0;34m\u001b[0m\u001b[0;34m\u001b[0m\u001b[0m\n\u001b[0;32m-> 2314\u001b[0;31m                 \u001b[0mresult\u001b[0m \u001b[0;34m=\u001b[0m \u001b[0mfn\u001b[0m\u001b[0;34m(\u001b[0m\u001b[0;34m*\u001b[0m\u001b[0margs\u001b[0m\u001b[0;34m,\u001b[0m \u001b[0;34m**\u001b[0m\u001b[0mkwargs\u001b[0m\u001b[0;34m)\u001b[0m\u001b[0;34m\u001b[0m\u001b[0;34m\u001b[0m\u001b[0m\n\u001b[0m\u001b[1;32m   2315\u001b[0m             \u001b[0;32mreturn\u001b[0m \u001b[0mresult\u001b[0m\u001b[0;34m\u001b[0m\u001b[0;34m\u001b[0m\u001b[0m\n\u001b[1;32m   2316\u001b[0m \u001b[0;34m\u001b[0m\u001b[0m\n",
      "\u001b[0;32m</home/user/miniconda/envs/py36/lib/python3.6/site-packages/decorator.py:decorator-gen-64>\u001b[0m in \u001b[0;36mload_ext\u001b[0;34m(self, module_str)\u001b[0m\n",
      "\u001b[0;32m~/miniconda/envs/py36/lib/python3.6/site-packages/IPython/core/magic.py\u001b[0m in \u001b[0;36m<lambda>\u001b[0;34m(f, *a, **k)\u001b[0m\n\u001b[1;32m    185\u001b[0m     \u001b[0;31m# but it's overkill for just that one bit of state.\u001b[0m\u001b[0;34m\u001b[0m\u001b[0;34m\u001b[0m\u001b[0;34m\u001b[0m\u001b[0m\n\u001b[1;32m    186\u001b[0m     \u001b[0;32mdef\u001b[0m \u001b[0mmagic_deco\u001b[0m\u001b[0;34m(\u001b[0m\u001b[0marg\u001b[0m\u001b[0;34m)\u001b[0m\u001b[0;34m:\u001b[0m\u001b[0;34m\u001b[0m\u001b[0;34m\u001b[0m\u001b[0m\n\u001b[0;32m--> 187\u001b[0;31m         \u001b[0mcall\u001b[0m \u001b[0;34m=\u001b[0m \u001b[0;32mlambda\u001b[0m \u001b[0mf\u001b[0m\u001b[0;34m,\u001b[0m \u001b[0;34m*\u001b[0m\u001b[0ma\u001b[0m\u001b[0;34m,\u001b[0m \u001b[0;34m**\u001b[0m\u001b[0mk\u001b[0m\u001b[0;34m:\u001b[0m \u001b[0mf\u001b[0m\u001b[0;34m(\u001b[0m\u001b[0;34m*\u001b[0m\u001b[0ma\u001b[0m\u001b[0;34m,\u001b[0m \u001b[0;34m**\u001b[0m\u001b[0mk\u001b[0m\u001b[0;34m)\u001b[0m\u001b[0;34m\u001b[0m\u001b[0;34m\u001b[0m\u001b[0m\n\u001b[0m\u001b[1;32m    188\u001b[0m \u001b[0;34m\u001b[0m\u001b[0m\n\u001b[1;32m    189\u001b[0m         \u001b[0;32mif\u001b[0m \u001b[0mcallable\u001b[0m\u001b[0;34m(\u001b[0m\u001b[0marg\u001b[0m\u001b[0;34m)\u001b[0m\u001b[0;34m:\u001b[0m\u001b[0;34m\u001b[0m\u001b[0;34m\u001b[0m\u001b[0m\n",
      "\u001b[0;32m~/miniconda/envs/py36/lib/python3.6/site-packages/IPython/core/magics/extension.py\u001b[0m in \u001b[0;36mload_ext\u001b[0;34m(self, module_str)\u001b[0m\n\u001b[1;32m     31\u001b[0m         \u001b[0;32mif\u001b[0m \u001b[0;32mnot\u001b[0m \u001b[0mmodule_str\u001b[0m\u001b[0;34m:\u001b[0m\u001b[0;34m\u001b[0m\u001b[0;34m\u001b[0m\u001b[0m\n\u001b[1;32m     32\u001b[0m             \u001b[0;32mraise\u001b[0m \u001b[0mUsageError\u001b[0m\u001b[0;34m(\u001b[0m\u001b[0;34m'Missing module name.'\u001b[0m\u001b[0;34m)\u001b[0m\u001b[0;34m\u001b[0m\u001b[0;34m\u001b[0m\u001b[0m\n\u001b[0;32m---> 33\u001b[0;31m         \u001b[0mres\u001b[0m \u001b[0;34m=\u001b[0m \u001b[0mself\u001b[0m\u001b[0;34m.\u001b[0m\u001b[0mshell\u001b[0m\u001b[0;34m.\u001b[0m\u001b[0mextension_manager\u001b[0m\u001b[0;34m.\u001b[0m\u001b[0mload_extension\u001b[0m\u001b[0;34m(\u001b[0m\u001b[0mmodule_str\u001b[0m\u001b[0;34m)\u001b[0m\u001b[0;34m\u001b[0m\u001b[0;34m\u001b[0m\u001b[0m\n\u001b[0m\u001b[1;32m     34\u001b[0m \u001b[0;34m\u001b[0m\u001b[0m\n\u001b[1;32m     35\u001b[0m         \u001b[0;32mif\u001b[0m \u001b[0mres\u001b[0m \u001b[0;34m==\u001b[0m \u001b[0;34m'already loaded'\u001b[0m\u001b[0;34m:\u001b[0m\u001b[0;34m\u001b[0m\u001b[0;34m\u001b[0m\u001b[0m\n",
      "\u001b[0;32m~/miniconda/envs/py36/lib/python3.6/site-packages/IPython/core/extensions.py\u001b[0m in \u001b[0;36mload_extension\u001b[0;34m(self, module_str)\u001b[0m\n\u001b[1;32m     78\u001b[0m             \u001b[0;32mif\u001b[0m \u001b[0mmodule_str\u001b[0m \u001b[0;32mnot\u001b[0m \u001b[0;32min\u001b[0m \u001b[0msys\u001b[0m\u001b[0;34m.\u001b[0m\u001b[0mmodules\u001b[0m\u001b[0;34m:\u001b[0m\u001b[0;34m\u001b[0m\u001b[0;34m\u001b[0m\u001b[0m\n\u001b[1;32m     79\u001b[0m                 \u001b[0;32mwith\u001b[0m \u001b[0mprepended_to_syspath\u001b[0m\u001b[0;34m(\u001b[0m\u001b[0mself\u001b[0m\u001b[0;34m.\u001b[0m\u001b[0mipython_extension_dir\u001b[0m\u001b[0;34m)\u001b[0m\u001b[0;34m:\u001b[0m\u001b[0;34m\u001b[0m\u001b[0;34m\u001b[0m\u001b[0m\n\u001b[0;32m---> 80\u001b[0;31m                     \u001b[0mmod\u001b[0m \u001b[0;34m=\u001b[0m \u001b[0mimport_module\u001b[0m\u001b[0;34m(\u001b[0m\u001b[0mmodule_str\u001b[0m\u001b[0;34m)\u001b[0m\u001b[0;34m\u001b[0m\u001b[0;34m\u001b[0m\u001b[0m\n\u001b[0m\u001b[1;32m     81\u001b[0m                     \u001b[0;32mif\u001b[0m \u001b[0mmod\u001b[0m\u001b[0;34m.\u001b[0m\u001b[0m__file__\u001b[0m\u001b[0;34m.\u001b[0m\u001b[0mstartswith\u001b[0m\u001b[0;34m(\u001b[0m\u001b[0mself\u001b[0m\u001b[0;34m.\u001b[0m\u001b[0mipython_extension_dir\u001b[0m\u001b[0;34m)\u001b[0m\u001b[0;34m:\u001b[0m\u001b[0;34m\u001b[0m\u001b[0;34m\u001b[0m\u001b[0m\n\u001b[1;32m     82\u001b[0m                         print((\"Loading extensions from {dir} is deprecated. \"\n",
      "\u001b[0;32m~/miniconda/envs/py36/lib/python3.6/importlib/__init__.py\u001b[0m in \u001b[0;36mimport_module\u001b[0;34m(name, package)\u001b[0m\n\u001b[1;32m    124\u001b[0m                 \u001b[0;32mbreak\u001b[0m\u001b[0;34m\u001b[0m\u001b[0;34m\u001b[0m\u001b[0m\n\u001b[1;32m    125\u001b[0m             \u001b[0mlevel\u001b[0m \u001b[0;34m+=\u001b[0m \u001b[0;36m1\u001b[0m\u001b[0;34m\u001b[0m\u001b[0;34m\u001b[0m\u001b[0m\n\u001b[0;32m--> 126\u001b[0;31m     \u001b[0;32mreturn\u001b[0m \u001b[0m_bootstrap\u001b[0m\u001b[0;34m.\u001b[0m\u001b[0m_gcd_import\u001b[0m\u001b[0;34m(\u001b[0m\u001b[0mname\u001b[0m\u001b[0;34m[\u001b[0m\u001b[0mlevel\u001b[0m\u001b[0;34m:\u001b[0m\u001b[0;34m]\u001b[0m\u001b[0;34m,\u001b[0m \u001b[0mpackage\u001b[0m\u001b[0;34m,\u001b[0m \u001b[0mlevel\u001b[0m\u001b[0;34m)\u001b[0m\u001b[0;34m\u001b[0m\u001b[0;34m\u001b[0m\u001b[0m\n\u001b[0m\u001b[1;32m    127\u001b[0m \u001b[0;34m\u001b[0m\u001b[0m\n\u001b[1;32m    128\u001b[0m \u001b[0;34m\u001b[0m\u001b[0m\n",
      "\u001b[0;32m~/miniconda/envs/py36/lib/python3.6/importlib/_bootstrap.py\u001b[0m in \u001b[0;36m_gcd_import\u001b[0;34m(name, package, level)\u001b[0m\n",
      "\u001b[0;32m~/miniconda/envs/py36/lib/python3.6/importlib/_bootstrap.py\u001b[0m in \u001b[0;36m_find_and_load\u001b[0;34m(name, import_)\u001b[0m\n",
      "\u001b[0;32m~/miniconda/envs/py36/lib/python3.6/importlib/_bootstrap.py\u001b[0m in \u001b[0;36m_find_and_load_unlocked\u001b[0;34m(name, import_)\u001b[0m\n",
      "\u001b[0;31mModuleNotFoundError\u001b[0m: No module named 'line_profiler'"
     ]
    },
    {
     "name": "stderr",
     "output_type": "stream",
     "text": [
      "\r",
      "  3%|▎         | 8317/325557 [02:00<1:01:33, 85.88it/s]"
     ]
    }
   ],
   "source": [
    "%load_ext line_profiler\n"
   ]
  },
  {
   "cell_type": "code",
   "execution_count": null,
   "metadata": {},
   "outputs": [],
   "source": []
  }
 ],
 "metadata": {
  "kernelspec": {
   "display_name": "Python 3",
   "language": "python",
   "name": "python3"
  },
  "language_info": {
   "codemirror_mode": {
    "name": "ipython",
    "version": 3
   },
   "file_extension": ".py",
   "mimetype": "text/x-python",
   "name": "python",
   "nbconvert_exporter": "python",
   "pygments_lexer": "ipython3",
   "version": "3.6.9"
  }
 },
 "nbformat": 4,
 "nbformat_minor": 2
}
