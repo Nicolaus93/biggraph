{
 "cells": [
  {
   "cell_type": "code",
   "execution_count": 2,
   "metadata": {},
   "outputs": [],
   "source": [
    "import numpy as np\n",
    "from pathlib import Path"
   ]
  },
  {
   "cell_type": "code",
   "execution_count": 3,
   "metadata": {},
   "outputs": [
    {
     "data": {
      "text/plain": [
       "['/home/user/miniconda/envs/py36/lib/python36.zip',\n",
       " '/home/user/miniconda/envs/py36/lib/python3.6',\n",
       " '/home/user/miniconda/envs/py36/lib/python3.6/lib-dynload',\n",
       " '',\n",
       " '/home/user/miniconda/envs/py36/lib/python3.6/site-packages',\n",
       " '/home/user/miniconda/envs/py36/lib/python3.6/site-packages/IPython/extensions',\n",
       " '/home/user/.ipython',\n",
       " '/app/biggraph']"
      ]
     },
     "execution_count": 3,
     "metadata": {},
     "output_type": "execute_result"
    }
   ],
   "source": [
    "import sys\n",
    "\n",
    "p = Path('.').resolve()\n",
    "sys.path.append(str(p.parent))\n",
    "sys.path"
   ]
  },
  {
   "cell_type": "code",
   "execution_count": 4,
   "metadata": {},
   "outputs": [],
   "source": [
    "from utils.data_utils import read_ascii_graph"
   ]
  },
  {
   "cell_type": "code",
   "execution_count": 6,
   "metadata": {},
   "outputs": [],
   "source": [
    "from utils.faiss_utils import train_search"
   ]
  },
  {
   "cell_type": "code",
   "execution_count": 7,
   "metadata": {},
   "outputs": [],
   "source": [
    "def load_XY(basename):\n",
    "    \"\"\"\n",
    "    Load embeddings (X) and possibly the\n",
    "    labels (Y) of the graph {basename}.\n",
    "    \"\"\"\n",
    "    model_path = Path(\"/data/models\") / basename\n",
    "    print(\"Loading data..\")\n",
    "    X, Y = load_data(model_path)\n",
    "    classes = len(np.unique(Y))\n",
    "    print(\"X shape: {}\".format(X.shape))\n",
    "    return X, Y\n",
    "\n",
    "\n",
    "def precision(Na, Ra_bi, bi):\n",
    "    \"\"\"\n",
    "    Assuming Na and Ra_bi are 2\n",
    "    arrays of indices.\n",
    "    \"\"\"\n",
    "    set1 = set(Na)\n",
    "    index = np.where(Ra_bi == bi)[0][0]\n",
    "    set2 = set(Ra_bi[:index + 1])\n",
    "    return len(set1.intersection(set2) / len(set2))\n",
    "\n",
    "\n",
    "def map_score(graph):\n",
    "\n",
    "    out_nodes, in_nodes, out_degree, in_degree = read_ascii_graph(graph)\n",
    "    print(\"Computing map score\")\n",
    "    V = len(out_nodes)\n",
    "    score = 0\n",
    "    for node in graph:\n",
    "        node_score = 0\n",
    "        Na = len(out_nodes)\n",
    "        for neighbor in node.neighbours:\n",
    "            node_score += precision(node, neighbor)\n",
    "        score += node_score / Na\n",
    "    return score / V\n"
   ]
  },
  {
   "cell_type": "code",
   "execution_count": 9,
   "metadata": {},
   "outputs": [],
   "source": [
    "from utils.data_utils import *"
   ]
  },
  {
   "cell_type": "code",
   "execution_count": 10,
   "metadata": {},
   "outputs": [
    {
     "name": "stdout",
     "output_type": "stream",
     "text": [
      "Loading data..\n",
      "Labels not defined\n",
      "X shape: (325557, 64)\n"
     ]
    }
   ],
   "source": [
    "basename = \"cnr-2000\"\n",
    "embeddings = load_XY(basename)"
   ]
  },
  {
   "cell_type": "code",
   "execution_count": null,
   "metadata": {},
   "outputs": [],
   "source": [
    "graph = Path(\"/data/graphs\") / basename / (\"ascii.graph-txt\")\n",
    "map_score = map(basename)\n",
    "print(map_score)\n"
   ]
  }
 ],
 "metadata": {
  "kernelspec": {
   "display_name": "Python 3",
   "language": "python",
   "name": "python3"
  },
  "language_info": {
   "codemirror_mode": {
    "name": "ipython",
    "version": 3
   },
   "file_extension": ".py",
   "mimetype": "text/x-python",
   "name": "python",
   "nbconvert_exporter": "python",
   "pygments_lexer": "ipython3",
   "version": "3.6.9"
  }
 },
 "nbformat": 4,
 "nbformat_minor": 2
}
