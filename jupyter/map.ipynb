{
 "cells": [
  {
   "cell_type": "code",
   "execution_count": 1,
   "metadata": {},
   "outputs": [],
   "source": [
    "%load_ext line_profiler\n",
    "\n",
    "import numpy as np\n",
    "import linecache\n",
    "from pathlib import Path"
   ]
  },
  {
   "cell_type": "code",
   "execution_count": 2,
   "metadata": {},
   "outputs": [
    {
     "data": {
      "text/plain": [
       "['/home/user/miniconda/envs/py36/lib/python36.zip',\n",
       " '/home/user/miniconda/envs/py36/lib/python3.6',\n",
       " '/home/user/miniconda/envs/py36/lib/python3.6/lib-dynload',\n",
       " '',\n",
       " '/home/user/miniconda/envs/py36/lib/python3.6/site-packages',\n",
       " '/home/user/miniconda/envs/py36/lib/python3.6/site-packages/IPython/extensions',\n",
       " '/home/user/.ipython',\n",
       " '/app/biggraph']"
      ]
     },
     "execution_count": 2,
     "metadata": {},
     "output_type": "execute_result"
    }
   ],
   "source": [
    "import sys\n",
    "\n",
    "p = Path('.').resolve()\n",
    "sys.path.append(str(p.parent))\n",
    "sys.path"
   ]
  },
  {
   "cell_type": "code",
   "execution_count": 3,
   "metadata": {},
   "outputs": [
    {
     "name": "stderr",
     "output_type": "stream",
     "text": [
      "Loading faiss with AVX2 support.\n"
     ]
    }
   ],
   "source": [
    "from utils.faiss_utils import train_search\n",
    "from utils.data_utils import *"
   ]
  },
  {
   "cell_type": "code",
   "execution_count": 4,
   "metadata": {},
   "outputs": [],
   "source": [
    "def load_XY(basename):\n",
    "    \"\"\"\n",
    "    Load embeddings (X) and possibly the\n",
    "    labels (Y) of the graph {basename}.\n",
    "    \"\"\"\n",
    "    model_path = Path(\"/data/models\") / basename\n",
    "    print(\"Loading data..\")\n",
    "    X, Y = load_data(model_path)\n",
    "    classes = len(np.unique(Y))\n",
    "    print(\"X shape: {}\".format(X.shape))\n",
    "    return X, Y\n",
    "\n",
    "\n",
    "def precision(Na, Ra_bi, bi):\n",
    "    \"\"\"\n",
    "    Assuming Na and Ra_bi are 2\n",
    "    arrays of indices.\n",
    "    \"\"\"\n",
    "    set1 = set(Na)\n",
    "    try:\n",
    "        index = np.where(Ra_bi == bi)[0][0]\n",
    "        set2 = set(Ra_bi[:index + 1])\n",
    "        return len(set1.intersection(set2)) / len(set2)\n",
    "    except IndexError:\n",
    "        return 0\n",
    "\n",
    "\n",
    "def map_score(graph):\n",
    "\n",
    "    out_nodes, in_nodes, out_degree, in_degree = read_ascii_graph(graph)\n",
    "    print(\"Computing map score\")\n",
    "    V = len(out_nodes)\n",
    "    score = 0\n",
    "    for node in graph:\n",
    "        node_score = 0\n",
    "        Na = len(out_nodes)\n",
    "        for neighbor in node.neighbours:\n",
    "            node_score += precision(node, neighbor)\n",
    "        score += node_score / Na\n",
    "    return score / V\n",
    "\n",
    "\n",
    "def out_map_score(basename, ind):\n",
    "    \n",
    "    out_nodes = read_ascii(basename)\n",
    "    print(\"Computing out nodes map score\")\n",
    "    score = 0\n",
    "    for node, neighs in enumerate(out_nodes):\n",
    "        node_score = 0\n",
    "        Na = len(neighs)\n",
    "        for neighbor in neighs:\n",
    "            node_score += precision(node, neighbor)\n",
    "        score += node_score / Na\n",
    "    return score / V\n",
    "\n",
    "\n",
    "def read_ascii(basename, rm_singleton=False):\n",
    "    \"\"\"\n",
    "\n",
    "    \"\"\"\n",
    "    ascii_path = Path(\"/data/graphs\") / basename / (\"ascii.graph-txt\")\n",
    "    assert ascii_path.exists(), \"Graph not found!\"\n",
    "    with ascii_path.open() as f:\n",
    "        line = f.readline()\n",
    "        V = int(line.split()[0])\n",
    "        print(\"{} vertices\".format(V))\n",
    "        print(\"reading..\")\n",
    "        out_nodes = [0] * V\n",
    "        for i in trange(V):\n",
    "            line = f.readline()\n",
    "            if line[0] == \"\\n\" and not rm_singleton:\n",
    "                # don't remove singleton\n",
    "                # assume node is linked to itself\n",
    "                out_ = np.array([i])\n",
    "            else:\n",
    "                out_ = np.fromstring(line, dtype=np.int32, sep=' ')\n",
    "            out_nodes[i] = out_\n",
    "    return out_nodes\n",
    "\n",
    "\n",
    "def check(nodes, k, emb, ind, f, ent_list):\n",
    "    \"\"\"\n",
    "    nodes    - 2d array of nodes we want to check\n",
    "    k        - nearest neighbours\n",
    "    emb      - a 2-d numpy array of embeddings\n",
    "    ind      - index built with faiss\n",
    "    f        - file containing urls\n",
    "    ent_list - list of entities id\n",
    "    \"\"\"\n",
    "    if len(nodes) == 1:\n",
    "        dist, ind = ind.search(nodes.reshape(1, -1), k)\n",
    "    else:\n",
    "        dist, ind = ind.search(nodes, k)\n",
    "    for row in ind:\n",
    "        source = int(ent_list[row[0]])\n",
    "        print('\\x1b[0;35;43m' + '{} nearest neighbours of node {}'.format(\n",
    "            k - 1, source) + '\\x1b[0m')\n",
    "        print('\\x1b[0;35;43m' + linecache.getline(f, source + 1) + '\\x1b[0m')\n",
    "        for node in row[1:]:\n",
    "            neighbor = int(ent_list[node])\n",
    "            print(\"  node {}, {}\".format(\n",
    "                node, linecache.getline(f, neighbor + 1)))"
   ]
  },
  {
   "cell_type": "code",
   "execution_count": 5,
   "metadata": {},
   "outputs": [
    {
     "name": "stdout",
     "output_type": "stream",
     "text": [
      "Loading data..\n",
      "Labels not defined\n",
      "X shape: (325557, 64)\n"
     ]
    },
    {
     "data": {
      "text/plain": [
       "array([-0.0001718 ,  0.0087695 , -0.02964852, -0.01956584, -0.01648358,\n",
       "       -0.00888848,  0.01993223, -0.01380344, -0.01544364, -0.00261269,\n",
       "       -0.02519534,  0.004574  , -0.01579152,  0.00774693,  0.00024875,\n",
       "       -0.0116387 ,  0.02761276,  0.00306257, -0.00216838,  0.01078875,\n",
       "       -0.0264635 , -0.00381334,  0.01533207, -0.01215552, -0.01134059,\n",
       "        0.01552172, -0.01898626, -0.00296632, -0.01627149,  0.01921202,\n",
       "       -0.03555609,  0.00344647,  0.01180901,  0.00941313,  0.02471872,\n",
       "       -0.04890871, -0.02605497,  0.01141761, -0.00338765,  0.0027696 ,\n",
       "       -0.01621617,  0.03093353,  0.00815312, -0.00166487,  0.00991619,\n",
       "       -0.02566224,  0.00927695,  0.00837251,  0.01326454,  0.0063187 ,\n",
       "        0.02874073, -0.01070895, -0.00283655, -0.01973416,  0.00305778,\n",
       "        0.01326166,  0.04523369,  0.01505135,  0.01444066,  0.01585885,\n",
       "        0.01686572,  0.0199776 ,  0.00878629,  0.00935664], dtype=float32)"
      ]
     },
     "execution_count": 5,
     "metadata": {},
     "output_type": "execute_result"
    }
   ],
   "source": [
    "basename = \"cnr-2000\"\n",
    "embeddings = load_XY(basename)\n",
    "X = embeddings[0]\n",
    "X[0]"
   ]
  },
  {
   "cell_type": "code",
   "execution_count": 6,
   "metadata": {},
   "outputs": [
    {
     "data": {
      "text/plain": [
       "[179413, 4123, 276766, 203406, 199888, 305090, 301572, 304259, 176797, 76956]"
      ]
     },
     "execution_count": 6,
     "metadata": {},
     "output_type": "execute_result"
    }
   ],
   "source": [
    "ent_list = get_entities_list(basename)\n",
    "ent_list[:10]"
   ]
  },
  {
   "cell_type": "code",
   "execution_count": 7,
   "metadata": {},
   "outputs": [
    {
     "name": "stdout",
     "output_type": "stream",
     "text": [
      "Index trained: True\n",
      "Index total: 325557\n"
     ]
    }
   ],
   "source": [
    "ind = train_search(X)"
   ]
  },
  {
   "cell_type": "code",
   "execution_count": 8,
   "metadata": {},
   "outputs": [
    {
     "name": "stdout",
     "output_type": "stream",
     "text": [
      "\u001b[0;35;43m9 nearest neighbours of node 179413\u001b[0m\n",
      "\u001b[0;35;43mhttp://www.igbe.pv.cnr.it/posizioni/bandi2000/schema3.html\n",
      "\u001b[0m\n",
      "  node 159937, http://www.igbe.pv.cnr.it/posizioni/bandi2000/schema6.html\n",
      "\n",
      "  node 289531, http://www.igbe.pv.cnr.it/posizioni/bandi2000/schema1.html\n",
      "\n",
      "  node 263443, http://www.igbe.pv.cnr.it/posizioni/2001/schema05.html\n",
      "\n",
      "  node 13645, http://www.igbe.pv.cnr.it/posizioni/2001/schema04.html\n",
      "\n",
      "  node 306396, http://www.igbe.pv.cnr.it/posizioni/bandi2000/schema2.html\n",
      "\n",
      "  node 101636, http://www.igbe.pv.cnr.it/posizioni/bandi2000/schema9.html\n",
      "\n",
      "  node 8968, http://www.igbe.pv.cnr.it/posizioni/2003/bando_01_03.html\n",
      "\n",
      "  node 305176, http://www.igbe.pv.cnr.it/posizioni/2001/schema02.html\n",
      "\n",
      "  node 249529, http://www.igbe.pv.cnr.it/posizioni/bandi2000/assegno4.html\n",
      "\n",
      "\u001b[0;35;43m9 nearest neighbours of node 4123\u001b[0m\n",
      "\u001b[0;35;43mhttp://www.isti.cnr.it/Intranet/RISeT/\n",
      "\u001b[0m\n",
      "  node 314250, http://www.isti.cnr.it/Miscellanea/Other/\n",
      "\n",
      "  node 36761, http://www.isti.cnr.it/Events/Courses/\n",
      "\n",
      "  node 234934, http://www.isti.cnr.it/ResearchUnits/Labs/si-lab/\n",
      "\n",
      "  node 221145, http://www.isti.cnr.it/ResearchUnits/Labs/wn-lab/pubs.html\n",
      "\n",
      "  node 160552, http://www.isti.cnr.it/ResearchUnits/Labs/vc-lab/pubs.html\n",
      "\n",
      "  node 179841, http://www.isti.cnr.it/ResearchUnits/Labs/kdd-lab/pubs.html\n",
      "\n",
      "  node 303474, http://www.isti.cnr.it/ResearchUnits/Labs/dc-lab/software-tools.html\n",
      "\n",
      "  node 163680, http://www.isti.cnr.it/ResearchUnits/Centers/sse-center/\n",
      "\n",
      "  node 73544, http://www.isti.cnr.it/ResearchUnits/Labs/si-lab/pubs.html\n",
      "\n"
     ]
    }
   ],
   "source": [
    "urls_f = '/data/graphs/cnr-2000/cnr-2000.urls'\n",
    "check(X[:2], 10, X, ind, urls_f, ent_list)"
   ]
  },
  {
   "cell_type": "code",
   "execution_count": 9,
   "metadata": {},
   "outputs": [
    {
     "data": {
      "text/plain": [
       "array([ 41419,  89814, 151940,  77547, 263177, 277660, 308368,  78840,\n",
       "       155331, 227672])"
      ]
     },
     "execution_count": 9,
     "metadata": {},
     "output_type": "execute_result"
    }
   ],
   "source": [
    "perm = np.argsort(ent_list)\n",
    "perm[:10]"
   ]
  },
  {
   "cell_type": "code",
   "execution_count": 10,
   "metadata": {},
   "outputs": [
    {
     "name": "stdout",
     "output_type": "stream",
     "text": [
      "Index trained: True\n",
      "Index total: 325557\n",
      "\u001b[0;35;43m9 nearest neighbours of node 179413\u001b[0m\n",
      "\u001b[0;35;43mhttp://www.igbe.pv.cnr.it/posizioni/bandi2000/schema3.html\n",
      "\u001b[0m\n",
      "  node 179415, http://www.igbe.pv.cnr.it/posizioni/bandi2000/schema6.html\n",
      "\n",
      "  node 179361, http://www.igbe.pv.cnr.it/posizioni/bandi2000/schema1.html\n",
      "\n",
      "  node 179368, http://www.igbe.pv.cnr.it/posizioni/2001/schema05.html\n",
      "\n",
      "  node 179401, http://www.igbe.pv.cnr.it/posizioni/2001/schema04.html\n",
      "\n",
      "  node 179411, http://www.igbe.pv.cnr.it/posizioni/bandi2000/schema2.html\n",
      "\n",
      "  node 179417, http://www.igbe.pv.cnr.it/posizioni/bandi2000/schema9.html\n",
      "\n",
      "  node 179396, http://www.igbe.pv.cnr.it/posizioni/2003/bando_01_03.html\n",
      "\n",
      "  node 179343, http://www.igbe.pv.cnr.it/posizioni/2001/schema02.html\n",
      "\n",
      "  node 179409, http://www.igbe.pv.cnr.it/posizioni/bandi2000/assegno4.html\n",
      "\n",
      "\u001b[0;35;43m9 nearest neighbours of node 4123\u001b[0m\n",
      "\u001b[0;35;43mhttp://www.isti.cnr.it/Intranet/RISeT/\n",
      "\u001b[0m\n",
      "  node 3740, http://www.isti.cnr.it/Miscellanea/Other/\n",
      "\n",
      "  node 3861, http://www.isti.cnr.it/Events/Courses/\n",
      "\n",
      "  node 3832, http://www.isti.cnr.it/ResearchUnits/Labs/si-lab/\n",
      "\n",
      "  node 3793, http://www.isti.cnr.it/ResearchUnits/Labs/wn-lab/pubs.html\n",
      "\n",
      "  node 3800, http://www.isti.cnr.it/ResearchUnits/Labs/vc-lab/pubs.html\n",
      "\n",
      "  node 3769, http://www.isti.cnr.it/ResearchUnits/Labs/kdd-lab/pubs.html\n",
      "\n",
      "  node 3831, http://www.isti.cnr.it/ResearchUnits/Labs/dc-lab/software-tools.html\n",
      "\n",
      "  node 3991, http://www.isti.cnr.it/ResearchUnits/Centers/sse-center/\n",
      "\n",
      "  node 3834, http://www.isti.cnr.it/ResearchUnits/Labs/si-lab/pubs.html\n",
      "\n"
     ]
    }
   ],
   "source": [
    "X = X[perm]\n",
    "ind = train_search(X)\n",
    "nodes = [179413, 4123]\n",
    "check(X[nodes], 10, X, ind, urls_f, [i for i in range(len(X))])"
   ]
  },
  {
   "cell_type": "markdown",
   "metadata": {},
   "source": [
    "## Mean Average Precision"
   ]
  },
  {
   "cell_type": "code",
   "execution_count": 11,
   "metadata": {},
   "outputs": [
    {
     "name": "stderr",
     "output_type": "stream",
     "text": [
      "\r",
      "  0%|          | 0/325557 [00:00<?, ?it/s]"
     ]
    },
    {
     "name": "stdout",
     "output_type": "stream",
     "text": [
      "Loading data..\n",
      "Labels not defined\n",
      "X shape: (325557, 64)\n",
      "325557 vertices\n",
      "reading..\n"
     ]
    },
    {
     "name": "stderr",
     "output_type": "stream",
     "text": [
      "100%|██████████| 325557/325557 [00:01<00:00, 224448.03it/s]\n"
     ]
    },
    {
     "name": "stdout",
     "output_type": "stream",
     "text": [
      "Index trained: True\n",
      "Index total: 325557\n"
     ]
    }
   ],
   "source": [
    "embeddings = load_XY(basename)\n",
    "X = embeddings[0]\n",
    "out_nodes = read_ascii(basename)\n",
    "assert len(X) == len(out_nodes)\n",
    "ent_list = get_entities_list(basename)\n",
    "perm = np.argsort(ent_list)\n",
    "X = X[perm]\n",
    "ind = train_search(X)"
   ]
  },
  {
   "cell_type": "code",
   "execution_count": 12,
   "metadata": {},
   "outputs": [],
   "source": [
    "from tqdm import tqdm\n",
    "\n",
    "\n",
    "def np_precision(Na, Ra, bi):\n",
    "    try:\n",
    "        index = np.where(Ra == bi)[0][0]\n",
    "        Ra_bi = Ra[:index + 1]\n",
    "        intersection = len(np.intersect1d(Na, Ra_bi))\n",
    "        return intersection / len(Ra_bi)\n",
    "    except IndexError:\n",
    "        return 0\n",
    "\n",
    "\n",
    "def np_temp(X, out_nodes, ind):\n",
    "    score = 0\n",
    "    _, I = ind.search(X, 50)\n",
    "    for node, neighs in enumerate(tqdm(out_nodes)):\n",
    "        node_score = 0\n",
    "        Na = len(neighs)\n",
    "        if Na > 50:\n",
    "            _, temp_I = ind.search(X[node].reshape(1, -1), Na*5)\n",
    "            Ra_bi = temp_I.flatten()\n",
    "        else:\n",
    "            Ra_bi = I[node]\n",
    "        for neighbor in neighs:\n",
    "            node_score += np_precision(neighs, Ra_bi, neighbor)\n",
    "        score += node_score / Na\n",
    "    return score / len(out_nodes)\n",
    "\n",
    "\n",
    "def precision_score(ind, neighs):\n",
    "    neighs_ranks = np.in1d(ind, neighs).nonzero()[0] + 1\n",
    "    neighs_card = np.arange(len(neighs_ranks)) + 1\n",
    "    node_score = neighs_card / neighs_ranks\n",
    "    return node_score.sum() / len(neighs)\n",
    "\n",
    "\n",
    "def map_score(X, out_nodes, ind):\n",
    "    score = 0\n",
    "    _, I = ind.search(X, 50)\n",
    "    for node, neighs in enumerate(tqdm(out_nodes)):\n",
    "        node_score = 0\n",
    "        Na = len(neighs)\n",
    "        if Na > 50:\n",
    "            _, temp_I = ind.search(X[node].reshape(1, -1), Na*5)\n",
    "            Ra = temp_I.flatten()\n",
    "        else:\n",
    "            Ra = I[node]\n",
    "        score += precision_score(I[node], neighs)\n",
    "    return score / len(out_nodes)"
   ]
  },
  {
   "cell_type": "code",
   "execution_count": 13,
   "metadata": {},
   "outputs": [],
   "source": [
    "n = 10000"
   ]
  },
  {
   "cell_type": "code",
   "execution_count": 14,
   "metadata": {},
   "outputs": [
    {
     "name": "stderr",
     "output_type": "stream",
     "text": [
      "100%|██████████| 10000/10000 [00:05<00:00, 1936.25it/s]\n"
     ]
    },
    {
     "data": {
      "text/plain": [
       "0.4248102933981877"
      ]
     },
     "execution_count": 14,
     "metadata": {},
     "output_type": "execute_result"
    }
   ],
   "source": [
    "np_temp(X[:n], out_nodes[:n], ind)"
   ]
  },
  {
   "cell_type": "code",
   "execution_count": 15,
   "metadata": {},
   "outputs": [
    {
     "name": "stderr",
     "output_type": "stream",
     "text": [
      "100%|██████████| 10000/10000 [00:01<00:00, 6216.72it/s]\n"
     ]
    },
    {
     "data": {
      "text/plain": [
       "0.422109098674668"
      ]
     },
     "execution_count": 15,
     "metadata": {},
     "output_type": "execute_result"
    }
   ],
   "source": [
    "map_score(X[:n], out_nodes[:n], ind)"
   ]
  },
  {
   "cell_type": "code",
   "execution_count": 16,
   "metadata": {},
   "outputs": [
    {
     "name": "stderr",
     "output_type": "stream",
     "text": [
      "100%|██████████| 10000/10000 [00:08<00:00, 1172.38it/s]\n"
     ]
    }
   ],
   "source": [
    "%lprun -f np_temp np_temp(X[:n], out_nodes[:n], ind)"
   ]
  },
  {
   "cell_type": "code",
   "execution_count": 17,
   "metadata": {},
   "outputs": [
    {
     "name": "stderr",
     "output_type": "stream",
     "text": [
      "100%|██████████| 10000/10000 [00:02<00:00, 4604.61it/s]\n"
     ]
    }
   ],
   "source": [
    "%lprun -f map_score map_score(X[:n], out_nodes[:n], ind)"
   ]
  },
  {
   "cell_type": "markdown",
   "metadata": {},
   "source": [
    "## Map on all the dataset"
   ]
  },
  {
   "cell_type": "code",
   "execution_count": 39,
   "metadata": {},
   "outputs": [],
   "source": [
    "\n",
    "def map_score(X, out_nodes, ind, neigh_num=50):\n",
    "    outliers = []\n",
    "    score = 0\n",
    "    _, I = ind.search(X, neigh_num)\n",
    "    for node, neighs in enumerate(tqdm(out_nodes)):\n",
    "        node_score = 0\n",
    "        Na = len(neighs)\n",
    "        if Na > neigh_num // 2:\n",
    "            outliers.append(node)\n",
    "        else:\n",
    "            Ra = I[node]\n",
    "        score += precision_score(I[node], neighs)\n",
    "    V = len(out_nodes) - len(outliers)\n",
    "    return score / V, outliers\n"
   ]
  },
  {
   "cell_type": "code",
   "execution_count": 30,
   "metadata": {},
   "outputs": [
    {
     "name": "stderr",
     "output_type": "stream",
     "text": [
      "100%|██████████| 10000/10000 [00:00<00:00, 16683.50it/s]\n"
     ]
    }
   ],
   "source": [
    "n = 10000\n",
    "score, outliers = map_score(X[:n], out_nodes[:n], ind)"
   ]
  },
  {
   "cell_type": "code",
   "execution_count": 31,
   "metadata": {},
   "outputs": [
    {
     "data": {
      "text/plain": [
       "0.43896536883804904"
      ]
     },
     "execution_count": 31,
     "metadata": {},
     "output_type": "execute_result"
    }
   ],
   "source": [
    "score"
   ]
  },
  {
   "cell_type": "code",
   "execution_count": 32,
   "metadata": {},
   "outputs": [
    {
     "data": {
      "text/plain": [
       "384"
      ]
     },
     "execution_count": 32,
     "metadata": {},
     "output_type": "execute_result"
    }
   ],
   "source": [
    "len(outliers)"
   ]
  },
  {
   "cell_type": "code",
   "execution_count": 33,
   "metadata": {},
   "outputs": [
    {
     "data": {
      "text/plain": [
       "[403, 562, 595, 600, 650, 652, 653, 669, 670, 671]"
      ]
     },
     "execution_count": 33,
     "metadata": {},
     "output_type": "execute_result"
    }
   ],
   "source": [
    "outliers[:10]"
   ]
  },
  {
   "cell_type": "code",
   "execution_count": 44,
   "metadata": {},
   "outputs": [],
   "source": [
    "def map_score(X, out_nodes, ind, neigh_num=50):\n",
    "    outliers = []\n",
    "    score = 0\n",
    "    _, I = ind.search(X, neigh_num)\n",
    "    for node, neighs in enumerate(out_nodes):\n",
    "        node_score = 0\n",
    "        Na = len(neighs)\n",
    "        if Na > neigh_num // 2:\n",
    "            outliers.append(node)\n",
    "        else:\n",
    "            Ra = I[node]\n",
    "        score += precision_score(I[node], neighs)\n",
    "    return score, outliers\n",
    "\n",
    "\n",
    "def dataset_map(X, out_nodes):\n",
    "    \n",
    "    ind = train_search(X)\n",
    "    n = 10000\n",
    "    iters = len(X) // n\n",
    "    splits = np.array_split(X, iters)\n",
    "    out_node_split = np.array_split(out_nodes, iters)\n",
    "    score = 0\n",
    "    for data, nodes in tqdm(zip(splits, out_node_split), total=iters):\n",
    "        neighs = 50\n",
    "        split_score, outliers = map_score(data, nodes, ind, neigh_num=neighs)\n",
    "        score += split_score\n",
    "        while len(outliers) > 0:\n",
    "            neighs *= 2\n",
    "            split_score, outliers = map_score(data[outliers], nodes[outliers], ind, neighs)\n",
    "            score += split_score\n",
    "    return score / len(X)"
   ]
  },
  {
   "cell_type": "code",
   "execution_count": 45,
   "metadata": {},
   "outputs": [
    {
     "name": "stderr",
     "output_type": "stream",
     "text": [
      "\r",
      "  0%|          | 0/10 [00:00<?, ?it/s]"
     ]
    },
    {
     "name": "stdout",
     "output_type": "stream",
     "text": [
      "Index trained: True\n",
      "Index total: 100000\n"
     ]
    },
    {
     "name": "stderr",
     "output_type": "stream",
     "text": [
      "100%|██████████| 10/10 [00:14<00:00,  1.43s/it]\n"
     ]
    },
    {
     "data": {
      "text/plain": [
       "0.345055162417955"
      ]
     },
     "execution_count": 45,
     "metadata": {},
     "output_type": "execute_result"
    }
   ],
   "source": [
    "n = 100000\n",
    "s = dataset_map(X[:n], out_nodes[:n])\n",
    "s"
   ]
  },
  {
   "cell_type": "code",
   "execution_count": 46,
   "metadata": {},
   "outputs": [
    {
     "name": "stderr",
     "output_type": "stream",
     "text": [
      "\r",
      "  0%|          | 0/32 [00:00<?, ?it/s]"
     ]
    },
    {
     "name": "stdout",
     "output_type": "stream",
     "text": [
      "Index trained: True\n",
      "Index total: 325557\n"
     ]
    },
    {
     "name": "stderr",
     "output_type": "stream",
     "text": [
      "100%|██████████| 32/32 [01:23<00:00,  2.62s/it]\n"
     ]
    }
   ],
   "source": [
    "s = dataset_map(X, out_nodes)"
   ]
  },
  {
   "cell_type": "code",
   "execution_count": 47,
   "metadata": {},
   "outputs": [
    {
     "data": {
      "text/plain": [
       "0.3631427064146329"
      ]
     },
     "execution_count": 47,
     "metadata": {},
     "output_type": "execute_result"
    }
   ],
   "source": [
    "s"
   ]
  },
  {
   "cell_type": "markdown",
   "metadata": {},
   "source": [
    "## In nodes map"
   ]
  },
  {
   "cell_type": "code",
   "execution_count": 82,
   "metadata": {},
   "outputs": [],
   "source": [
    "from collections import defaultdict\n",
    "\n",
    "\n",
    "\n",
    "def read_ascii_in(basename, rm_singleton=False):\n",
    "    \"\"\"\n",
    "\n",
    "    \"\"\"\n",
    "    ascii_path = Path(\"/data/graphs\") / basename / (\"ascii.graph-txt\")\n",
    "    assert ascii_path.exists(), \"Graph not found!\"\n",
    "    with ascii_path.open() as f:\n",
    "        line = f.readline()\n",
    "        V = int(line.split()[0])\n",
    "        print(\"{} vertices\".format(V))\n",
    "        print(\"reading..\")\n",
    "        in_nodes = defaultdict(list)\n",
    "        for i in trange(V):\n",
    "            line = f.readline()\n",
    "            if line[0] == \"\\n\" and not rm_singleton:\n",
    "                # don't remove singleton\n",
    "                # assume node is linked to itself\n",
    "                continue\n",
    "            else:\n",
    "                for node in line.split():\n",
    "                    in_nodes[int(node)].append(i)\n",
    "    return in_nodes"
   ]
  },
  {
   "cell_type": "code",
   "execution_count": 83,
   "metadata": {},
   "outputs": [
    {
     "name": "stderr",
     "output_type": "stream",
     "text": [
      "  9%|▉         | 30804/325557 [00:00<00:02, 115175.04it/s]"
     ]
    },
    {
     "name": "stdout",
     "output_type": "stream",
     "text": [
      "325557 vertices\n",
      "reading..\n"
     ]
    },
    {
     "name": "stderr",
     "output_type": "stream",
     "text": [
      "100%|██████████| 325557/325557 [00:02<00:00, 122054.81it/s]\n"
     ]
    }
   ],
   "source": [
    "a = read_ascii_in(\"cnr-2000\")"
   ]
  },
  {
   "cell_type": "code",
   "execution_count": 85,
   "metadata": {},
   "outputs": [
    {
     "name": "stdout",
     "output_type": "stream",
     "text": [
      "[1, 4, 8]\n",
      "[0, 7, 8]\n",
      "[3, 4, 8]\n",
      "[2, 8, 9]\n",
      "[0, 2, 8]\n",
      "[6, 8, 45]\n",
      "[5, 7, 8]\n",
      "[1, 6, 8]\n",
      "[0, 1, 2, 3, 4, 5, 6, 7, 9, 10, 11, 12, 13, 14, 54, 64]\n",
      "[3, 8, 10]\n"
     ]
    }
   ],
   "source": [
    "for i in range(10):\n",
    "    print(a[i])"
   ]
  },
  {
   "cell_type": "code",
   "execution_count": null,
   "metadata": {},
   "outputs": [],
   "source": []
  }
 ],
 "metadata": {
  "kernelspec": {
   "display_name": "Python 3",
   "language": "python",
   "name": "python3"
  },
  "language_info": {
   "codemirror_mode": {
    "name": "ipython",
    "version": 3
   },
   "file_extension": ".py",
   "mimetype": "text/x-python",
   "name": "python",
   "nbconvert_exporter": "python",
   "pygments_lexer": "ipython3",
   "version": "3.6.9"
  }
 },
 "nbformat": 4,
 "nbformat_minor": 2
}
