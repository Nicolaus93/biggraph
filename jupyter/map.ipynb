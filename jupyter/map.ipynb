{
 "cells": [
  {
   "cell_type": "code",
   "execution_count": 1,
   "metadata": {},
   "outputs": [],
   "source": [
    "%load_ext line_profiler\n",
    "\n",
    "import numpy as np\n",
    "import linecache\n",
    "from pathlib import Path\n",
    "from tqdm import tqdm"
   ]
  },
  {
   "cell_type": "code",
   "execution_count": 2,
   "metadata": {},
   "outputs": [
    {
     "data": {
      "text/plain": [
       "['/home/user/miniconda/envs/py36/lib/python36.zip',\n",
       " '/home/user/miniconda/envs/py36/lib/python3.6',\n",
       " '/home/user/miniconda/envs/py36/lib/python3.6/lib-dynload',\n",
       " '',\n",
       " '/home/user/miniconda/envs/py36/lib/python3.6/site-packages',\n",
       " '/home/user/miniconda/envs/py36/lib/python3.6/site-packages/IPython/extensions',\n",
       " '/home/user/.ipython',\n",
       " '/app/biggraph']"
      ]
     },
     "execution_count": 2,
     "metadata": {},
     "output_type": "execute_result"
    }
   ],
   "source": [
    "import sys\n",
    "\n",
    "p = Path('.').resolve()\n",
    "sys.path.append(str(p.parent))\n",
    "sys.path"
   ]
  },
  {
   "cell_type": "code",
   "execution_count": 3,
   "metadata": {},
   "outputs": [
    {
     "name": "stderr",
     "output_type": "stream",
     "text": [
      "Loading faiss with AVX2 support.\n"
     ]
    }
   ],
   "source": [
    "from utils.faiss_utils import train_search\n",
    "from utils.data_utils import *"
   ]
  },
  {
   "cell_type": "code",
   "execution_count": 4,
   "metadata": {},
   "outputs": [],
   "source": [
    "def load_XY(basename):\n",
    "    \"\"\"\n",
    "    Load embeddings (X) and possibly the\n",
    "    labels (Y) of the graph {basename}.\n",
    "    \"\"\"\n",
    "    model_path = Path(\"/data/models\") / basename\n",
    "    print(\"Loading data..\")\n",
    "    X, Y = load_data(model_path)\n",
    "    classes = len(np.unique(Y))\n",
    "    print(\"X shape: {}\".format(X.shape))\n",
    "    return X, Y\n",
    "\n",
    "\n",
    "def check(nodes, k, emb, ind, f, ent_list):\n",
    "    \"\"\"\n",
    "    nodes    - 2d array of nodes we want to check\n",
    "    k        - nearest neighbours\n",
    "    emb      - a 2-d numpy array of embeddings\n",
    "    ind      - index built with faiss\n",
    "    f        - file containing urls\n",
    "    ent_list - list of entities id\n",
    "    \"\"\"\n",
    "    if len(nodes) == 1:\n",
    "        dist, ind = ind.search(nodes.reshape(1, -1), k)\n",
    "    else:\n",
    "        dist, ind = ind.search(nodes, k)\n",
    "    for row in ind:\n",
    "        source = int(ent_list[row[0]])\n",
    "        print('\\x1b[0;35;43m' + '{} nearest neighbours of node {}'.format(\n",
    "            k - 1, source) + '\\x1b[0m')\n",
    "        print('\\x1b[0;35;43m' + linecache.getline(f, source + 1) + '\\x1b[0m')\n",
    "        for node in row[1:]:\n",
    "            neighbor = int(ent_list[node])\n",
    "            print(\"  node {}, {}\".format(\n",
    "                node, linecache.getline(f, neighbor + 1)))"
   ]
  },
  {
   "cell_type": "code",
   "execution_count": 5,
   "metadata": {},
   "outputs": [
    {
     "name": "stdout",
     "output_type": "stream",
     "text": [
      "Loading data..\n",
      "Labels not defined\n",
      "X shape: (325557, 64)\n"
     ]
    },
    {
     "data": {
      "text/plain": [
       "array([-0.0001718 ,  0.0087695 , -0.02964852, -0.01956584, -0.01648358,\n",
       "       -0.00888848,  0.01993223, -0.01380344, -0.01544364, -0.00261269,\n",
       "       -0.02519534,  0.004574  , -0.01579152,  0.00774693,  0.00024875,\n",
       "       -0.0116387 ,  0.02761276,  0.00306257, -0.00216838,  0.01078875,\n",
       "       -0.0264635 , -0.00381334,  0.01533207, -0.01215552, -0.01134059,\n",
       "        0.01552172, -0.01898626, -0.00296632, -0.01627149,  0.01921202,\n",
       "       -0.03555609,  0.00344647,  0.01180901,  0.00941313,  0.02471872,\n",
       "       -0.04890871, -0.02605497,  0.01141761, -0.00338765,  0.0027696 ,\n",
       "       -0.01621617,  0.03093353,  0.00815312, -0.00166487,  0.00991619,\n",
       "       -0.02566224,  0.00927695,  0.00837251,  0.01326454,  0.0063187 ,\n",
       "        0.02874073, -0.01070895, -0.00283655, -0.01973416,  0.00305778,\n",
       "        0.01326166,  0.04523369,  0.01505135,  0.01444066,  0.01585885,\n",
       "        0.01686572,  0.0199776 ,  0.00878629,  0.00935664], dtype=float32)"
      ]
     },
     "execution_count": 5,
     "metadata": {},
     "output_type": "execute_result"
    }
   ],
   "source": [
    "basename = \"cnr-2000\"\n",
    "embeddings = load_XY(basename)\n",
    "X = embeddings[0]\n",
    "X[0]"
   ]
  },
  {
   "cell_type": "code",
   "execution_count": 6,
   "metadata": {},
   "outputs": [
    {
     "data": {
      "text/plain": [
       "[179413, 4123, 276766, 203406, 199888, 305090, 301572, 304259, 176797, 76956]"
      ]
     },
     "execution_count": 6,
     "metadata": {},
     "output_type": "execute_result"
    }
   ],
   "source": [
    "ent_list = get_entities_list(basename)\n",
    "ent_list[:10]"
   ]
  },
  {
   "cell_type": "code",
   "execution_count": 7,
   "metadata": {},
   "outputs": [
    {
     "name": "stdout",
     "output_type": "stream",
     "text": [
      "Index trained: True\n",
      "Index total: 325557\n"
     ]
    }
   ],
   "source": [
    "ind = train_search(X)"
   ]
  },
  {
   "cell_type": "code",
   "execution_count": 8,
   "metadata": {},
   "outputs": [
    {
     "name": "stdout",
     "output_type": "stream",
     "text": [
      "\u001b[0;35;43m9 nearest neighbours of node 179413\u001b[0m\n",
      "\u001b[0;35;43mhttp://www.igbe.pv.cnr.it/posizioni/bandi2000/schema3.html\n",
      "\u001b[0m\n",
      "  node 159937, http://www.igbe.pv.cnr.it/posizioni/bandi2000/schema6.html\n",
      "\n",
      "  node 289531, http://www.igbe.pv.cnr.it/posizioni/bandi2000/schema1.html\n",
      "\n",
      "  node 263443, http://www.igbe.pv.cnr.it/posizioni/2001/schema05.html\n",
      "\n",
      "  node 13645, http://www.igbe.pv.cnr.it/posizioni/2001/schema04.html\n",
      "\n",
      "  node 306396, http://www.igbe.pv.cnr.it/posizioni/bandi2000/schema2.html\n",
      "\n",
      "  node 101636, http://www.igbe.pv.cnr.it/posizioni/bandi2000/schema9.html\n",
      "\n",
      "  node 8968, http://www.igbe.pv.cnr.it/posizioni/2003/bando_01_03.html\n",
      "\n",
      "  node 305176, http://www.igbe.pv.cnr.it/posizioni/2001/schema02.html\n",
      "\n",
      "  node 249529, http://www.igbe.pv.cnr.it/posizioni/bandi2000/assegno4.html\n",
      "\n",
      "\u001b[0;35;43m9 nearest neighbours of node 4123\u001b[0m\n",
      "\u001b[0;35;43mhttp://www.isti.cnr.it/Intranet/RISeT/\n",
      "\u001b[0m\n",
      "  node 314250, http://www.isti.cnr.it/Miscellanea/Other/\n",
      "\n",
      "  node 36761, http://www.isti.cnr.it/Events/Courses/\n",
      "\n",
      "  node 234934, http://www.isti.cnr.it/ResearchUnits/Labs/si-lab/\n",
      "\n",
      "  node 221145, http://www.isti.cnr.it/ResearchUnits/Labs/wn-lab/pubs.html\n",
      "\n",
      "  node 160552, http://www.isti.cnr.it/ResearchUnits/Labs/vc-lab/pubs.html\n",
      "\n",
      "  node 179841, http://www.isti.cnr.it/ResearchUnits/Labs/kdd-lab/pubs.html\n",
      "\n",
      "  node 303474, http://www.isti.cnr.it/ResearchUnits/Labs/dc-lab/software-tools.html\n",
      "\n",
      "  node 163680, http://www.isti.cnr.it/ResearchUnits/Centers/sse-center/\n",
      "\n",
      "  node 73544, http://www.isti.cnr.it/ResearchUnits/Labs/si-lab/pubs.html\n",
      "\n"
     ]
    }
   ],
   "source": [
    "urls_f = '/data/graphs/cnr-2000/cnr-2000.urls'\n",
    "check(X[:2], 10, X, ind, urls_f, ent_list)"
   ]
  },
  {
   "cell_type": "code",
   "execution_count": 9,
   "metadata": {},
   "outputs": [
    {
     "data": {
      "text/plain": [
       "array([ 41419,  89814, 151940,  77547, 263177, 277660, 308368,  78840,\n",
       "       155331, 227672])"
      ]
     },
     "execution_count": 9,
     "metadata": {},
     "output_type": "execute_result"
    }
   ],
   "source": [
    "perm = np.argsort(ent_list)\n",
    "perm[:10]"
   ]
  },
  {
   "cell_type": "code",
   "execution_count": 10,
   "metadata": {},
   "outputs": [
    {
     "name": "stdout",
     "output_type": "stream",
     "text": [
      "Index trained: True\n",
      "Index total: 325557\n",
      "\u001b[0;35;43m9 nearest neighbours of node 179413\u001b[0m\n",
      "\u001b[0;35;43mhttp://www.igbe.pv.cnr.it/posizioni/bandi2000/schema3.html\n",
      "\u001b[0m\n",
      "  node 179415, http://www.igbe.pv.cnr.it/posizioni/bandi2000/schema6.html\n",
      "\n",
      "  node 179361, http://www.igbe.pv.cnr.it/posizioni/bandi2000/schema1.html\n",
      "\n",
      "  node 179368, http://www.igbe.pv.cnr.it/posizioni/2001/schema05.html\n",
      "\n",
      "  node 179401, http://www.igbe.pv.cnr.it/posizioni/2001/schema04.html\n",
      "\n",
      "  node 179411, http://www.igbe.pv.cnr.it/posizioni/bandi2000/schema2.html\n",
      "\n",
      "  node 179417, http://www.igbe.pv.cnr.it/posizioni/bandi2000/schema9.html\n",
      "\n",
      "  node 179396, http://www.igbe.pv.cnr.it/posizioni/2003/bando_01_03.html\n",
      "\n",
      "  node 179343, http://www.igbe.pv.cnr.it/posizioni/2001/schema02.html\n",
      "\n",
      "  node 179409, http://www.igbe.pv.cnr.it/posizioni/bandi2000/assegno4.html\n",
      "\n",
      "\u001b[0;35;43m9 nearest neighbours of node 4123\u001b[0m\n",
      "\u001b[0;35;43mhttp://www.isti.cnr.it/Intranet/RISeT/\n",
      "\u001b[0m\n",
      "  node 3740, http://www.isti.cnr.it/Miscellanea/Other/\n",
      "\n",
      "  node 3861, http://www.isti.cnr.it/Events/Courses/\n",
      "\n",
      "  node 3832, http://www.isti.cnr.it/ResearchUnits/Labs/si-lab/\n",
      "\n",
      "  node 3793, http://www.isti.cnr.it/ResearchUnits/Labs/wn-lab/pubs.html\n",
      "\n",
      "  node 3800, http://www.isti.cnr.it/ResearchUnits/Labs/vc-lab/pubs.html\n",
      "\n",
      "  node 3769, http://www.isti.cnr.it/ResearchUnits/Labs/kdd-lab/pubs.html\n",
      "\n",
      "  node 3831, http://www.isti.cnr.it/ResearchUnits/Labs/dc-lab/software-tools.html\n",
      "\n",
      "  node 3991, http://www.isti.cnr.it/ResearchUnits/Centers/sse-center/\n",
      "\n",
      "  node 3834, http://www.isti.cnr.it/ResearchUnits/Labs/si-lab/pubs.html\n",
      "\n"
     ]
    }
   ],
   "source": [
    "X = X[perm]\n",
    "ind = train_search(X)\n",
    "nodes = [179413, 4123]\n",
    "check(X[nodes], 10, X, ind, urls_f, [i for i in range(len(X))])"
   ]
  },
  {
   "cell_type": "code",
   "execution_count": null,
   "metadata": {},
   "outputs": [],
   "source": [
    "def create(n, constructor=list):\n",
    "    for _ in range(n):\n",
    "        yield constructor()\n",
    "        \n",
    "        \n",
    "def nodes_from_ascii(basename, in_nodes=False):\n",
    "    ascii_path = Path(\"/data/graphs\") / basename / (\"ascii.graph-txt\")\n",
    "    assert ascii_path.exists(), \"Graph not found!\"\n",
    "    with ascii_path.open() as f:\n",
    "        line = f.readline()\n",
    "        V = int(line.split()[0])\n",
    "        print(\"{} vertices\".format(V))\n",
    "        print(\"reading..\")\n",
    "        nodes = list(create(V))\n",
    "        singleton = 0\n",
    "        for i in trange(V):\n",
    "            line = f.readline()\n",
    "            if line[0] == \"\\n\":\n",
    "                singleton +=1\n",
    "            else:\n",
    "                if in_nodes:\n",
    "                    for node in line.split():\n",
    "                        nodes[int(node)].append(i)\n",
    "                else:\n",
    "                    nodes[i] = [int(j) for j in line.split()]\n",
    "        print(\"Found {} singleton nodes\".format(singleton))\n",
    "    return nodes"
   ]
  },
  {
   "cell_type": "markdown",
   "metadata": {},
   "source": [
    "## Mean Average Precision"
   ]
  },
  {
   "cell_type": "code",
   "execution_count": 12,
   "metadata": {},
   "outputs": [
    {
     "name": "stdout",
     "output_type": "stream",
     "text": [
      "Loading data..\n",
      "Labels not defined\n",
      "X shape: (325557, 64)\n",
      "325557 vertices\n",
      "reading..\n"
     ]
    },
    {
     "name": "stderr",
     "output_type": "stream",
     "text": [
      "100%|██████████| 325557/325557 [00:01<00:00, 192938.78it/s]\n"
     ]
    },
    {
     "name": "stdout",
     "output_type": "stream",
     "text": [
      "Index trained: True\n",
      "Index total: 325557\n"
     ]
    }
   ],
   "source": [
    "embeddings = load_XY(basename)\n",
    "X = embeddings[0]\n",
    "out_nodes = nodes_from_ascii(basename)\n",
    "assert len(X) == len(out_nodes)\n",
    "ent_list = get_entities_list(basename)\n",
    "perm = np.argsort(ent_list)\n",
    "X = X[perm]\n",
    "ind = train_search(X)"
   ]
  },
  {
   "cell_type": "code",
   "execution_count": 17,
   "metadata": {},
   "outputs": [],
   "source": [
    "def precision_score(node_ranking, neighs):\n",
    "    \"\"\"\n",
    "    Compute the precision score as explained in\n",
    "    https://dawn.cs.stanford.edu/2018/03/19/hyperbolics/\n",
    "    Input:\n",
    "        - node_ranking (np.array)\n",
    "        - neighs (list)\n",
    "    Output:\n",
    "        - precision score (float)\n",
    "    \"\"\"\n",
    "    # note: positions starting from 1 --> add 1\n",
    "    neighs_ranks = np.in1d(node_ranking, neighs).nonzero()[0] + 1\n",
    "    neighs_card = np.arange(len(neighs_ranks)) + 1\n",
    "    node_score = neighs_card / neighs_ranks\n",
    "    return node_score.sum() / len(neighs)\n",
    "\n",
    "\n",
    "def map_score(X, out_nodes, ind, neigh_num=50):\n",
    "    \"\"\"\n",
    "    Compute the map score of the given embedding.\n",
    "    If the number of neighbours of the current node\n",
    "    is bigger than the one given as input, returns\n",
    "    the current node as an outlier.\n",
    "    Input:\n",
    "        - X (np.array), embeddings\n",
    "        - nodes (list[list]), neighbours of each node\n",
    "        - ind (faiss index), index used to compute L2\n",
    "                            distances for the embeddings\n",
    "        - neigh_num (int), number of neighbours considered\n",
    "    Output:\n",
    "        - score (float), map score\n",
    "        - outliers (list)\n",
    "        - singleton, number of singleton nodes\n",
    "    \"\"\"\n",
    "    outliers = []\n",
    "    score = 0\n",
    "    singleton = 0\n",
    "    _, ranking = ind.search(X, neigh_num)\n",
    "    for node, neighs in enumerate(out_nodes):\n",
    "        Na = len(neighs)\n",
    "        if Na == 0:\n",
    "            singleton += 1\n",
    "        elif Na > neigh_num // 2:\n",
    "            outliers.append(node)\n",
    "        else:\n",
    "            # start from index=1 to not consider the node itself\n",
    "            Ra = ranking[node, 1:]\n",
    "            score += precision_score(Ra, neighs)\n",
    "    return score, outliers, singleton\n"
   ]
  },
  {
   "cell_type": "code",
   "execution_count": 15,
   "metadata": {},
   "outputs": [],
   "source": [
    "n = 1000"
   ]
  },
  {
   "cell_type": "code",
   "execution_count": 18,
   "metadata": {},
   "outputs": [
    {
     "data": {
      "text/plain": [
       "(56.266225634464824,\n",
       " [403,\n",
       "  562,\n",
       "  595,\n",
       "  600,\n",
       "  650,\n",
       "  652,\n",
       "  653,\n",
       "  669,\n",
       "  670,\n",
       "  671,\n",
       "  677,\n",
       "  687,\n",
       "  688,\n",
       "  689,\n",
       "  690,\n",
       "  691,\n",
       "  697,\n",
       "  698,\n",
       "  699,\n",
       "  700,\n",
       "  702,\n",
       "  705,\n",
       "  706,\n",
       "  707,\n",
       "  711,\n",
       "  712,\n",
       "  714,\n",
       "  716,\n",
       "  717,\n",
       "  718,\n",
       "  757,\n",
       "  796,\n",
       "  797,\n",
       "  799,\n",
       "  802,\n",
       "  805,\n",
       "  810,\n",
       "  812,\n",
       "  816,\n",
       "  817,\n",
       "  818,\n",
       "  828,\n",
       "  852,\n",
       "  853,\n",
       "  854,\n",
       "  855,\n",
       "  856,\n",
       "  857,\n",
       "  859,\n",
       "  860,\n",
       "  861,\n",
       "  863],\n",
       " 306)"
      ]
     },
     "execution_count": 18,
     "metadata": {},
     "output_type": "execute_result"
    }
   ],
   "source": [
    "map_score(X[:n], out_nodes[:n], ind)"
   ]
  },
  {
   "cell_type": "code",
   "execution_count": 19,
   "metadata": {},
   "outputs": [],
   "source": [
    "%lprun -f map_score map_score(X[:n], out_nodes[:n], ind)"
   ]
  },
  {
   "cell_type": "markdown",
   "metadata": {},
   "source": [
    "## Map on all the dataset"
   ]
  },
  {
   "cell_type": "code",
   "execution_count": 20,
   "metadata": {},
   "outputs": [],
   "source": [
    "def dataset_map(X, out_nodes, neighs=50):\n",
    "    \"\"\"\n",
    "    Compute the MAP score on all the embeddings\n",
    "    given as input.\n",
    "    \"\"\"\n",
    "    ind = train_search(X)\n",
    "    if len(X) > 10000:\n",
    "        n = 10000\n",
    "        iters = len(X) // n\n",
    "        splits = np.array_split(X, iters)\n",
    "        out_node_split = np.array_split(out_nodes, iters)\n",
    "    else:\n",
    "        iters = 1\n",
    "        splits = X\n",
    "        out_node_split = out_nodes\n",
    "    score = 0\n",
    "    singleton = 0\n",
    "    for data, nodes in tqdm(zip(splits, out_node_split), total=iters):\n",
    "        split_score, outliers, sing = map_score(\n",
    "            data, nodes, ind, neigh_num=neighs)\n",
    "        singleton += sing\n",
    "        score += split_score\n",
    "        while len(outliers) > 0:\n",
    "            neighs *= 2\n",
    "            split_score, outliers, _ = map_score(\n",
    "                data[outliers], nodes[outliers], ind, neigh_num=neighs)\n",
    "            score += split_score\n",
    "    return score / (len(X) - singleton)\n",
    "\n"
   ]
  },
  {
   "cell_type": "code",
   "execution_count": 21,
   "metadata": {},
   "outputs": [
    {
     "name": "stdout",
     "output_type": "stream",
     "text": [
      "Index trained: True\n",
      "Index total: 325557\n"
     ]
    },
    {
     "name": "stderr",
     "output_type": "stream",
     "text": [
      "100%|██████████| 32/32 [02:45<00:00,  5.18s/it]\n"
     ]
    }
   ],
   "source": [
    "s = dataset_map(X, out_nodes)"
   ]
  },
  {
   "cell_type": "code",
   "execution_count": 22,
   "metadata": {},
   "outputs": [
    {
     "data": {
      "text/plain": [
       "0.10081008928523795"
      ]
     },
     "execution_count": 22,
     "metadata": {},
     "output_type": "execute_result"
    }
   ],
   "source": [
    "s"
   ]
  },
  {
   "cell_type": "markdown",
   "metadata": {},
   "source": [
    "## In nodes map"
   ]
  },
  {
   "cell_type": "code",
   "execution_count": 26,
   "metadata": {
    "scrolled": false
   },
   "outputs": [
    {
     "name": "stdout",
     "output_type": "stream",
     "text": [
      "325557 vertices\n",
      "reading..\n"
     ]
    },
    {
     "name": "stderr",
     "output_type": "stream",
     "text": [
      "100%|██████████| 325557/325557 [00:02<00:00, 158532.32it/s]\n"
     ]
    }
   ],
   "source": [
    "in_nodes = nodes_from_ascii(\"cnr-2000\", in_nodes=True)"
   ]
  },
  {
   "cell_type": "code",
   "execution_count": 27,
   "metadata": {
    "scrolled": true
   },
   "outputs": [
    {
     "name": "stdout",
     "output_type": "stream",
     "text": [
      "Index trained: True\n",
      "Index total: 325557\n"
     ]
    },
    {
     "name": "stderr",
     "output_type": "stream",
     "text": [
      "100%|██████████| 32/32 [09:39<00:00, 18.10s/it]\n"
     ]
    },
    {
     "data": {
      "text/plain": [
       "0.08374297111694988"
      ]
     },
     "execution_count": 27,
     "metadata": {},
     "output_type": "execute_result"
    }
   ],
   "source": [
    "dataset_map(X, in_nodes)"
   ]
  },
  {
   "cell_type": "markdown",
   "metadata": {},
   "source": [
    "## in_neighbours and out_neighbours simultaneously"
   ]
  },
  {
   "cell_type": "code",
   "execution_count": 28,
   "metadata": {},
   "outputs": [
    {
     "name": "stdout",
     "output_type": "stream",
     "text": [
      "325557 vertices\n",
      "reading..\n"
     ]
    },
    {
     "name": "stderr",
     "output_type": "stream",
     "text": [
      "100%|██████████| 325557/325557 [00:01<00:00, 195031.31it/s]\n"
     ]
    }
   ],
   "source": [
    "out_nodes = nodes_from_ascii(\"cnr-2000\")"
   ]
  },
  {
   "cell_type": "code",
   "execution_count": 29,
   "metadata": {},
   "outputs": [
    {
     "data": {
      "text/plain": [
       "[[1, 4, 8, 219, 220],\n",
       " [0, 7, 8, 219, 220],\n",
       " [3, 4, 8, 219, 220],\n",
       " [2, 8, 9, 219, 220],\n",
       " [0, 2, 8, 219, 220],\n",
       " [6, 8, 45, 219, 220],\n",
       " [5, 7, 8, 219, 220],\n",
       " [1, 6, 8, 219, 220],\n",
       " [0, 1, 2, 3, 4, 5, 6, 7, 9, 10, 11, 12, 13, 14, 54, 64, 146, 156],\n",
       " [3, 8, 10, 219, 220]]"
      ]
     },
     "execution_count": 29,
     "metadata": {},
     "output_type": "execute_result"
    }
   ],
   "source": [
    "out_nodes[:10]"
   ]
  },
  {
   "cell_type": "code",
   "execution_count": 30,
   "metadata": {},
   "outputs": [
    {
     "data": {
      "text/plain": [
       "[[1, 4, 8],\n",
       " [0, 7, 8],\n",
       " [3, 4, 8],\n",
       " [2, 8, 9],\n",
       " [0, 2, 8],\n",
       " [6, 8, 45],\n",
       " [5, 7, 8],\n",
       " [1, 6, 8],\n",
       " [0, 1, 2, 3, 4, 5, 6, 7, 9, 10, 11, 12, 13, 14, 54, 64],\n",
       " [3, 8, 10]]"
      ]
     },
     "execution_count": 30,
     "metadata": {},
     "output_type": "execute_result"
    }
   ],
   "source": [
    "in_nodes[:10]"
   ]
  },
  {
   "cell_type": "code",
   "execution_count": 31,
   "metadata": {},
   "outputs": [
    {
     "name": "stderr",
     "output_type": "stream",
     "text": [
      "100%|██████████| 325557/325557 [00:01<00:00, 276473.75it/s]\n"
     ]
    }
   ],
   "source": [
    "n = len(out_nodes)\n",
    "nodes = list(create(n))\n",
    "for i in trange(n):\n",
    "    nodes[i] = list(set(out_nodes[i]) | set(in_nodes[i]))"
   ]
  },
  {
   "cell_type": "code",
   "execution_count": 32,
   "metadata": {},
   "outputs": [
    {
     "data": {
      "text/plain": [
       "[1, 4, 8, 219, 220]"
      ]
     },
     "execution_count": 32,
     "metadata": {},
     "output_type": "execute_result"
    }
   ],
   "source": [
    "nodes[0]"
   ]
  },
  {
   "cell_type": "code",
   "execution_count": 33,
   "metadata": {},
   "outputs": [
    {
     "name": "stdout",
     "output_type": "stream",
     "text": [
      "Index trained: True\n",
      "Index total: 325557\n"
     ]
    },
    {
     "name": "stderr",
     "output_type": "stream",
     "text": [
      "100%|██████████| 32/32 [10:33<00:00, 19.81s/it]\n"
     ]
    },
    {
     "data": {
      "text/plain": [
       "0.09755102669741487"
      ]
     },
     "execution_count": 33,
     "metadata": {},
     "output_type": "execute_result"
    }
   ],
   "source": [
    "dataset_map(X, nodes)"
   ]
  },
  {
   "cell_type": "markdown",
   "metadata": {},
   "source": [
    "### sanity check on the edges"
   ]
  },
  {
   "cell_type": "code",
   "execution_count": 34,
   "metadata": {},
   "outputs": [
    {
     "data": {
      "text/plain": [
       "3216152"
      ]
     },
     "execution_count": 34,
     "metadata": {},
     "output_type": "execute_result"
    }
   ],
   "source": [
    "edges = 0\n",
    "for i in out_nodes:\n",
    "    edges += len(i)\n",
    "edges"
   ]
  },
  {
   "cell_type": "code",
   "execution_count": 35,
   "metadata": {},
   "outputs": [
    {
     "data": {
      "text/plain": [
       "3216152"
      ]
     },
     "execution_count": 35,
     "metadata": {},
     "output_type": "execute_result"
    }
   ],
   "source": [
    "edges = 0\n",
    "for i in in_nodes:\n",
    "    edges += len(i)\n",
    "edges"
   ]
  },
  {
   "cell_type": "markdown",
   "metadata": {},
   "source": [
    "### KarateClub"
   ]
  },
  {
   "cell_type": "code",
   "execution_count": 37,
   "metadata": {},
   "outputs": [
    {
     "ename": "AssertionError",
     "evalue": "Graph not found!",
     "output_type": "error",
     "traceback": [
      "\u001b[0;31m---------------------------------------------------------------------------\u001b[0m",
      "\u001b[0;31mAssertionError\u001b[0m                            Traceback (most recent call last)",
      "\u001b[0;32m<ipython-input-37-f0085a312255>\u001b[0m in \u001b[0;36m<module>\u001b[0;34m\u001b[0m\n\u001b[0;32m----> 1\u001b[0;31m \u001b[0mnodes_from_ascii\u001b[0m\u001b[0;34m(\u001b[0m\u001b[0;34m\"KarateClub\"\u001b[0m\u001b[0;34m)\u001b[0m\u001b[0;34m\u001b[0m\u001b[0;34m\u001b[0m\u001b[0m\n\u001b[0m",
      "\u001b[0;32m<ipython-input-11-1e924aeac450>\u001b[0m in \u001b[0;36mnodes_from_ascii\u001b[0;34m(basename, in_nodes)\u001b[0m\n\u001b[1;32m      6\u001b[0m \u001b[0;32mdef\u001b[0m \u001b[0mnodes_from_ascii\u001b[0m\u001b[0;34m(\u001b[0m\u001b[0mbasename\u001b[0m\u001b[0;34m,\u001b[0m \u001b[0min_nodes\u001b[0m\u001b[0;34m=\u001b[0m\u001b[0;32mFalse\u001b[0m\u001b[0;34m)\u001b[0m\u001b[0;34m:\u001b[0m\u001b[0;34m\u001b[0m\u001b[0;34m\u001b[0m\u001b[0m\n\u001b[1;32m      7\u001b[0m     \u001b[0mascii_path\u001b[0m \u001b[0;34m=\u001b[0m \u001b[0mPath\u001b[0m\u001b[0;34m(\u001b[0m\u001b[0;34m\"/data/graphs\"\u001b[0m\u001b[0;34m)\u001b[0m \u001b[0;34m/\u001b[0m \u001b[0mbasename\u001b[0m \u001b[0;34m/\u001b[0m \u001b[0;34m(\u001b[0m\u001b[0;34m\"ascii.graph-txt\"\u001b[0m\u001b[0;34m)\u001b[0m\u001b[0;34m\u001b[0m\u001b[0;34m\u001b[0m\u001b[0m\n\u001b[0;32m----> 8\u001b[0;31m     \u001b[0;32massert\u001b[0m \u001b[0mascii_path\u001b[0m\u001b[0;34m.\u001b[0m\u001b[0mexists\u001b[0m\u001b[0;34m(\u001b[0m\u001b[0;34m)\u001b[0m\u001b[0;34m,\u001b[0m \u001b[0;34m\"Graph not found!\"\u001b[0m\u001b[0;34m\u001b[0m\u001b[0;34m\u001b[0m\u001b[0m\n\u001b[0m\u001b[1;32m      9\u001b[0m     \u001b[0;32mwith\u001b[0m \u001b[0mascii_path\u001b[0m\u001b[0;34m.\u001b[0m\u001b[0mopen\u001b[0m\u001b[0;34m(\u001b[0m\u001b[0;34m)\u001b[0m \u001b[0;32mas\u001b[0m \u001b[0mf\u001b[0m\u001b[0;34m:\u001b[0m\u001b[0;34m\u001b[0m\u001b[0;34m\u001b[0m\u001b[0m\n\u001b[1;32m     10\u001b[0m         \u001b[0mline\u001b[0m \u001b[0;34m=\u001b[0m \u001b[0mf\u001b[0m\u001b[0;34m.\u001b[0m\u001b[0mreadline\u001b[0m\u001b[0;34m(\u001b[0m\u001b[0;34m)\u001b[0m\u001b[0;34m\u001b[0m\u001b[0;34m\u001b[0m\u001b[0m\n",
      "\u001b[0;31mAssertionError\u001b[0m: Graph not found!"
     ]
    }
   ],
   "source": [
    "nodes_from_ascii(\"KarateClub\")"
   ]
  },
  {
   "cell_type": "code",
   "execution_count": 38,
   "metadata": {},
   "outputs": [
    {
     "data": {
      "text/plain": [
       "[[1, 2, 3, 4, 5, 6, 7, 8, 10, 11, 12, 13, 17, 19, 21, 31],\n",
       " [0, 2, 3, 7, 13, 17, 19, 21, 30],\n",
       " [0, 1, 3, 7, 8, 9, 13, 27, 28, 32],\n",
       " [0, 1, 2, 7, 12, 13],\n",
       " [0, 6, 10]]"
      ]
     },
     "execution_count": 38,
     "metadata": {},
     "output_type": "execute_result"
    }
   ],
   "source": [
    "import re\n",
    "\n",
    "karate = Path(\"/data/graphs/KarateClub/KarateClub.tab\")\n",
    "nodes = list(create(34))\n",
    "\n",
    "with karate.open() as f:\n",
    "    for line in f:\n",
    "        two_nodes = re.findall(\"[0-9]+\", line)\n",
    "        node1, node2 = int(two_nodes[0]), int(two_nodes[1])\n",
    "        nodes[node1].append(node2)\n",
    "        \n",
    "nodes[:5]"
   ]
  },
  {
   "cell_type": "code",
   "execution_count": 39,
   "metadata": {},
   "outputs": [
    {
     "name": "stdout",
     "output_type": "stream",
     "text": [
      "Loading data..\n",
      "Labels not defined\n",
      "X shape: (34, 64)\n",
      "Index trained: True\n",
      "Index total: 34\n"
     ]
    }
   ],
   "source": [
    "basename = \"KarateClub\"\n",
    "\n",
    "embeddings = load_XY(basename)\n",
    "X = embeddings[0]\n",
    "assert len(X) == len(nodes)\n",
    "ent_list = get_entities_list(basename)\n",
    "perm = np.argsort(ent_list)\n",
    "X = X[perm]\n",
    "ind = train_search(X)"
   ]
  },
  {
   "cell_type": "code",
   "execution_count": 40,
   "metadata": {},
   "outputs": [],
   "source": [
    "_, I = ind.search(X, 34)"
   ]
  },
  {
   "cell_type": "code",
   "execution_count": 41,
   "metadata": {},
   "outputs": [
    {
     "data": {
      "text/plain": [
       "[[1, 2, 3, 4, 5, 6, 7, 8, 10, 11, 12, 13, 17, 19, 21, 31],\n",
       " [0, 2, 3, 7, 13, 17, 19, 21, 30],\n",
       " [0, 1, 3, 7, 8, 9, 13, 27, 28, 32],\n",
       " [0, 1, 2, 7, 12, 13],\n",
       " [0, 6, 10]]"
      ]
     },
     "execution_count": 41,
     "metadata": {},
     "output_type": "execute_result"
    }
   ],
   "source": [
    "nodes[:5]"
   ]
  },
  {
   "cell_type": "code",
   "execution_count": 42,
   "metadata": {},
   "outputs": [
    {
     "data": {
      "text/plain": [
       "array([[ 0, 21, 17, 19,  5,  3,  7,  4, 16, 10, 13, 12, 24,  1, 31,  6,\n",
       "        15,  2, 28, 32,  8,  9, 26, 20, 33, 25, 27, 14, 18, 30, 29, 22,\n",
       "        23, 11],\n",
       "       [ 1,  7, 13,  3, 21, 19, 17,  0,  2, 12,  8,  9,  5, 30, 28, 16,\n",
       "         4, 15, 24, 31, 10, 32, 33, 20,  6, 27, 14, 26, 18, 22, 25, 29,\n",
       "        23, 11],\n",
       "       [ 2, 13,  9, 28,  7,  3,  8, 19,  1, 31, 21, 24, 33,  0, 30, 32,\n",
       "        15, 27, 17,  5, 16, 12, 20, 14, 18, 25, 22, 26,  4, 29, 23, 10,\n",
       "         6, 11],\n",
       "       [ 3,  7, 13, 21,  0, 12, 19,  1, 17,  2,  5, 16, 28,  4,  9, 24,\n",
       "        31,  8, 15, 10, 32, 33, 30, 27,  6, 20, 26, 14, 25, 18, 22, 29,\n",
       "        23, 11],\n",
       "       [ 4, 10,  5, 16,  6,  0, 17, 21, 19, 24,  3, 31, 15,  7, 12, 13,\n",
       "        32, 26, 25, 28, 20, 14, 29, 18,  2,  8,  1, 33, 22,  9, 11, 27,\n",
       "        23, 30]])"
      ]
     },
     "execution_count": 42,
     "metadata": {},
     "output_type": "execute_result"
    }
   ],
   "source": [
    "I[:5]"
   ]
  },
  {
   "cell_type": "code",
   "execution_count": 43,
   "metadata": {},
   "outputs": [
    {
     "name": "stdout",
     "output_type": "stream",
     "text": [
      "node: 0, score: 0.8953950665347725\n",
      "node: 1, score: 0.9658119658119657\n",
      "node: 2, score: 0.8678619909502261\n",
      "node: 3, score: 0.8218253968253969\n",
      "node: 4, score: 0.7000000000000001\n",
      "node: 5, score: 0.7041666666666666\n",
      "node: 6, score: 0.6791666666666667\n",
      "node: 7, score: 0.6678571428571429\n",
      "node: 8, score: 0.7559523809523809\n",
      "node: 9, score: 0.7\n",
      "node: 10, score: 0.7555555555555555\n",
      "node: 11, score: 0.16666666666666666\n",
      "node: 12, score: 0.8333333333333333\n",
      "node: 13, score: 0.5176190476190475\n",
      "node: 14, score: 0.29166666666666663\n",
      "node: 15, score: 0.7\n",
      "node: 16, score: 0.5909090909090909\n",
      "node: 17, score: 0.34090909090909094\n",
      "node: 18, score: 0.325\n",
      "node: 19, score: 0.2609649122807018\n",
      "node: 20, score: 0.29166666666666663\n",
      "node: 21, score: 0.39285714285714285\n",
      "node: 22, score: 0.325\n",
      "node: 23, score: 0.8392857142857142\n",
      "node: 24, score: 1.0\n",
      "node: 25, score: 0.9166666666666666\n",
      "node: 26, score: 0.625\n",
      "node: 27, score: 0.4333333333333333\n",
      "node: 28, score: 0.7222222222222222\n",
      "node: 29, score: 0.8611111111111112\n",
      "node: 30, score: 0.7976190476190477\n",
      "node: 31, score: 0.7662037037037037\n",
      "node: 32, score: 0.9106799450549451\n",
      "node: 33, score: 0.9746615312791784\n"
     ]
    }
   ],
   "source": [
    "for i in range(34):\n",
    "    print(\"node: {}, score: {}\".format(i, precision_score(I[i, 1:], nodes[i])))"
   ]
  },
  {
   "cell_type": "markdown",
   "metadata": {},
   "source": [
    "How to check if calculations are correct? \n",
    "\n",
    "Check the precision for node 11"
   ]
  },
  {
   "cell_type": "code",
   "execution_count": 44,
   "metadata": {},
   "outputs": [
    {
     "data": {
      "text/plain": [
       "[0]"
      ]
     },
     "execution_count": 44,
     "metadata": {},
     "output_type": "execute_result"
    }
   ],
   "source": [
    "nodes[11]"
   ]
  },
  {
   "cell_type": "code",
   "execution_count": 45,
   "metadata": {},
   "outputs": [
    {
     "data": {
      "text/plain": [
       "array([11,  6, 10,  4,  5, 16,  0, 17, 12, 21, 24, 19, 31, 25, 15, 26,  3,\n",
       "        7, 29, 32, 20, 14, 13, 18, 28, 22, 23, 27, 33,  1,  2,  8,  9, 30])"
      ]
     },
     "execution_count": 45,
     "metadata": {},
     "output_type": "execute_result"
    }
   ],
   "source": [
    "I[11]"
   ]
  },
  {
   "cell_type": "markdown",
   "metadata": {},
   "source": [
    "It should be 1/6 and indeed is 0.16"
   ]
  },
  {
   "cell_type": "code",
   "execution_count": 46,
   "metadata": {},
   "outputs": [],
   "source": [
    "score, _, _ = map_score(X, nodes, ind, neigh_num=34)"
   ]
  },
  {
   "cell_type": "code",
   "execution_count": 47,
   "metadata": {},
   "outputs": [
    {
     "data": {
      "text/plain": [
       "0.6587343742942676"
      ]
     },
     "execution_count": 47,
     "metadata": {},
     "output_type": "execute_result"
    }
   ],
   "source": [
    "score / 34"
   ]
  },
  {
   "cell_type": "markdown",
   "metadata": {},
   "source": [
    "# Write function"
   ]
  },
  {
   "cell_type": "code",
   "execution_count": 49,
   "metadata": {},
   "outputs": [
    {
     "data": {
      "text/plain": [
       "(34, 64)"
      ]
     },
     "execution_count": 49,
     "metadata": {},
     "output_type": "execute_result"
    }
   ],
   "source": [
    "X.shape"
   ]
  },
  {
   "cell_type": "code",
   "execution_count": 48,
   "metadata": {},
   "outputs": [
    {
     "name": "stderr",
     "output_type": "stream",
     "text": [
      "  0%|          | 0/1 [00:00<?, ?it/s]"
     ]
    },
    {
     "name": "stdout",
     "output_type": "stream",
     "text": [
      "Index trained: True\n",
      "Index total: 34\n"
     ]
    },
    {
     "name": "stderr",
     "output_type": "stream",
     "text": [
      "\n"
     ]
    },
    {
     "ename": "ValueError",
     "evalue": "not enough values to unpack (expected 2, got 1)",
     "output_type": "error",
     "traceback": [
      "\u001b[0;31m---------------------------------------------------------------------------\u001b[0m",
      "\u001b[0;31mValueError\u001b[0m                                Traceback (most recent call last)",
      "\u001b[0;32m<ipython-input-48-6ae65f92f7dd>\u001b[0m in \u001b[0;36m<module>\u001b[0;34m\u001b[0m\n\u001b[0;32m----> 1\u001b[0;31m \u001b[0mdataset_map\u001b[0m\u001b[0;34m(\u001b[0m\u001b[0mX\u001b[0m\u001b[0;34m,\u001b[0m \u001b[0mnodes\u001b[0m\u001b[0;34m,\u001b[0m \u001b[0mneighs\u001b[0m\u001b[0;34m=\u001b[0m\u001b[0;36m34\u001b[0m\u001b[0;34m)\u001b[0m\u001b[0;34m\u001b[0m\u001b[0;34m\u001b[0m\u001b[0m\n\u001b[0m",
      "\u001b[0;32m<ipython-input-20-0f09281dc129>\u001b[0m in \u001b[0;36mdataset_map\u001b[0;34m(X, out_nodes, neighs)\u001b[0m\n\u001b[1;32m     18\u001b[0m     \u001b[0;32mfor\u001b[0m \u001b[0mdata\u001b[0m\u001b[0;34m,\u001b[0m \u001b[0mnodes\u001b[0m \u001b[0;32min\u001b[0m \u001b[0mtqdm\u001b[0m\u001b[0;34m(\u001b[0m\u001b[0mzip\u001b[0m\u001b[0;34m(\u001b[0m\u001b[0msplits\u001b[0m\u001b[0;34m,\u001b[0m \u001b[0mout_node_split\u001b[0m\u001b[0;34m)\u001b[0m\u001b[0;34m,\u001b[0m \u001b[0mtotal\u001b[0m\u001b[0;34m=\u001b[0m\u001b[0miters\u001b[0m\u001b[0;34m)\u001b[0m\u001b[0;34m:\u001b[0m\u001b[0;34m\u001b[0m\u001b[0;34m\u001b[0m\u001b[0m\n\u001b[1;32m     19\u001b[0m         split_score, outliers, sing = map_score(\n\u001b[0;32m---> 20\u001b[0;31m             data, nodes, ind, neigh_num=neighs)\n\u001b[0m\u001b[1;32m     21\u001b[0m         \u001b[0msingleton\u001b[0m \u001b[0;34m+=\u001b[0m \u001b[0msing\u001b[0m\u001b[0;34m\u001b[0m\u001b[0;34m\u001b[0m\u001b[0m\n\u001b[1;32m     22\u001b[0m         \u001b[0mscore\u001b[0m \u001b[0;34m+=\u001b[0m \u001b[0msplit_score\u001b[0m\u001b[0;34m\u001b[0m\u001b[0;34m\u001b[0m\u001b[0m\n",
      "\u001b[0;32m<ipython-input-17-6dad0225fe7b>\u001b[0m in \u001b[0;36mmap_score\u001b[0;34m(X, out_nodes, ind, neigh_num)\u001b[0m\n\u001b[1;32m     36\u001b[0m     \u001b[0mscore\u001b[0m \u001b[0;34m=\u001b[0m \u001b[0;36m0\u001b[0m\u001b[0;34m\u001b[0m\u001b[0;34m\u001b[0m\u001b[0m\n\u001b[1;32m     37\u001b[0m     \u001b[0msingleton\u001b[0m \u001b[0;34m=\u001b[0m \u001b[0;36m0\u001b[0m\u001b[0;34m\u001b[0m\u001b[0;34m\u001b[0m\u001b[0m\n\u001b[0;32m---> 38\u001b[0;31m     \u001b[0m_\u001b[0m\u001b[0;34m,\u001b[0m \u001b[0mranking\u001b[0m \u001b[0;34m=\u001b[0m \u001b[0mind\u001b[0m\u001b[0;34m.\u001b[0m\u001b[0msearch\u001b[0m\u001b[0;34m(\u001b[0m\u001b[0mX\u001b[0m\u001b[0;34m,\u001b[0m \u001b[0mneigh_num\u001b[0m\u001b[0;34m)\u001b[0m\u001b[0;34m\u001b[0m\u001b[0;34m\u001b[0m\u001b[0m\n\u001b[0m\u001b[1;32m     39\u001b[0m     \u001b[0;32mfor\u001b[0m \u001b[0mnode\u001b[0m\u001b[0;34m,\u001b[0m \u001b[0mneighs\u001b[0m \u001b[0;32min\u001b[0m \u001b[0menumerate\u001b[0m\u001b[0;34m(\u001b[0m\u001b[0mout_nodes\u001b[0m\u001b[0;34m)\u001b[0m\u001b[0;34m:\u001b[0m\u001b[0;34m\u001b[0m\u001b[0;34m\u001b[0m\u001b[0m\n\u001b[1;32m     40\u001b[0m         \u001b[0mNa\u001b[0m \u001b[0;34m=\u001b[0m \u001b[0mlen\u001b[0m\u001b[0;34m(\u001b[0m\u001b[0mneighs\u001b[0m\u001b[0;34m)\u001b[0m\u001b[0;34m\u001b[0m\u001b[0;34m\u001b[0m\u001b[0m\n",
      "\u001b[0;32m~/miniconda/envs/py36/lib/python3.6/site-packages/faiss/__init__.py\u001b[0m in \u001b[0;36mreplacement_search\u001b[0;34m(self, x, k)\u001b[0m\n\u001b[1;32m    143\u001b[0m \u001b[0;34m\u001b[0m\u001b[0m\n\u001b[1;32m    144\u001b[0m     \u001b[0;32mdef\u001b[0m \u001b[0mreplacement_search\u001b[0m\u001b[0;34m(\u001b[0m\u001b[0mself\u001b[0m\u001b[0;34m,\u001b[0m \u001b[0mx\u001b[0m\u001b[0;34m,\u001b[0m \u001b[0mk\u001b[0m\u001b[0;34m)\u001b[0m\u001b[0;34m:\u001b[0m\u001b[0;34m\u001b[0m\u001b[0;34m\u001b[0m\u001b[0m\n\u001b[0;32m--> 145\u001b[0;31m         \u001b[0mn\u001b[0m\u001b[0;34m,\u001b[0m \u001b[0md\u001b[0m \u001b[0;34m=\u001b[0m \u001b[0mx\u001b[0m\u001b[0;34m.\u001b[0m\u001b[0mshape\u001b[0m\u001b[0;34m\u001b[0m\u001b[0;34m\u001b[0m\u001b[0m\n\u001b[0m\u001b[1;32m    146\u001b[0m         \u001b[0;32massert\u001b[0m \u001b[0md\u001b[0m \u001b[0;34m==\u001b[0m \u001b[0mself\u001b[0m\u001b[0;34m.\u001b[0m\u001b[0md\u001b[0m\u001b[0;34m\u001b[0m\u001b[0;34m\u001b[0m\u001b[0m\n\u001b[1;32m    147\u001b[0m         \u001b[0mdistances\u001b[0m \u001b[0;34m=\u001b[0m \u001b[0mnp\u001b[0m\u001b[0;34m.\u001b[0m\u001b[0mempty\u001b[0m\u001b[0;34m(\u001b[0m\u001b[0;34m(\u001b[0m\u001b[0mn\u001b[0m\u001b[0;34m,\u001b[0m \u001b[0mk\u001b[0m\u001b[0;34m)\u001b[0m\u001b[0;34m,\u001b[0m \u001b[0mdtype\u001b[0m\u001b[0;34m=\u001b[0m\u001b[0mnp\u001b[0m\u001b[0;34m.\u001b[0m\u001b[0mfloat32\u001b[0m\u001b[0;34m)\u001b[0m\u001b[0;34m\u001b[0m\u001b[0;34m\u001b[0m\u001b[0m\n",
      "\u001b[0;31mValueError\u001b[0m: not enough values to unpack (expected 2, got 1)"
     ]
    }
   ],
   "source": [
    "dataset_map(X, nodes, neighs=34)"
   ]
  },
  {
   "cell_type": "code",
   "execution_count": null,
   "metadata": {},
   "outputs": [],
   "source": []
  }
 ],
 "metadata": {
  "kernelspec": {
   "display_name": "Python 3",
   "language": "python",
   "name": "python3"
  },
  "language_info": {
   "codemirror_mode": {
    "name": "ipython",
    "version": 3
   },
   "file_extension": ".py",
   "mimetype": "text/x-python",
   "name": "python",
   "nbconvert_exporter": "python",
   "pygments_lexer": "ipython3",
   "version": "3.6.9"
  }
 },
 "nbformat": 4,
 "nbformat_minor": 2
}
