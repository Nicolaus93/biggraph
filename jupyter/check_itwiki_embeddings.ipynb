{
 "cells": [
  {
   "cell_type": "code",
   "execution_count": 1,
   "metadata": {},
   "outputs": [],
   "source": [
    "import numpy as np\n",
    "import linecache\n",
    "from pathlib import Path\n",
    "from tqdm import tqdm"
   ]
  },
  {
   "cell_type": "code",
   "execution_count": 2,
   "metadata": {},
   "outputs": [],
   "source": [
    "import sys\n",
    "\n",
    "p = Path('.').resolve()\n",
    "sys.path.append(str(p.parent))"
   ]
  },
  {
   "cell_type": "code",
   "execution_count": 3,
   "metadata": {},
   "outputs": [
    {
     "name": "stderr",
     "output_type": "stream",
     "text": [
      "Loading faiss with AVX2 support.\n"
     ]
    }
   ],
   "source": [
    "from utils.faiss_utils import train_search\n",
    "from utils.data_utils import *"
   ]
  },
  {
   "cell_type": "code",
   "execution_count": 4,
   "metadata": {},
   "outputs": [],
   "source": [
    "def load_XY(basename):\n",
    "    \"\"\"\n",
    "    Load embeddings (X) and possibly the\n",
    "    labels (Y) of the graph {basename}.\n",
    "    \"\"\"\n",
    "    model_path = Path(\"/data/models\") / basename\n",
    "    print(\"Loading data..\")\n",
    "    X, Y = load_data(model_path)\n",
    "    classes = len(np.unique(Y))\n",
    "    print(\"X shape: {}\".format(X.shape))\n",
    "    return X, Y"
   ]
  },
  {
   "cell_type": "code",
   "execution_count": 11,
   "metadata": {},
   "outputs": [
    {
     "name": "stdout",
     "output_type": "stream",
     "text": [
      "1016867 vertices\n",
      "reading..\n"
     ]
    },
    {
     "name": "stderr",
     "output_type": "stream",
     "text": [
      "100%|██████████| 1016867/1016867 [00:11<00:00, 90387.66it/s]\n"
     ]
    },
    {
     "name": "stdout",
     "output_type": "stream",
     "text": [
      "Found 8215 singleton nodes\n",
      "Loading data..\n",
      "Labels not defined\n",
      "Labels not defined\n",
      "Labels not defined\n",
      "Labels not defined\n",
      "Labels not defined\n",
      "Labels not defined\n",
      "Labels not defined\n",
      "Labels not defined\n",
      "Labels not defined\n",
      "Labels not defined\n",
      "X shape: (1016179, 64)\n"
     ]
    },
    {
     "ename": "AssertionError",
     "evalue": "",
     "output_type": "error",
     "traceback": [
      "\u001b[0;31m---------------------------------------------------------------------------\u001b[0m",
      "\u001b[0;31mAssertionError\u001b[0m                            Traceback (most recent call last)",
      "\u001b[0;32m<ipython-input-11-f06c9516f70e>\u001b[0m in \u001b[0;36m<module>\u001b[0;34m\u001b[0m\n\u001b[1;32m      4\u001b[0m \u001b[0membeddings\u001b[0m \u001b[0;34m=\u001b[0m \u001b[0mload_XY\u001b[0m\u001b[0;34m(\u001b[0m\u001b[0mbasename\u001b[0m\u001b[0;34m)\u001b[0m\u001b[0;34m\u001b[0m\u001b[0;34m\u001b[0m\u001b[0m\n\u001b[1;32m      5\u001b[0m \u001b[0mX\u001b[0m \u001b[0;34m=\u001b[0m \u001b[0membeddings\u001b[0m\u001b[0;34m[\u001b[0m\u001b[0;36m0\u001b[0m\u001b[0;34m]\u001b[0m\u001b[0;34m\u001b[0m\u001b[0;34m\u001b[0m\u001b[0m\n\u001b[0;32m----> 6\u001b[0;31m \u001b[0;32massert\u001b[0m \u001b[0mlen\u001b[0m\u001b[0;34m(\u001b[0m\u001b[0mX\u001b[0m\u001b[0;34m)\u001b[0m \u001b[0;34m==\u001b[0m \u001b[0mlen\u001b[0m\u001b[0;34m(\u001b[0m\u001b[0mnodes\u001b[0m\u001b[0;34m)\u001b[0m\u001b[0;34m\u001b[0m\u001b[0;34m\u001b[0m\u001b[0m\n\u001b[0m",
      "\u001b[0;31mAssertionError\u001b[0m: "
     ]
    }
   ],
   "source": [
    "basename = \"itwiki-2013\"\n",
    "\n",
    "nodes = nodes_from_ascii(basename)\n",
    "embeddings = load_XY(basename)\n",
    "X = embeddings[0]\n",
    "assert len(X) == len(nodes)"
   ]
  },
  {
   "cell_type": "code",
   "execution_count": 12,
   "metadata": {},
   "outputs": [
    {
     "data": {
      "text/plain": [
       "1016179"
      ]
     },
     "execution_count": 12,
     "metadata": {},
     "output_type": "execute_result"
    }
   ],
   "source": [
    "len(X)"
   ]
  },
  {
   "cell_type": "code",
   "execution_count": 13,
   "metadata": {},
   "outputs": [
    {
     "data": {
      "text/plain": [
       "1016867"
      ]
     },
     "execution_count": 13,
     "metadata": {},
     "output_type": "execute_result"
    }
   ],
   "source": [
    "len(nodes)"
   ]
  },
  {
   "cell_type": "code",
   "execution_count": 8,
   "metadata": {},
   "outputs": [
    {
     "data": {
      "text/plain": [
       "[[1, 3, 8, 10, 255748, 353889, 436291, 643920],\n",
       " [0, 3, 4, 5, 10, 255748, 353889, 436291],\n",
       " [0, 201, 193566, 193671, 193694, 193861, 275965, 353889, 620194],\n",
       " [0, 1, 4, 8, 9, 255748, 353889, 436291],\n",
       " [1,\n",
       "  3,\n",
       "  5,\n",
       "  6,\n",
       "  9,\n",
       "  103786,\n",
       "  103788,\n",
       "  255748,\n",
       "  353889,\n",
       "  436291,\n",
       "  515060,\n",
       "  515063,\n",
       "  842247],\n",
       " [1, 4, 6, 7, 10, 255748, 353889, 436291],\n",
       " [4, 5, 7, 273, 276, 48105, 103786, 255748, 353889, 397214, 436291, 515158],\n",
       " [5, 6, 10, 270, 273, 255748, 353889, 391617, 436291, 515152, 515158],\n",
       " [0, 3, 9, 255748, 353889, 436291, 643919, 643920],\n",
       " [3, 4, 8, 255748, 353889, 436291, 643919, 643928, 643929, 842247]]"
      ]
     },
     "execution_count": 8,
     "metadata": {},
     "output_type": "execute_result"
    }
   ],
   "source": [
    "nodes[:10]"
   ]
  },
  {
   "cell_type": "code",
   "execution_count": 14,
   "metadata": {},
   "outputs": [
    {
     "data": {
      "text/plain": [
       "array([186403, 675690, 762181, 268272, 998819,  92536,  93525, 360313,\n",
       "       441827, 962691])"
      ]
     },
     "execution_count": 14,
     "metadata": {},
     "output_type": "execute_result"
    }
   ],
   "source": [
    "perm[:10]"
   ]
  },
  {
   "cell_type": "code",
   "execution_count": 10,
   "metadata": {},
   "outputs": [
    {
     "name": "stdout",
     "output_type": "stream",
     "text": [
      "Index trained: True\n",
      "Index total: 1016179\n"
     ]
    }
   ],
   "source": [
    "ent_list = get_entities_list(basename)\n",
    "perm = np.argsort(ent_list)\n",
    "X = X[perm]\n",
    "ind = train_search(X)"
   ]
  },
  {
   "cell_type": "code",
   "execution_count": 18,
   "metadata": {},
   "outputs": [],
   "source": [
    "from measure_map import map_score\n",
    "\n",
    "\n",
    "score, _, _ = map_score(X[:100], nodes[:100], ind)"
   ]
  },
  {
   "cell_type": "code",
   "execution_count": 19,
   "metadata": {},
   "outputs": [
    {
     "data": {
      "text/plain": [
       "0.0"
      ]
     },
     "execution_count": 19,
     "metadata": {},
     "output_type": "execute_result"
    }
   ],
   "source": [
    "score"
   ]
  },
  {
   "cell_type": "code",
   "execution_count": 24,
   "metadata": {},
   "outputs": [
    {
     "name": "stdout",
     "output_type": "stream",
     "text": [
      "Cabra de Mora\n",
      "\n",
      "Valbona\n",
      "\n",
      "Formiche Alto\n",
      "\n",
      "El Castellar\n",
      "\n",
      "Mora de Rubielos\n",
      "\n",
      "Comunità autonome della Spagna\n",
      "\n",
      "Spagna\n",
      "\n",
      "Aragona\n",
      "\n",
      "Alcalá de la Selva\n",
      "\n"
     ]
    }
   ],
   "source": [
    "f = \"/data/graphs/itwiki-2013/itwiki-2013.ids\"\n",
    "print(linecache.getline(f, 1))\n",
    "for i in nodes[0]:\n",
    "    print(linecache.getline(f, i + 1))"
   ]
  },
  {
   "cell_type": "code",
   "execution_count": 26,
   "metadata": {},
   "outputs": [],
   "source": [
    "_, I = ind.search(X[0].reshape(1, -1), 10)"
   ]
  },
  {
   "cell_type": "code",
   "execution_count": 28,
   "metadata": {},
   "outputs": [
    {
     "name": "stdout",
     "output_type": "stream",
     "text": [
      "Platinum Dunes\n",
      "\n",
      "Orzale\n",
      "\n",
      "Australian Men's Hardcourt Championships 1997 - Doppio\n",
      "\n",
      "Phanias\n",
      "\n",
      "Generazione perfetta\n",
      "\n",
      "La figlia del mio capo\n",
      "\n",
      "Ossario italiano di Crimea\n",
      "\n",
      "Atmosfera tecnica\n",
      "\n",
      "Movie 43\n",
      "\n",
      "Diga di Egschi\n",
      "\n"
     ]
    }
   ],
   "source": [
    "for i in I.flatten():\n",
    "    print(linecache.getline(f, i + 1))"
   ]
  },
  {
   "cell_type": "code",
   "execution_count": 29,
   "metadata": {},
   "outputs": [
    {
     "name": "stdout",
     "output_type": "stream",
     "text": [
      "Loading data..\n",
      "Labels not defined\n",
      "Labels not defined\n",
      "Labels not defined\n",
      "Labels not defined\n",
      "Labels not defined\n",
      "Labels not defined\n",
      "Labels not defined\n",
      "Labels not defined\n",
      "Labels not defined\n",
      "Labels not defined\n",
      "X shape: (1016179, 64)\n"
     ]
    }
   ],
   "source": [
    "embeddings = load_XY(basename)"
   ]
  },
  {
   "cell_type": "code",
   "execution_count": 30,
   "metadata": {},
   "outputs": [],
   "source": [
    "X = embeddings[0]"
   ]
  },
  {
   "cell_type": "code",
   "execution_count": 31,
   "metadata": {},
   "outputs": [
    {
     "data": {
      "text/plain": [
       "(1016179, 64)"
      ]
     },
     "execution_count": 31,
     "metadata": {},
     "output_type": "execute_result"
    }
   ],
   "source": [
    "X.shape"
   ]
  },
  {
   "cell_type": "code",
   "execution_count": 32,
   "metadata": {},
   "outputs": [
    {
     "name": "stdout",
     "output_type": "stream",
     "text": [
      "Index trained: True\n",
      "Index total: 1016179\n"
     ]
    }
   ],
   "source": [
    "ind = train_search(X)"
   ]
  },
  {
   "cell_type": "code",
   "execution_count": 33,
   "metadata": {},
   "outputs": [],
   "source": [
    "_, I = ind.search(X[0].reshape(1, -1), 10)"
   ]
  },
  {
   "cell_type": "code",
   "execution_count": 55,
   "metadata": {},
   "outputs": [
    {
     "name": "stdout",
     "output_type": "stream",
     "text": [
      "Platinum Dunes\n",
      "\n",
      "Platinum Dunes\n",
      "\n",
      "Generazione perfetta\n",
      "\n",
      "La figlia del mio capo\n",
      "\n",
      "Movie 43\n",
      "\n",
      "Big Mama - Tale padre, tale figlio\n",
      "\n",
      "The Roommate - Il terrore ti dorme accanto\n",
      "\n",
      "Il gatto... e il cappello matto\n",
      "\n",
      "Gigolò per sbaglio\n",
      "\n",
      "After.Life\n",
      "\n",
      "David Twohy\n",
      "\n"
     ]
    }
   ],
   "source": [
    "print(linecache.getline(f, ent_list[0] + 1))\n",
    "for i in I.flatten():\n",
    "    line = ent_list[i] + 1\n",
    "    print(linecache.getline(f, line))"
   ]
  },
  {
   "cell_type": "code",
   "execution_count": 37,
   "metadata": {},
   "outputs": [
    {
     "data": {
      "text/plain": [
       "(101618, 64)"
      ]
     },
     "execution_count": 37,
     "metadata": {},
     "output_type": "execute_result"
    }
   ],
   "source": [
    "model_path = Path(\"/data/models\") / basename\n",
    "with (model_path / \"entity_names_link_0.json\").open() as tf:\n",
    "    entities_list = json.load(tf)\n",
    "hf_path = list(model_path.glob(\"embeddings_link_0*.h5\"))[0]\n",
    "hf = h5py.File(hf_path)\n",
    "x = hf[\"embeddings\"][:]\n",
    "x.shape"
   ]
  },
  {
   "cell_type": "code",
   "execution_count": 43,
   "metadata": {},
   "outputs": [
    {
     "name": "stdout",
     "output_type": "stream",
     "text": [
      "Index trained: True\n",
      "Index total: 101618\n"
     ]
    }
   ],
   "source": [
    "idx = train_search(x)"
   ]
  },
  {
   "cell_type": "code",
   "execution_count": 62,
   "metadata": {},
   "outputs": [],
   "source": [
    "_, I = idx.search(x[0].reshape(1, -1), 20)"
   ]
  },
  {
   "cell_type": "code",
   "execution_count": 63,
   "metadata": {},
   "outputs": [
    {
     "data": {
      "text/plain": [
       "array([[    0, 85607, 51742, 41295, 79546, 33805, 68130, 31444, 99764,\n",
       "        68186, 96999, 65176,  5788,   761, 65523, 76619, 88221, 85566,\n",
       "        76691, 96717]])"
      ]
     },
     "execution_count": 63,
     "metadata": {},
     "output_type": "execute_result"
    }
   ],
   "source": [
    "I"
   ]
  },
  {
   "cell_type": "code",
   "execution_count": 64,
   "metadata": {},
   "outputs": [
    {
     "name": "stdout",
     "output_type": "stream",
     "text": [
      "Platinum Dunes\n",
      "\n",
      "Generazione perfetta\n",
      "\n",
      "La figlia del mio capo\n",
      "\n",
      "Movie 43\n",
      "\n",
      "Big Mama - Tale padre, tale figlio\n",
      "\n",
      "The Roommate - Il terrore ti dorme accanto\n",
      "\n",
      "Il gatto... e il cappello matto\n",
      "\n",
      "Gigolò per sbaglio\n",
      "\n",
      "After.Life\n",
      "\n",
      "David Twohy\n",
      "\n",
      "Ti presento Bill\n",
      "\n",
      "The Boondock Saints 2 - Il giorno di Ognissanti\n",
      "\n",
      "Chestnut - Un eroe a quattro zampe\n",
      "\n",
      "Accerchiato\n",
      "\n",
      "Best Men - Amici per la pelle\n",
      "\n",
      "The Weinstein Company\n",
      "\n",
      "MTV Movie Awards 2002\n",
      "\n",
      "One for the Money\n",
      "\n",
      "Cenerentola e gli 007 nani\n",
      "\n",
      "Ho rapito Sinatra\n",
      "\n"
     ]
    }
   ],
   "source": [
    "for i in I.flatten():\n",
    "    line = ent_list[i] + 1\n",
    "    print(linecache.getline(f, line))"
   ]
  },
  {
   "cell_type": "code",
   "execution_count": 61,
   "metadata": {},
   "outputs": [
    {
     "name": "stdout",
     "output_type": "stream",
     "text": [
      "Platinum Dunes\n",
      "\n",
      "2013\n",
      "\n",
      "Non aprite quella porta (film 2003)\n",
      "\n",
      "Non aprite quella porta - L'inizio\n",
      "\n",
      "Suda e cresci\n",
      "\n",
      "Il mai nato\n",
      "\n",
      "Michael Bay\n",
      "\n",
      "Film\n",
      "\n",
      "Los Angeles\n",
      "\n",
      "2001\n",
      "\n",
      "Amityville Horror (film 2005)\n",
      "\n",
      "Novembre\n",
      "\n",
      "The Horsemen\n",
      "\n",
      "The Hitcher (film 2007)\n",
      "\n",
      "Nightmare (film 2010)\n",
      "\n",
      "Venerdì 13 (film 2009)\n",
      "\n"
     ]
    }
   ],
   "source": [
    "temp = ent_list[0]\n",
    "print(linecache.getline(f, temp + 1))\n",
    "for i in nodes[temp]:\n",
    "    print(linecache.getline(f, i + 1))"
   ]
  }
 ],
 "metadata": {
  "kernelspec": {
   "display_name": "Python 3",
   "language": "python",
   "name": "python3"
  },
  "language_info": {
   "codemirror_mode": {
    "name": "ipython",
    "version": 3
   },
   "file_extension": ".py",
   "mimetype": "text/x-python",
   "name": "python",
   "nbconvert_exporter": "python",
   "pygments_lexer": "ipython3",
   "version": "3.6.9"
  }
 },
 "nbformat": 4,
 "nbformat_minor": 2
}
